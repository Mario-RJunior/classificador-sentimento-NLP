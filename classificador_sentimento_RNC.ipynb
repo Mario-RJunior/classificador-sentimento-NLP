{
  "nbformat": 4,
  "nbformat_minor": 0,
  "metadata": {
    "colab": {
      "name": "classificador-sentimento-RNC.ipynb",
      "provenance": [],
      "authorship_tag": "ABX9TyM7hFeUxZXg+yHw09aqDtt8",
      "include_colab_link": true
    },
    "kernelspec": {
      "name": "python3",
      "display_name": "Python 3"
    }
  },
  "cells": [
    {
      "cell_type": "markdown",
      "metadata": {
        "id": "view-in-github",
        "colab_type": "text"
      },
      "source": [
        "<a href=\"https://colab.research.google.com/github/Mario-RJunior/classificador-sentimento-NLP/blob/main/classificador_sentimento_RNC.ipynb\" target=\"_parent\"><img src=\"https://colab.research.google.com/assets/colab-badge.svg\" alt=\"Open In Colab\"/></a>"
      ]
    },
    {
      "cell_type": "markdown",
      "metadata": {
        "id": "QNTXDc1AoJMg"
      },
      "source": [
        "# Classificador de Sentimento\r\n",
        "\r\n",
        "## 1) Introdução\r\n",
        "\r\n",
        "Neste projeto iremos desenvolver um classificador de sentimentos e para isso utilizaremos uma base contendo dados de usuários do Twitter.\r\n",
        "\r\n",
        "Esta base estará estruturada da seguinte com as seguintes colunas:\r\n",
        "- ***sentiment***: 0 e 1 (negativo e positivo).\r\n",
        "- ***id***: número de identificação do comentário.\r\n",
        "- ***date***: data da postagem.\r\n",
        "- ***query***: pesquisa realizada.\r\n",
        "-\t***user***: usuário da postagem.\r\n",
        "- ***text***: texto que queremos classificar.\r\n",
        "\r\n",
        "Agora, iremos importar as bibliotecas que usaremos neste estudo.\r\n",
        "\r\n",
        "## 2) Importação das bibliotecas"
      ]
    },
    {
      "cell_type": "code",
      "metadata": {
        "id": "jMKMxQdTsBgX"
      },
      "source": [
        "# Importando as bibliotecas\r\n",
        "import numpy as np\r\n",
        "import math\r\n",
        "import re\r\n",
        "import pandas as pd\r\n",
        "from bs4 import BeautifulSoup\r\n",
        "from google.colab import drive\r\n",
        "import zipfile\r\n",
        "import seaborn as sns\r\n",
        "import spacy as sp\r\n",
        "import string\r\n",
        "import random\r\n",
        "import matplotlib.pyplot as plt"
      ],
      "execution_count": 1,
      "outputs": []
    },
    {
      "cell_type": "code",
      "metadata": {
        "id": "cy5QmGwh9G1M",
        "colab": {
          "base_uri": "https://localhost:8080/",
          "height": 35
        },
        "outputId": "034d4b51-1d4e-42ea-fccc-3e3f7b7c74d4"
      },
      "source": [
        "# Selecionando a versão do tensorflow\r\n",
        "%tensorflow_version 2.x\r\n",
        "\r\n",
        "# importando o tensorflow\r\n",
        "import tensorflow as tf\r\n",
        "\r\n",
        "# Visualizando a versão do tensorflow\r\n",
        "tf.__version__"
      ],
      "execution_count": 2,
      "outputs": [
        {
          "output_type": "execute_result",
          "data": {
            "application/vnd.google.colaboratory.intrinsic+json": {
              "type": "string"
            },
            "text/plain": [
              "'2.4.0'"
            ]
          },
          "metadata": {
            "tags": []
          },
          "execution_count": 2
        }
      ]
    },
    {
      "cell_type": "code",
      "metadata": {
        "id": "QYGbYyqw9iFy"
      },
      "source": [
        "# Importando recursos específicos do tensorflow\r\n",
        "from tensorflow.keras import layers\r\n",
        "import tensorflow_datasets as tfds"
      ],
      "execution_count": 3,
      "outputs": []
    },
    {
      "cell_type": "markdown",
      "metadata": {
        "id": "uQwWoLSH9aDB"
      },
      "source": [
        "## 3) Pré-processamento dos dados"
      ]
    },
    {
      "cell_type": "markdown",
      "metadata": {
        "id": "z9aq4QKv9e5L"
      },
      "source": [
        "### 3.1) Carregamento dos arquivos"
      ]
    },
    {
      "cell_type": "code",
      "metadata": {
        "colab": {
          "base_uri": "https://localhost:8080/"
        },
        "id": "j7uffomd9zRC",
        "outputId": "e8203b1d-8c3a-437e-fc1e-08a0ab37132b"
      },
      "source": [
        "# Conectando com o Google Drive\r\n",
        "drive.mount('/content/drive')"
      ],
      "execution_count": 4,
      "outputs": [
        {
          "output_type": "stream",
          "text": [
            "Drive already mounted at /content/drive; to attempt to forcibly remount, call drive.mount(\"/content/drive\", force_remount=True).\n"
          ],
          "name": "stdout"
        }
      ]
    },
    {
      "cell_type": "code",
      "metadata": {
        "id": "PbL19RVF-eMx"
      },
      "source": [
        "# Caminho para acesso ao arquivo\r\n",
        "path = '/content/drive/MyDrive/NLP/trainingandtestdata.zip'\r\n",
        "\r\n",
        "# Descompactando o arquivo\r\n",
        "zip_object = zipfile.ZipFile(path, mode='r')\r\n",
        "zip_object.extractall('./')\r\n",
        "zip_object.close()"
      ],
      "execution_count": 5,
      "outputs": []
    },
    {
      "cell_type": "code",
      "metadata": {
        "id": "E4dUkQiV_uec"
      },
      "source": [
        "# Criando colunas para usar no dataframe\r\n",
        "cols = ['sentiment', 'id', 'date', 'query', 'user', 'text']"
      ],
      "execution_count": 6,
      "outputs": []
    },
    {
      "cell_type": "code",
      "metadata": {
        "id": "CqQlEYhS9dfG"
      },
      "source": [
        "# Criando dataframe\r\n",
        "train_data = pd.read_csv('/content/trainingandtestdata/train.csv', \r\n",
        "                        encoding='latin1',\r\n",
        "                        names=cols,\r\n",
        "                        header=None,\r\n",
        "                        engine='python')"
      ],
      "execution_count": 7,
      "outputs": []
    },
    {
      "cell_type": "code",
      "metadata": {
        "colab": {
          "base_uri": "https://localhost:8080/"
        },
        "id": "hT3Tn5FU_fkb",
        "outputId": "744247c0-ccda-4c3d-e074-5fac97c026ef"
      },
      "source": [
        "# Visualizando o shape do dataframe\r\n",
        "train_data.shape"
      ],
      "execution_count": 8,
      "outputs": [
        {
          "output_type": "execute_result",
          "data": {
            "text/plain": [
              "(1600000, 6)"
            ]
          },
          "metadata": {
            "tags": []
          },
          "execution_count": 8
        }
      ]
    },
    {
      "cell_type": "code",
      "metadata": {
        "colab": {
          "base_uri": "https://localhost:8080/",
          "height": 204
        },
        "id": "Z2gUe1ezA9nF",
        "outputId": "473f8b96-b31e-4c26-defd-c84cdfc66957"
      },
      "source": [
        "# Visualizando os primeiros registros\r\n",
        "train_data.head()"
      ],
      "execution_count": 9,
      "outputs": [
        {
          "output_type": "execute_result",
          "data": {
            "text/html": [
              "<div>\n",
              "<style scoped>\n",
              "    .dataframe tbody tr th:only-of-type {\n",
              "        vertical-align: middle;\n",
              "    }\n",
              "\n",
              "    .dataframe tbody tr th {\n",
              "        vertical-align: top;\n",
              "    }\n",
              "\n",
              "    .dataframe thead th {\n",
              "        text-align: right;\n",
              "    }\n",
              "</style>\n",
              "<table border=\"1\" class=\"dataframe\">\n",
              "  <thead>\n",
              "    <tr style=\"text-align: right;\">\n",
              "      <th></th>\n",
              "      <th>sentiment</th>\n",
              "      <th>id</th>\n",
              "      <th>date</th>\n",
              "      <th>query</th>\n",
              "      <th>user</th>\n",
              "      <th>text</th>\n",
              "    </tr>\n",
              "  </thead>\n",
              "  <tbody>\n",
              "    <tr>\n",
              "      <th>0</th>\n",
              "      <td>0</td>\n",
              "      <td>1467810369</td>\n",
              "      <td>Mon Apr 06 22:19:45 PDT 2009</td>\n",
              "      <td>NO_QUERY</td>\n",
              "      <td>_TheSpecialOne_</td>\n",
              "      <td>@switchfoot http://twitpic.com/2y1zl - Awww, t...</td>\n",
              "    </tr>\n",
              "    <tr>\n",
              "      <th>1</th>\n",
              "      <td>0</td>\n",
              "      <td>1467810672</td>\n",
              "      <td>Mon Apr 06 22:19:49 PDT 2009</td>\n",
              "      <td>NO_QUERY</td>\n",
              "      <td>scotthamilton</td>\n",
              "      <td>is upset that he can't update his Facebook by ...</td>\n",
              "    </tr>\n",
              "    <tr>\n",
              "      <th>2</th>\n",
              "      <td>0</td>\n",
              "      <td>1467810917</td>\n",
              "      <td>Mon Apr 06 22:19:53 PDT 2009</td>\n",
              "      <td>NO_QUERY</td>\n",
              "      <td>mattycus</td>\n",
              "      <td>@Kenichan I dived many times for the ball. Man...</td>\n",
              "    </tr>\n",
              "    <tr>\n",
              "      <th>3</th>\n",
              "      <td>0</td>\n",
              "      <td>1467811184</td>\n",
              "      <td>Mon Apr 06 22:19:57 PDT 2009</td>\n",
              "      <td>NO_QUERY</td>\n",
              "      <td>ElleCTF</td>\n",
              "      <td>my whole body feels itchy and like its on fire</td>\n",
              "    </tr>\n",
              "    <tr>\n",
              "      <th>4</th>\n",
              "      <td>0</td>\n",
              "      <td>1467811193</td>\n",
              "      <td>Mon Apr 06 22:19:57 PDT 2009</td>\n",
              "      <td>NO_QUERY</td>\n",
              "      <td>Karoli</td>\n",
              "      <td>@nationwideclass no, it's not behaving at all....</td>\n",
              "    </tr>\n",
              "  </tbody>\n",
              "</table>\n",
              "</div>"
            ],
            "text/plain": [
              "   sentiment  ...                                               text\n",
              "0          0  ...  @switchfoot http://twitpic.com/2y1zl - Awww, t...\n",
              "1          0  ...  is upset that he can't update his Facebook by ...\n",
              "2          0  ...  @Kenichan I dived many times for the ball. Man...\n",
              "3          0  ...    my whole body feels itchy and like its on fire \n",
              "4          0  ...  @nationwideclass no, it's not behaving at all....\n",
              "\n",
              "[5 rows x 6 columns]"
            ]
          },
          "metadata": {
            "tags": []
          },
          "execution_count": 9
        }
      ]
    },
    {
      "cell_type": "code",
      "metadata": {
        "colab": {
          "base_uri": "https://localhost:8080/",
          "height": 204
        },
        "id": "yI60Qt7EBBwR",
        "outputId": "70142b45-6809-452b-93d4-1490da4c3184"
      },
      "source": [
        "# Visualizando os últimos registros\r\n",
        "train_data.tail()"
      ],
      "execution_count": 10,
      "outputs": [
        {
          "output_type": "execute_result",
          "data": {
            "text/html": [
              "<div>\n",
              "<style scoped>\n",
              "    .dataframe tbody tr th:only-of-type {\n",
              "        vertical-align: middle;\n",
              "    }\n",
              "\n",
              "    .dataframe tbody tr th {\n",
              "        vertical-align: top;\n",
              "    }\n",
              "\n",
              "    .dataframe thead th {\n",
              "        text-align: right;\n",
              "    }\n",
              "</style>\n",
              "<table border=\"1\" class=\"dataframe\">\n",
              "  <thead>\n",
              "    <tr style=\"text-align: right;\">\n",
              "      <th></th>\n",
              "      <th>sentiment</th>\n",
              "      <th>id</th>\n",
              "      <th>date</th>\n",
              "      <th>query</th>\n",
              "      <th>user</th>\n",
              "      <th>text</th>\n",
              "    </tr>\n",
              "  </thead>\n",
              "  <tbody>\n",
              "    <tr>\n",
              "      <th>1599995</th>\n",
              "      <td>4</td>\n",
              "      <td>2193601966</td>\n",
              "      <td>Tue Jun 16 08:40:49 PDT 2009</td>\n",
              "      <td>NO_QUERY</td>\n",
              "      <td>AmandaMarie1028</td>\n",
              "      <td>Just woke up. Having no school is the best fee...</td>\n",
              "    </tr>\n",
              "    <tr>\n",
              "      <th>1599996</th>\n",
              "      <td>4</td>\n",
              "      <td>2193601969</td>\n",
              "      <td>Tue Jun 16 08:40:49 PDT 2009</td>\n",
              "      <td>NO_QUERY</td>\n",
              "      <td>TheWDBoards</td>\n",
              "      <td>TheWDB.com - Very cool to hear old Walt interv...</td>\n",
              "    </tr>\n",
              "    <tr>\n",
              "      <th>1599997</th>\n",
              "      <td>4</td>\n",
              "      <td>2193601991</td>\n",
              "      <td>Tue Jun 16 08:40:49 PDT 2009</td>\n",
              "      <td>NO_QUERY</td>\n",
              "      <td>bpbabe</td>\n",
              "      <td>Are you ready for your MoJo Makeover? Ask me f...</td>\n",
              "    </tr>\n",
              "    <tr>\n",
              "      <th>1599998</th>\n",
              "      <td>4</td>\n",
              "      <td>2193602064</td>\n",
              "      <td>Tue Jun 16 08:40:49 PDT 2009</td>\n",
              "      <td>NO_QUERY</td>\n",
              "      <td>tinydiamondz</td>\n",
              "      <td>Happy 38th Birthday to my boo of alll time!!! ...</td>\n",
              "    </tr>\n",
              "    <tr>\n",
              "      <th>1599999</th>\n",
              "      <td>4</td>\n",
              "      <td>2193602129</td>\n",
              "      <td>Tue Jun 16 08:40:50 PDT 2009</td>\n",
              "      <td>NO_QUERY</td>\n",
              "      <td>RyanTrevMorris</td>\n",
              "      <td>happy #charitytuesday @theNSPCC @SparksCharity...</td>\n",
              "    </tr>\n",
              "  </tbody>\n",
              "</table>\n",
              "</div>"
            ],
            "text/plain": [
              "         sentiment  ...                                               text\n",
              "1599995          4  ...  Just woke up. Having no school is the best fee...\n",
              "1599996          4  ...  TheWDB.com - Very cool to hear old Walt interv...\n",
              "1599997          4  ...  Are you ready for your MoJo Makeover? Ask me f...\n",
              "1599998          4  ...  Happy 38th Birthday to my boo of alll time!!! ...\n",
              "1599999          4  ...  happy #charitytuesday @theNSPCC @SparksCharity...\n",
              "\n",
              "[5 rows x 6 columns]"
            ]
          },
          "metadata": {
            "tags": []
          },
          "execution_count": 10
        }
      ]
    },
    {
      "cell_type": "code",
      "metadata": {
        "colab": {
          "base_uri": "https://localhost:8080/"
        },
        "id": "ZHbQi1p4BFb0",
        "outputId": "51aa5cad-f2ff-4f69-9883-61c336a352f3"
      },
      "source": [
        "# Visualizando os valores da classe\r\n",
        "train_data['sentiment'].unique()"
      ],
      "execution_count": 11,
      "outputs": [
        {
          "output_type": "execute_result",
          "data": {
            "text/plain": [
              "array([0, 4])"
            ]
          },
          "metadata": {
            "tags": []
          },
          "execution_count": 11
        }
      ]
    },
    {
      "cell_type": "code",
      "metadata": {
        "colab": {
          "base_uri": "https://localhost:8080/",
          "height": 279
        },
        "id": "EMq3q0STBkPF",
        "outputId": "a919767d-513b-4503-c55f-4a636c78a084"
      },
      "source": [
        "# Contagem da classe\r\n",
        "sns.countplot(data=train_data, x='sentiment');"
      ],
      "execution_count": 12,
      "outputs": [
        {
          "output_type": "display_data",
          "data": {
            "image/png": "[encoded data removed]",
            "text/plain": [
              "<Figure size 432x288 with 1 Axes>"
            ]
          },
          "metadata": {
            "tags": [],
            "needs_background": "light"
          }
        }
      ]
    },
    {
      "cell_type": "markdown",
      "metadata": {
        "id": "6wtdlZgoByby"
      },
      "source": [
        "Vemos portando que a base não está desbalanceada. Criaremos agora a base de testes.\r\n",
        "\r\n"
      ]
    },
    {
      "cell_type": "code",
      "metadata": {
        "id": "QU853J6WBrj5"
      },
      "source": [
        "# Criação da base de testes\r\n",
        "test_data = pd.read_csv('/content/trainingandtestdata/test.csv', \r\n",
        "                        encoding='latin1',\r\n",
        "                        names=cols,\r\n",
        "                        header=None,\r\n",
        "                        engine='python')"
      ],
      "execution_count": 13,
      "outputs": []
    },
    {
      "cell_type": "code",
      "metadata": {
        "colab": {
          "base_uri": "https://localhost:8080/",
          "height": 204
        },
        "id": "_xDXD4VkCp7j",
        "outputId": "5dfe8247-f8a2-4fbe-ef47-88b7eecbb7a2"
      },
      "source": [
        "# Visualizando os primeiros registros\r\n",
        "test_data.head()"
      ],
      "execution_count": 14,
      "outputs": [
        {
          "output_type": "execute_result",
          "data": {
            "text/html": [
              "<div>\n",
              "<style scoped>\n",
              "    .dataframe tbody tr th:only-of-type {\n",
              "        vertical-align: middle;\n",
              "    }\n",
              "\n",
              "    .dataframe tbody tr th {\n",
              "        vertical-align: top;\n",
              "    }\n",
              "\n",
              "    .dataframe thead th {\n",
              "        text-align: right;\n",
              "    }\n",
              "</style>\n",
              "<table border=\"1\" class=\"dataframe\">\n",
              "  <thead>\n",
              "    <tr style=\"text-align: right;\">\n",
              "      <th></th>\n",
              "      <th>sentiment</th>\n",
              "      <th>id</th>\n",
              "      <th>date</th>\n",
              "      <th>query</th>\n",
              "      <th>user</th>\n",
              "      <th>text</th>\n",
              "    </tr>\n",
              "  </thead>\n",
              "  <tbody>\n",
              "    <tr>\n",
              "      <th>0</th>\n",
              "      <td>4</td>\n",
              "      <td>3</td>\n",
              "      <td>Mon May 11 03:17:40 UTC 2009</td>\n",
              "      <td>kindle2</td>\n",
              "      <td>tpryan</td>\n",
              "      <td>@stellargirl I loooooooovvvvvveee my Kindle2. ...</td>\n",
              "    </tr>\n",
              "    <tr>\n",
              "      <th>1</th>\n",
              "      <td>4</td>\n",
              "      <td>4</td>\n",
              "      <td>Mon May 11 03:18:03 UTC 2009</td>\n",
              "      <td>kindle2</td>\n",
              "      <td>vcu451</td>\n",
              "      <td>Reading my kindle2...  Love it... Lee childs i...</td>\n",
              "    </tr>\n",
              "    <tr>\n",
              "      <th>2</th>\n",
              "      <td>4</td>\n",
              "      <td>5</td>\n",
              "      <td>Mon May 11 03:18:54 UTC 2009</td>\n",
              "      <td>kindle2</td>\n",
              "      <td>chadfu</td>\n",
              "      <td>Ok, first assesment of the #kindle2 ...it fuck...</td>\n",
              "    </tr>\n",
              "    <tr>\n",
              "      <th>3</th>\n",
              "      <td>4</td>\n",
              "      <td>6</td>\n",
              "      <td>Mon May 11 03:19:04 UTC 2009</td>\n",
              "      <td>kindle2</td>\n",
              "      <td>SIX15</td>\n",
              "      <td>@kenburbary You'll love your Kindle2. I've had...</td>\n",
              "    </tr>\n",
              "    <tr>\n",
              "      <th>4</th>\n",
              "      <td>4</td>\n",
              "      <td>7</td>\n",
              "      <td>Mon May 11 03:21:41 UTC 2009</td>\n",
              "      <td>kindle2</td>\n",
              "      <td>yamarama</td>\n",
              "      <td>@mikefish  Fair enough. But i have the Kindle2...</td>\n",
              "    </tr>\n",
              "  </tbody>\n",
              "</table>\n",
              "</div>"
            ],
            "text/plain": [
              "   sentiment  id  ...      user                                               text\n",
              "0          4   3  ...    tpryan  @stellargirl I loooooooovvvvvveee my Kindle2. ...\n",
              "1          4   4  ...    vcu451  Reading my kindle2...  Love it... Lee childs i...\n",
              "2          4   5  ...    chadfu  Ok, first assesment of the #kindle2 ...it fuck...\n",
              "3          4   6  ...     SIX15  @kenburbary You'll love your Kindle2. I've had...\n",
              "4          4   7  ...  yamarama  @mikefish  Fair enough. But i have the Kindle2...\n",
              "\n",
              "[5 rows x 6 columns]"
            ]
          },
          "metadata": {
            "tags": []
          },
          "execution_count": 14
        }
      ]
    },
    {
      "cell_type": "code",
      "metadata": {
        "colab": {
          "base_uri": "https://localhost:8080/"
        },
        "id": "Qwj6k3TdCbJa",
        "outputId": "49ebbd67-d8a5-4b7b-9daa-bd90d0b89bf8"
      },
      "source": [
        "# Visualizando o shape\r\n",
        "test_data.shape"
      ],
      "execution_count": 15,
      "outputs": [
        {
          "output_type": "execute_result",
          "data": {
            "text/plain": [
              "(498, 6)"
            ]
          },
          "metadata": {
            "tags": []
          },
          "execution_count": 15
        }
      ]
    },
    {
      "cell_type": "code",
      "metadata": {
        "colab": {
          "base_uri": "https://localhost:8080/"
        },
        "id": "eOZSUy2ICetX",
        "outputId": "d81ffed1-7595-4d88-9ebf-64fbafc75580"
      },
      "source": [
        "# Valores únicos dos sentimentos da base de testes\r\n",
        "test_data['sentiment'].unique()"
      ],
      "execution_count": 16,
      "outputs": [
        {
          "output_type": "execute_result",
          "data": {
            "text/plain": [
              "array([4, 0, 2])"
            ]
          },
          "metadata": {
            "tags": []
          },
          "execution_count": 16
        }
      ]
    },
    {
      "cell_type": "code",
      "metadata": {
        "colab": {
          "base_uri": "https://localhost:8080/",
          "height": 279
        },
        "id": "Y1it8nx-CmxN",
        "outputId": "67d116ee-6a47-4703-f607-779217bd3073"
      },
      "source": [
        "# Contagem da classe\r\n",
        "sns.countplot(data=test_data, x='sentiment');"
      ],
      "execution_count": 17,
      "outputs": [
        {
          "output_type": "display_data",
          "data": {
            "image/png": "[encoded data removed]",
            "text/plain": [
              "<Figure size 432x288 with 1 Axes>"
            ]
          },
          "metadata": {
            "tags": [],
            "needs_background": "light"
          }
        }
      ]
    },
    {
      "cell_type": "markdown",
      "metadata": {
        "id": "HOPCHJEZDNSx"
      },
      "source": [
        "Notamos que a base de testes tem uma estrutura diferente dos \"sentimentos\" em relação à base de treinos, apresentando um sentimento \"neutro\". Por isso não iremos utilizá-la e faremos toda a nossa análise na própria base de treinos."
      ]
    },
    {
      "cell_type": "markdown",
      "metadata": {
        "id": "gIhWhKM4vfdz"
      },
      "source": [
        "### 3.2) Separando a base de dados\r\n",
        "\r\n",
        "Antes de fazer a limpeza iremos criar um outro dataframe excluindo as colunas desnecessárias e a seguir separaremos uma amostra com 15% da base original para fazer o treinamento do modelo."
      ]
    },
    {
      "cell_type": "code",
      "metadata": {
        "colab": {
          "base_uri": "https://localhost:8080/",
          "height": 0
        },
        "id": "O9uW5U8Uvezg",
        "outputId": "00057b24-f853-44d2-83db-8b33ab2c18bf"
      },
      "source": [
        "# Criando novo dataframe\r\n",
        "data = train_data\r\n",
        "\r\n",
        "# Deletando colunas desnecessárias\r\n",
        "data.drop(axis=1, columns=['id', 'date', 'query', 'user'], inplace=True)\r\n",
        "\r\n",
        "# Visualizando o novo dataframe\r\n",
        "data.head()"
      ],
      "execution_count": 18,
      "outputs": [
        {
          "output_type": "execute_result",
          "data": {
            "text/html": [
              "<div>\n",
              "<style scoped>\n",
              "    .dataframe tbody tr th:only-of-type {\n",
              "        vertical-align: middle;\n",
              "    }\n",
              "\n",
              "    .dataframe tbody tr th {\n",
              "        vertical-align: top;\n",
              "    }\n",
              "\n",
              "    .dataframe thead th {\n",
              "        text-align: right;\n",
              "    }\n",
              "</style>\n",
              "<table border=\"1\" class=\"dataframe\">\n",
              "  <thead>\n",
              "    <tr style=\"text-align: right;\">\n",
              "      <th></th>\n",
              "      <th>sentiment</th>\n",
              "      <th>text</th>\n",
              "    </tr>\n",
              "  </thead>\n",
              "  <tbody>\n",
              "    <tr>\n",
              "      <th>0</th>\n",
              "      <td>0</td>\n",
              "      <td>@switchfoot http://twitpic.com/2y1zl - Awww, t...</td>\n",
              "    </tr>\n",
              "    <tr>\n",
              "      <th>1</th>\n",
              "      <td>0</td>\n",
              "      <td>is upset that he can't update his Facebook by ...</td>\n",
              "    </tr>\n",
              "    <tr>\n",
              "      <th>2</th>\n",
              "      <td>0</td>\n",
              "      <td>@Kenichan I dived many times for the ball. Man...</td>\n",
              "    </tr>\n",
              "    <tr>\n",
              "      <th>3</th>\n",
              "      <td>0</td>\n",
              "      <td>my whole body feels itchy and like its on fire</td>\n",
              "    </tr>\n",
              "    <tr>\n",
              "      <th>4</th>\n",
              "      <td>0</td>\n",
              "      <td>@nationwideclass no, it's not behaving at all....</td>\n",
              "    </tr>\n",
              "  </tbody>\n",
              "</table>\n",
              "</div>"
            ],
            "text/plain": [
              "   sentiment                                               text\n",
              "0          0  @switchfoot http://twitpic.com/2y1zl - Awww, t...\n",
              "1          0  is upset that he can't update his Facebook by ...\n",
              "2          0  @Kenichan I dived many times for the ball. Man...\n",
              "3          0    my whole body feels itchy and like its on fire \n",
              "4          0  @nationwideclass no, it's not behaving at all...."
            ]
          },
          "metadata": {
            "tags": []
          },
          "execution_count": 18
        }
      ]
    },
    {
      "cell_type": "markdown",
      "metadata": {
        "id": "3x4d52Iewf7l"
      },
      "source": [
        "- Criando feature e classe"
      ]
    },
    {
      "cell_type": "code",
      "metadata": {
        "id": "7e0wU09LslrO"
      },
      "source": [
        "# Feature dos textos\r\n",
        "X = data.iloc[:, 1].values\r\n",
        "\r\n",
        "# Classe\r\n",
        "y = data.iloc[:, 0].values"
      ],
      "execution_count": 19,
      "outputs": []
    },
    {
      "cell_type": "code",
      "metadata": {
        "colab": {
          "base_uri": "https://localhost:8080/"
        },
        "id": "AHoc_CBbwqbs",
        "outputId": "1b074bc1-26f3-4acd-b706-8b1a438ffe04"
      },
      "source": [
        "# Visualizando o array X\r\n",
        "X"
      ],
      "execution_count": 20,
      "outputs": [
        {
          "output_type": "execute_result",
          "data": {
            "text/plain": [
              "array([\"@switchfoot http://twitpic.com/2y1zl - Awww, that's a bummer.  You shoulda got David Carr of Third Day to do it. ;D\",\n",
              "       \"is upset that he can't update his Facebook by texting it... and might cry as a result  School today also. Blah!\",\n",
              "       '@Kenichan I dived many times for the ball. Managed to save 50%  The rest go out of bounds',\n",
              "       ..., 'Are you ready for your MoJo Makeover? Ask me for details ',\n",
              "       'Happy 38th Birthday to my boo of alll time!!! Tupac Amaru Shakur ',\n",
              "       'happy #charitytuesday @theNSPCC @SparksCharity @SpeakingUpH4H '],\n",
              "      dtype=object)"
            ]
          },
          "metadata": {
            "tags": []
          },
          "execution_count": 20
        }
      ]
    },
    {
      "cell_type": "code",
      "metadata": {
        "colab": {
          "base_uri": "https://localhost:8080/"
        },
        "id": "APbpTeR4w-tx",
        "outputId": "ca523ee6-829d-4780-8ef9-5cc9c51ffd1e"
      },
      "source": [
        "# Visualizando o array y\r\n",
        "y"
      ],
      "execution_count": 21,
      "outputs": [
        {
          "output_type": "execute_result",
          "data": {
            "text/plain": [
              "array([0, 0, 0, ..., 4, 4, 4])"
            ]
          },
          "metadata": {
            "tags": []
          },
          "execution_count": 21
        }
      ]
    },
    {
      "cell_type": "markdown",
      "metadata": {
        "id": "WbJMAKxZxcso"
      },
      "source": [
        "Como a base de dados é muito grande (1600000 registros) iremos separar uma amostra (15%) desta base para fazermos o treinamento. Assim, segue o código abaixo."
      ]
    },
    {
      "cell_type": "code",
      "metadata": {
        "id": "GPm2sxs4xq2L"
      },
      "source": [
        "# Importando a biblioteca\r\n",
        "from sklearn.model_selection import train_test_split\r\n",
        "\r\n",
        "# Pegando uma amostra da base original\r\n",
        "X, _, y, _ = train_test_split(X, y, test_size=0.85, stratify=y)"
      ],
      "execution_count": 22,
      "outputs": []
    },
    {
      "cell_type": "code",
      "metadata": {
        "colab": {
          "base_uri": "https://localhost:8080/"
        },
        "id": "Hv3y3MifyBjr",
        "outputId": "51910656-ad25-47d1-d77d-977519aa7975"
      },
      "source": [
        "# Visualizando o shape\r\n",
        "X.shape, y.shape"
      ],
      "execution_count": 23,
      "outputs": [
        {
          "output_type": "execute_result",
          "data": {
            "text/plain": [
              "((240000,), (240000,))"
            ]
          },
          "metadata": {
            "tags": []
          },
          "execution_count": 23
        }
      ]
    },
    {
      "cell_type": "code",
      "metadata": {
        "colab": {
          "base_uri": "https://localhost:8080/"
        },
        "id": "0to39AoIzffh",
        "outputId": "f0eb0be0-a09d-42c9-cc31-3dfae2deb2d4"
      },
      "source": [
        "# Valores únicos e suas quantidades\r\n",
        "unique, counts = np.unique(y, return_counts=True)\r\n",
        "unique, counts"
      ],
      "execution_count": 24,
      "outputs": [
        {
          "output_type": "execute_result",
          "data": {
            "text/plain": [
              "(array([0, 4]), array([120000, 120000]))"
            ]
          },
          "metadata": {
            "tags": []
          },
          "execution_count": 24
        }
      ]
    },
    {
      "cell_type": "markdown",
      "metadata": {
        "id": "x7rM6HwhO2Rn"
      },
      "source": [
        "### 3.3) Limpeza dos textos\r\n",
        "\r\n",
        "Nesta subção iremos limpar de fato os textos e para isso criaremos uma função que fará o trabalho. Para teste, usaremos um texto aleatório da base de dados."
      ]
    },
    {
      "cell_type": "code",
      "metadata": {
        "id": "6XOJwAm8zrIJ"
      },
      "source": [
        "# Criando a função\r\n",
        "def clean_tweets(tweet):\r\n",
        "  tweet = BeautifulSoup(tweet, 'lxml').get_text()\r\n",
        "  tweet = re.sub(r'@[A-Za-z0-9_]+', ' ', tweet)\r\n",
        "  tweet = re.sub(r'https?://[A-Za-z0-9./]+', ' ', tweet)\r\n",
        "  tweet = re.sub(r'[^A-Za-z.!?]', ' ', tweet)\r\n",
        "  tweet = re.sub(r' +', ' ', tweet).strip()\r\n",
        "  return tweet"
      ],
      "execution_count": 25,
      "outputs": []
    },
    {
      "cell_type": "code",
      "metadata": {
        "id": "g29tmhCDPIZu",
        "colab": {
          "base_uri": "https://localhost:8080/",
          "height": 35
        },
        "outputId": "2c99dc2b-8f56-499d-b8d2-356b7cf1ba9d"
      },
      "source": [
        "# Criando um texto qualquer para teste\r\n",
        "text = data['text'][0]\r\n",
        "text"
      ],
      "execution_count": 26,
      "outputs": [
        {
          "output_type": "execute_result",
          "data": {
            "application/vnd.google.colaboratory.intrinsic+json": {
              "type": "string"
            },
            "text/plain": [
              "\"@switchfoot http://twitpic.com/2y1zl - Awww, that's a bummer.  You shoulda got David Carr of Third Day to do it. ;D\""
            ]
          },
          "metadata": {
            "tags": []
          },
          "execution_count": 26
        }
      ]
    },
    {
      "cell_type": "code",
      "metadata": {
        "id": "z1izEKYvPQZM",
        "colab": {
          "base_uri": "https://localhost:8080/",
          "height": 35
        },
        "outputId": "622a5f87-d66a-4eac-e09d-153ed9e87d31"
      },
      "source": [
        "# Testando a função\r\n",
        "text = clean_tweets(text)\r\n",
        "text"
      ],
      "execution_count": 27,
      "outputs": [
        {
          "output_type": "execute_result",
          "data": {
            "application/vnd.google.colaboratory.intrinsic+json": {
              "type": "string"
            },
            "text/plain": [
              "'Awww that s a bummer. You shoulda got David Carr of Third Day to do it. D'"
            ]
          },
          "metadata": {
            "tags": []
          },
          "execution_count": 27
        }
      ]
    },
    {
      "cell_type": "markdown",
      "metadata": {
        "id": "X8GrIxHZ8t3G"
      },
      "source": [
        "- Remoção de stop words\r\n",
        "\r\n",
        "Iremos aqui escrever uma função para remoção de stop words dos tweets."
      ]
    },
    {
      "cell_type": "code",
      "metadata": {
        "colab": {
          "base_uri": "https://localhost:8080/"
        },
        "id": "Isb5ezXA3UxI",
        "outputId": "d85dd021-7770-49ce-f5c7-eca930b1f7f7"
      },
      "source": [
        "# Criando um objeto para lingua inglesa\r\n",
        "nlp = sp.load('en')\r\n",
        "nlp"
      ],
      "execution_count": 28,
      "outputs": [
        {
          "output_type": "execute_result",
          "data": {
            "text/plain": [
              "<spacy.lang.en.English at 0x7efbec3d22e8>"
            ]
          },
          "metadata": {
            "tags": []
          },
          "execution_count": 28
        }
      ]
    },
    {
      "cell_type": "code",
      "metadata": {
        "colab": {
          "base_uri": "https://localhost:8080/"
        },
        "id": "9AULraYQ3dyX",
        "outputId": "668aeecb-57fb-4b97-8cb9-930664436c06"
      },
      "source": [
        "# Criando lista de stop words\r\n",
        "stop_words = sp.lang.en.STOP_WORDS\r\n",
        "print(stop_words)"
      ],
      "execution_count": 29,
      "outputs": [
        {
          "output_type": "stream",
          "text": [
            "{'therein', 'that', 'indeed', 'yourselves', 'amount', 'together', 'does', 'name', 'get', 'whether', 'beforehand', 'has', 'move', 'something', 'around', 'seem', 'might', 'he', 'most', 'give', 'a', 'full', 'nor', 'twenty', 'after', 'our', 'up', 'moreover', 'twelve', 'do', 'top', '’d', 'alone', 'front', 'least', 'anyone', 'toward', \"'m\", 'their', 'done', 'thence', 'would', 'being', 'another', 'towards', '‘ll', 'is', 'i', 'rather', 'side', 'anything', 'using', 'where', 'hereby', 'may', 'call', 'since', 'then', 'upon', \"'ll\", 'can', 'part', 'into', 'never', 'behind', 'nobody', 'these', 'such', 'everything', 'thus', 'empty', 'otherwise', 'put', 'they', '’re', 'say', 'during', 'fifteen', 'noone', 'serious', 'besides', 'everywhere', 'for', 'over', 'namely', 'before', 'whence', 'without', 'became', 'each', 'there', \"'s\", 'onto', 'third', 'somewhere', 'now', 'although', 'ourselves', 'many', 'already', 'not', 'the', 'even', 'everyone', 'always', 'seemed', 'hereupon', 'myself', 'still', 'are', 'next', 'thru', 'via', 'please', 'we', 'whole', 'six', 'others', 'what', 'last', 'three', 'whose', 'within', 'eleven', 'how', 'less', 'why', 'often', 'you', 'nothing', 'about', 'formerly', \"'ve\", 'if', 'ten', 'almost', 'wherein', 'us', 'but', 'thereupon', 'sometimes', 'much', '’s', 'cannot', 'its', 'again', 'therefore', 'due', 'been', 'go', 'hence', 'however', 'was', 'beyond', 'sixty', 'afterwards', 'really', 'in', 'so', 'made', 'through', 'whereas', 'your', 'could', 're', 'out', 'one', 'neither', 'ever', 'itself', '‘s', 'enough', 'every', 'yourself', 'at', '’m', 'eight', 'regarding', 'doing', 'should', 'amongst', 'anyhow', 'various', 'elsewhere', 'few', 'herself', '’ve', 'becomes', 'take', 'whereby', 'bottom', 'quite', 'an', 'ours', 'when', 'will', 'mine', 'nevertheless', 'somehow', 'be', 'down', 'either', 'unless', 'n‘t', 'herein', 'perhaps', 'else', 'whatever', 'thereafter', 'while', 'to', '’ll', 'with', 'themselves', 'meanwhile', 'four', 'latterly', 'were', '‘m', 'anywhere', 'also', 'hundred', 'latter', 'no', 'anyway', 'just', 'ca', 'whereafter', 'because', 'none', 'only', 'first', 'from', 'two', 'until', 'very', 'under', '‘re', 'along', 'other', 'seems', 'below', 'several', '‘ve', 'them', 'must', \"'d\", 'have', 'though', 'too', 'am', 'had', 'wherever', 'five', 'between', 'who', 'become', 'she', 'beside', 'across', 'did', 'own', 'me', 'this', 'among', 'well', 'above', 'yours', '‘d', 'hers', 'someone', 'yet', 'him', 'former', 'or', 'same', \"n't\", 'here', 'seeming', 'throughout', 'by', 'becoming', 'nowhere', 'those', 'his', 'all', 'some', 'whenever', 'see', 'n’t', 'any', 'further', 'forty', 'hereafter', 'mostly', 'used', 'as', 'and', 'thereby', 'back', 'whither', 'make', 'her', 'nine', 'of', 'whoever', 'than', 'keep', 'on', 'show', 'once', 'per', 'whom', 'fifty', 'himself', \"'re\", 'both', 'except', 'it', 'which', 'whereupon', 'against', 'sometime', 'more', 'my', 'off'}\n"
          ],
          "name": "stdout"
        }
      ]
    },
    {
      "cell_type": "code",
      "metadata": {
        "colab": {
          "base_uri": "https://localhost:8080/"
        },
        "id": "ksYfHVcm37Ru",
        "outputId": "f4062abc-ca2c-46a2-f261-6729d1c0787e"
      },
      "source": [
        "# Contando total de stop words\r\n",
        "len(stop_words)"
      ],
      "execution_count": 30,
      "outputs": [
        {
          "output_type": "execute_result",
          "data": {
            "text/plain": [
              "326"
            ]
          },
          "metadata": {
            "tags": []
          },
          "execution_count": 30
        }
      ]
    },
    {
      "cell_type": "code",
      "metadata": {
        "id": "LV6FV-qS8s4k"
      },
      "source": [
        "# Função para remover stop words\r\n",
        "def remove_stop_words(tweet):\r\n",
        "  tweet = tweet.lower()\r\n",
        "  document = nlp(tweet)\r\n",
        "\r\n",
        "  words = [token.text for token in document]\r\n",
        "  words = [word for word in words if word not in stop_words \\\r\n",
        "           and word not in string.punctuation]\r\n",
        "  words = ' '.join(words)\r\n",
        "\r\n",
        "  return words"
      ],
      "execution_count": 31,
      "outputs": []
    },
    {
      "cell_type": "code",
      "metadata": {
        "colab": {
          "base_uri": "https://localhost:8080/",
          "height": 35
        },
        "id": "OMzT1R2v9EIy",
        "outputId": "20417e93-5598-4e4f-d479-cd6a28543ccc"
      },
      "source": [
        "remove_stop_words(text)"
      ],
      "execution_count": 32,
      "outputs": [
        {
          "output_type": "execute_result",
          "data": {
            "application/vnd.google.colaboratory.intrinsic+json": {
              "type": "string"
            },
            "text/plain": [
              "'awww s bummer shoulda got david carr day d'"
            ]
          },
          "metadata": {
            "tags": []
          },
          "execution_count": 32
        }
      ]
    },
    {
      "cell_type": "markdown",
      "metadata": {
        "id": "tAW-GdoHKPvA"
      },
      "source": [
        "Para realmente fazermos a limpeza dos textos iremos juntar as duas funções anteriores em apenas uma para otimizar este trabalho."
      ]
    },
    {
      "cell_type": "code",
      "metadata": {
        "id": "PtHSU1JtKY-0"
      },
      "source": [
        "# Criando a função final\r\n",
        "def clean_tweets2(tweet):\r\n",
        "  tweet = BeautifulSoup(tweet, 'lxml').get_text()\r\n",
        "  tweet = re.sub(r'@[A-Za-z0-9_]+', ' ', tweet)\r\n",
        "  tweet = re.sub(r'https?://[A-Za-z0-9./]+', ' ', tweet)\r\n",
        "  tweet = re.sub(r'[^A-Za-z.!?]', ' ', tweet)\r\n",
        "  tweet = re.sub(r' +', ' ', tweet).strip()\r\n",
        "\r\n",
        "  tweet = tweet.lower()\r\n",
        "  document = nlp(tweet)\r\n",
        "\r\n",
        "  words = [token.text for token in document]\r\n",
        "  words = [word for word in words if word not in stop_words \\\r\n",
        "           and word not in string.punctuation]\r\n",
        "  words = ' '.join(words)\r\n",
        "  return words"
      ],
      "execution_count": 33,
      "outputs": []
    },
    {
      "cell_type": "markdown",
      "metadata": {
        "id": "DwzxKtQBXa92"
      },
      "source": [
        "- Limpeza de todos os reviews"
      ]
    },
    {
      "cell_type": "markdown",
      "metadata": {
        "id": "QsyRE16EWKkn"
      },
      "source": [
        "Iremos testar a função acima."
      ]
    },
    {
      "cell_type": "code",
      "metadata": {
        "id": "D5re9PdQnpLY",
        "colab": {
          "base_uri": "https://localhost:8080/",
          "height": 35
        },
        "outputId": "544b76a4-e617-4536-aa61-9e4de8074d43"
      },
      "source": [
        "# Definindo a variável contendo um review\r\n",
        "text2 = data['text'][0]\r\n",
        "text2"
      ],
      "execution_count": 34,
      "outputs": [
        {
          "output_type": "execute_result",
          "data": {
            "application/vnd.google.colaboratory.intrinsic+json": {
              "type": "string"
            },
            "text/plain": [
              "\"@switchfoot http://twitpic.com/2y1zl - Awww, that's a bummer.  You shoulda got David Carr of Third Day to do it. ;D\""
            ]
          },
          "metadata": {
            "tags": []
          },
          "execution_count": 34
        }
      ]
    },
    {
      "cell_type": "code",
      "metadata": {
        "colab": {
          "base_uri": "https://localhost:8080/",
          "height": 35
        },
        "id": "awaStCjkV3bp",
        "outputId": "414f199a-5dd4-4cfa-acf7-f6289c8ce54c"
      },
      "source": [
        "# Aplicando a função acima\r\n",
        "text2 = clean_tweets2(text2)\r\n",
        "text2"
      ],
      "execution_count": 35,
      "outputs": [
        {
          "output_type": "execute_result",
          "data": {
            "application/vnd.google.colaboratory.intrinsic+json": {
              "type": "string"
            },
            "text/plain": [
              "'awww s bummer shoulda got david carr day d'"
            ]
          },
          "metadata": {
            "tags": []
          },
          "execution_count": 35
        }
      ]
    },
    {
      "cell_type": "markdown",
      "metadata": {
        "id": "He7cRE45Xp8A"
      },
      "source": [
        "Agora sim aplicaremos a função nos reviews."
      ]
    },
    {
      "cell_type": "code",
      "metadata": {
        "id": "tZ95GLFvXebU"
      },
      "source": [
        "# Criando variável com reviews limpos\r\n",
        "data_clean = [clean_tweets2(tweet) for tweet in X]"
      ],
      "execution_count": 36,
      "outputs": []
    },
    {
      "cell_type": "code",
      "metadata": {
        "colab": {
          "base_uri": "https://localhost:8080/"
        },
        "id": "BSDB22v8YU4v",
        "outputId": "b5de1829-a8bc-4de8-cc67-e6de2526d7e4"
      },
      "source": [
        "# Retornando alguns registros aleatoriamente\r\n",
        "for _ in range(10):\r\n",
        "  print(data_clean[random.randint(0, len(data_clean) - 1)])"
      ],
      "execution_count": 37,
      "outputs": [
        {
          "output_type": "stream",
          "text": [
            "oh calm remind breathe inhale ... exhale\n",
            "good times good friends ... great night\n",
            "tell\n",
            "followers day www.tweeterfollow.com add train pay vip\n",
            "good morning stephen t leave mins sneaking numbers big congrat s friend\n",
            "surprsinigly got study ... company\n",
            "friend\n",
            "read floppy boy brighten monday s travesty\n",
            "nd day car\n",
            "loves geoffrey good books hates sick having wake early\n"
          ],
          "name": "stdout"
        }
      ]
    },
    {
      "cell_type": "markdown",
      "metadata": {
        "id": "-MAhhNyVlxzD"
      },
      "source": [
        "Uma outra alteração que devemos fazer é na variável y, uma vez que ela apresenta valores 0 e 4 para comentários negativos e positivos respectivamente. Então substituiremos por 0 e 1."
      ]
    },
    {
      "cell_type": "code",
      "metadata": {
        "colab": {
          "base_uri": "https://localhost:8080/"
        },
        "id": "Lrn3A25AmAfs",
        "outputId": "035dde6a-e648-487c-8684-18a56047be29"
      },
      "source": [
        "# Definindo a variável\r\n",
        "data_labels = y\r\n",
        "np.unique(data_labels)"
      ],
      "execution_count": 38,
      "outputs": [
        {
          "output_type": "execute_result",
          "data": {
            "text/plain": [
              "array([0, 4])"
            ]
          },
          "metadata": {
            "tags": []
          },
          "execution_count": 38
        }
      ]
    },
    {
      "cell_type": "code",
      "metadata": {
        "id": "yKUNXAcMmJDa"
      },
      "source": [
        "# Alterando de 4 para 1\r\n",
        "data_labels[data_labels == 4] = 1"
      ],
      "execution_count": 39,
      "outputs": []
    },
    {
      "cell_type": "code",
      "metadata": {
        "colab": {
          "base_uri": "https://localhost:8080/"
        },
        "id": "OUPr5cazmVCX",
        "outputId": "23d8e2e1-1f2d-4507-e4a3-bc0c02bcbffd"
      },
      "source": [
        "# Confirmando a alteração\r\n",
        "np.unique(data_labels)"
      ],
      "execution_count": 40,
      "outputs": [
        {
          "output_type": "execute_result",
          "data": {
            "text/plain": [
              "array([0, 1])"
            ]
          },
          "metadata": {
            "tags": []
          },
          "execution_count": 40
        }
      ]
    },
    {
      "cell_type": "markdown",
      "metadata": {
        "id": "LObluESmCITG"
      },
      "source": [
        "### 3.4) Tokenização\r\n",
        "\r\n",
        "O processo de tokenização consiste em converter todos os textos em números. Este processo é extremamente necessário uma vez que iremos trabalhar com algorítmos que não aceitam dados no formato \"string\"."
      ]
    },
    {
      "cell_type": "code",
      "metadata": {
        "id": "Z-Jq9eMYming"
      },
      "source": [
        "# Criando objeto para tokenização\r\n",
        "tokenizer = tfds.deprecated.text.SubwordTextEncoder.build_from_corpus(data_clean,\r\n",
        "                                                                      target_vocab_size=2**16)"
      ],
      "execution_count": 41,
      "outputs": []
    },
    {
      "cell_type": "code",
      "metadata": {
        "colab": {
          "base_uri": "https://localhost:8080/"
        },
        "id": "1kmV-9M-ZP_p",
        "outputId": "86b3d71c-912b-4f96-878d-4ad49c007640"
      },
      "source": [
        "# Verificando tamanho do vocabulário\r\n",
        "tokenizer.vocab_size"
      ],
      "execution_count": 42,
      "outputs": [
        {
          "output_type": "execute_result",
          "data": {
            "text/plain": [
              "52166"
            ]
          },
          "metadata": {
            "tags": []
          },
          "execution_count": 42
        }
      ]
    },
    {
      "cell_type": "markdown",
      "metadata": {
        "id": "JiftafNLZ85f"
      },
      "source": [
        "Note que iremos utilizar um vocabulário contendo 51912 palavras. \r\n",
        "\r\n",
        "A seguir iremos de fato tokenizar o vocabulário e para isso faremos um teste para verificar como funciona o processo."
      ]
    },
    {
      "cell_type": "code",
      "metadata": {
        "colab": {
          "base_uri": "https://localhost:8080/"
        },
        "id": "OKHoRMUUcHyZ",
        "outputId": "567181f0-e755-4887-dd89-a5a6ee4e4e8e"
      },
      "source": [
        "# Criando id's de teste para texto qualquer\r\n",
        "ids = tokenizer.encode('i am happy')\r\n",
        "ids"
      ],
      "execution_count": 43,
      "outputs": [
        {
          "output_type": "execute_result",
          "data": {
            "text/plain": [
              "[272, 3787, 384]"
            ]
          },
          "metadata": {
            "tags": []
          },
          "execution_count": 43
        }
      ]
    },
    {
      "cell_type": "code",
      "metadata": {
        "colab": {
          "base_uri": "https://localhost:8080/",
          "height": 0
        },
        "id": "YCgSFidWgsef",
        "outputId": "90bfae4a-9644-48a9-ddb1-91c8a3833317"
      },
      "source": [
        "# Decodificando os id's\r\n",
        "text = tokenizer.decode(ids)\r\n",
        "text"
      ],
      "execution_count": 44,
      "outputs": [
        {
          "output_type": "execute_result",
          "data": {
            "application/vnd.google.colaboratory.intrinsic+json": {
              "type": "string"
            },
            "text/plain": [
              "'i am happy'"
            ]
          },
          "metadata": {
            "tags": []
          },
          "execution_count": 44
        }
      ]
    },
    {
      "cell_type": "markdown",
      "metadata": {
        "id": "aEOqBTTBhJRd"
      },
      "source": [
        "Assim, notamos que nosso tokenizador está funcionando corretamente. Aplicaremos agora este mesmo processo para os comentários da nossa base."
      ]
    },
    {
      "cell_type": "code",
      "metadata": {
        "id": "oaauBaFDg40v"
      },
      "source": [
        "data_inputs = [tokenizer.encode(sentence) for sentence in data_clean]"
      ],
      "execution_count": 45,
      "outputs": []
    },
    {
      "cell_type": "code",
      "metadata": {
        "id": "EQvkcV8ihlQS",
        "colab": {
          "base_uri": "https://localhost:8080/"
        },
        "outputId": "80b18f03-c03f-44d3-964d-8820a04e2bc8"
      },
      "source": [
        "# Retornando alguns registros aleatoriamente após tokenização\r\n",
        "for _ in range(10):\r\n",
        "  print(data_inputs[random.randint(0, len(data_inputs) - 1)])"
      ],
      "execution_count": 46,
      "outputs": [
        {
          "output_type": "stream",
          "text": [
            "[2484, 755, 2611, 2175, 4355, 5370, 217, 54, 4213, 120, 24659]\n",
            "[189, 3, 374, 240, 5476, 638, 98, 991, 336, 10666, 689, 18126]\n",
            "[85, 71, 246, 4, 41654, 62, 214, 230, 22518, 6, 72, 158]\n",
            "[42454, 51942, 28, 30, 18, 4319]\n",
            "[3900, 1885, 83, 4, 25, 1738, 4996, 85, 5224]\n",
            "[16, 10, 428, 8325, 498, 617, 270, 628, 5647]\n",
            "[27, 48, 15414, 20019, 1056, 532, 1957, 1754, 3828]\n",
            "[59, 175, 193, 1577, 1577, 343, 49204, 51942, 1242]\n",
            "[247, 3, 8367, 2068, 341, 63, 12771]\n",
            "[1, 349, 15012]\n"
          ],
          "name": "stdout"
        }
      ]
    },
    {
      "cell_type": "markdown",
      "metadata": {
        "id": "N56fH_Nx8dvP"
      },
      "source": [
        "### 3.5) Padding (preenchimento)\r\n",
        "\r\n",
        "Na última subseção fizemos a tokenização dos tweets e obtemos cada um deles na forma de id's, com cada palavra tendo seu id único. Mas note do último resultado que, dependendo do tamanho, o tweet pode ter números diferentes de id's. Desta forma, teremos que deixar todos as listas representando os tokens com o mesmo tamanho e para isso faremos um processo conhecido como ***padding*** (ou simplesmente preenchimento) que consiste igualar os seus tamanhos apenas acrescentando zeros.\r\n",
        "\r\n",
        "Assim, esta subseção será reservada para este fim."
      ]
    },
    {
      "cell_type": "code",
      "metadata": {
        "colab": {
          "base_uri": "https://localhost:8080/"
        },
        "id": "FuLGiUq38ir1",
        "outputId": "1fb9dc13-2dfe-4d32-b4b1-31362f1ba48f"
      },
      "source": [
        "# Pegando a sentença com mais caracteres\r\n",
        "max_len = max([len(sentence) for sentence in data_inputs])\r\n",
        "max_len"
      ],
      "execution_count": 47,
      "outputs": [
        {
          "output_type": "execute_result",
          "data": {
            "text/plain": [
              "50"
            ]
          },
          "metadata": {
            "tags": []
          },
          "execution_count": 47
        }
      ]
    },
    {
      "cell_type": "code",
      "metadata": {
        "id": "_fcD1moO-2lA"
      },
      "source": [
        "# Fazendo o preenchimento\r\n",
        "data_inputs = tf.keras.preprocessing.sequence.pad_sequences(data_inputs,\r\n",
        "                                                            value=0,\r\n",
        "                                                            padding='post',\r\n",
        "                                                            maxlen=max_len)"
      ],
      "execution_count": 48,
      "outputs": []
    },
    {
      "cell_type": "code",
      "metadata": {
        "colab": {
          "base_uri": "https://localhost:8080/"
        },
        "id": "000Ew3N4_193",
        "outputId": "11ded6e9-b3b6-441b-bdfb-0b4b7a0167da"
      },
      "source": [
        "# Retornando alguns registros aleatoriamente após padding\r\n",
        "for _ in range(10):\r\n",
        "  print(data_inputs[random.randint(0, len(data_inputs) - 1)])"
      ],
      "execution_count": 49,
      "outputs": [
        {
          "output_type": "stream",
          "text": [
            "[  242     1   285    40   144    45   208  1415  7251     4   370     1\n",
            "   597     4 13351     0     0     0     0     0     0     0     0     0\n",
            "     0     0     0     0     0     0     0     0     0     0     0     0\n",
            "     0     0     0     0     0     0     0     0     0     0     0     0\n",
            "     0     0]\n",
            "[  10 5334  269  286 2667 8071    0    0    0    0    0    0    0    0\n",
            "    0    0    0    0    0    0    0    0    0    0    0    0    0    0\n",
            "    0    0    0    0    0    0    0    0    0    0    0    0    0    0\n",
            "    0    0    0    0    0    0    0    0]\n",
            "[ 9048  4680  4545 31225   605  2523 48123 12211  4353 14324 11075    62\n",
            " 27584   564     0     0     0     0     0     0     0     0     0     0\n",
            "     0     0     0     0     0     0     0     0     0     0     0     0\n",
            "     0     0     0     0     0     0     0     0     0     0     0     0\n",
            "     0     0]\n",
            "[8864  632  122    3   16 9651    0    0    0    0    0    0    0    0\n",
            "    0    0    0    0    0    0    0    0    0    0    0    0    0    0\n",
            "    0    0    0    0    0    0    0    0    0    0    0    0    0    0\n",
            "    0    0    0    0    0    0    0    0]\n",
            "[  628  2377  4109  1495    26     2    49  2907 15251  1791     0     0\n",
            "     0     0     0     0     0     0     0     0     0     0     0     0\n",
            "     0     0     0     0     0     0     0     0     0     0     0     0\n",
            "     0     0     0     0     0     0     0     0     0     0     0     0\n",
            "     0     0]\n",
            "[25666 26499 51956  1356   226 35578     1   240    38  8213 51956    26\n",
            "   136     0     0     0     0     0     0     0     0     0     0     0\n",
            "     0     0     0     0     0     0     0     0     0     0     0     0\n",
            "     0     0     0     0     0     0     0     0     0     0     0     0\n",
            "     0     0]\n",
            "[23565   483     5  1045  3401     0     0     0     0     0     0     0\n",
            "     0     0     0     0     0     0     0     0     0     0     0     0\n",
            "     0     0     0     0     0     0     0     0     0     0     0     0\n",
            "     0     0     0     0     0     0     0     0     0     0     0     0\n",
            "     0     0]\n",
            "[2337 2599    4 2541    1  145    3   65   82  151  201 3064    0    0\n",
            "    0    0    0    0    0    0    0    0    0    0    0    0    0    0\n",
            "    0    0    0    0    0    0    0    0    0    0    0    0    0    0\n",
            "    0    0    0    0    0    0    0    0]\n",
            "[  248   248   248   248   248   248   248   248   248   248   248   248\n",
            "   248   248   248   248   248   248   248   248   248    47    52     3\n",
            " 12813     0     0     0     0     0     0     0     0     0     0     0\n",
            "     0     0     0     0     0     0     0     0     0     0     0     0\n",
            "     0     0]\n",
            "[11523   611   780  1406   477   566     0     0     0     0     0     0\n",
            "     0     0     0     0     0     0     0     0     0     0     0     0\n",
            "     0     0     0     0     0     0     0     0     0     0     0     0\n",
            "     0     0     0     0     0     0     0     0     0     0     0     0\n",
            "     0     0]\n"
          ],
          "name": "stdout"
        }
      ]
    },
    {
      "cell_type": "markdown",
      "metadata": {
        "id": "8CjbzhVjAsyl"
      },
      "source": [
        "### 3.5) Divisão da base de dados entre treinamento e teste\r\n",
        "\r\n",
        "Agora iremos utilizar a base finalizada acima para dividi-la em bases de treinamento e teste."
      ]
    },
    {
      "cell_type": "code",
      "metadata": {
        "id": "6HZHQ7ScA0kt"
      },
      "source": [
        "# Fazendo a divisão da base\r\n",
        "train_inputs, test_inputs, train_labels, test_labels = train_test_split(data_inputs,\r\n",
        "                                                                        data_labels,\r\n",
        "                                                                        test_size=.3,\r\n",
        "                                                                        stratify=data_labels)"
      ],
      "execution_count": 50,
      "outputs": []
    },
    {
      "cell_type": "code",
      "metadata": {
        "id": "rU4VASyYD4qb",
        "colab": {
          "base_uri": "https://localhost:8080/"
        },
        "outputId": "8a26c449-9fc4-409e-94fd-f38ada9b8069"
      },
      "source": [
        "# Visualizando um resultado\r\n",
        "train_inputs[0]"
      ],
      "execution_count": 51,
      "outputs": [
        {
          "output_type": "execute_result",
          "data": {
            "text/plain": [
              "array([  139,  2107,   180, 34887,     0,     0,     0,     0,     0,\n",
              "           0,     0,     0,     0,     0,     0,     0,     0,     0,\n",
              "           0,     0,     0,     0,     0,     0,     0,     0,     0,\n",
              "           0,     0,     0,     0,     0,     0,     0,     0,     0,\n",
              "           0,     0,     0,     0,     0,     0,     0,     0,     0,\n",
              "           0,     0,     0,     0,     0], dtype=int32)"
            ]
          },
          "metadata": {
            "tags": []
          },
          "execution_count": 51
        }
      ]
    },
    {
      "cell_type": "code",
      "metadata": {
        "id": "v-G-H8Y1D_zY",
        "colab": {
          "base_uri": "https://localhost:8080/"
        },
        "outputId": "a5399f47-8f3b-48b7-903e-c3a82fb64495"
      },
      "source": [
        "# Visualizando o shape dos dados de treino\r\n",
        "train_inputs.shape, train_labels.shape"
      ],
      "execution_count": 52,
      "outputs": [
        {
          "output_type": "execute_result",
          "data": {
            "text/plain": [
              "((168000, 50), (168000,))"
            ]
          },
          "metadata": {
            "tags": []
          },
          "execution_count": 52
        }
      ]
    },
    {
      "cell_type": "code",
      "metadata": {
        "id": "Ja9innZtEgtT",
        "colab": {
          "base_uri": "https://localhost:8080/"
        },
        "outputId": "6a45a28d-64f5-4ce1-87cd-eab5fa9ed395"
      },
      "source": [
        "# Visualizando o shape dos dados de teste\r\n",
        "test_inputs.shape, test_labels.shape"
      ],
      "execution_count": 82,
      "outputs": [
        {
          "output_type": "execute_result",
          "data": {
            "text/plain": [
              "((72000, 50), (72000,))"
            ]
          },
          "metadata": {
            "tags": []
          },
          "execution_count": 82
        }
      ]
    },
    {
      "cell_type": "markdown",
      "metadata": {
        "id": "FGrMEBZUNXl7"
      },
      "source": [
        "## 4) Construção do modelo\r\n",
        "\r\n",
        "Nesta etapa iremos de fato fazer a construção do modelo que irá receber os tweets tratados anteriormente."
      ]
    },
    {
      "cell_type": "code",
      "metadata": {
        "id": "OA8uedzsNb3X"
      },
      "source": [
        "# Criação da classe\r\n",
        "class DCNN(tf.keras.Model):\r\n",
        "\r\n",
        "  def __init__(self,\r\n",
        "               vocab_size, \r\n",
        "               emb_dim=128, \r\n",
        "               nb_filters=50, \r\n",
        "               ffn_units=512,\r\n",
        "               nb_classes=2,\r\n",
        "               dropout_rate=0.1,\r\n",
        "               training=False,\r\n",
        "               name='dcnn'):\r\n",
        "    super(DCNN, self).__init__(name=name)\r\n",
        "\r\n",
        "    # Create word embedding\r\n",
        "    self.embedding = layers.Embedding(vocab_size, emb_dim)\r\n",
        "\r\n",
        "    # Create convolution layers (filters) with regions 2, 3, 4\r\n",
        "    self.bigram = layers.Conv1D(filters=nb_filters, kernel_size=2, padding='same', activation='relu')\r\n",
        "    self.trigram = layers.Conv1D(filters=nb_filters, kernel_size=3, padding='same', activation='relu')\r\n",
        "    self.fourgram = layers.Conv1D(filters=nb_filters, kernel_size=4, padding='same', activation='relu')\r\n",
        "\r\n",
        "    # Define pooling layers\r\n",
        "    self.pool = layers.GlobalMaxPool1D()\r\n",
        "\r\n",
        "    # Define structure for NR Dense\r\n",
        "    self.dense_1 = layers.Dense(units=ffn_units, activation='relu')\r\n",
        "    self.dropout = layers.Dropout(rate=dropout_rate)\r\n",
        "\r\n",
        "    # Define exit layer\r\n",
        "    if nb_classes == 2:\r\n",
        "      self.last_dense = layers.Dense(units=1, activation='sigmoid')\r\n",
        "    else:\r\n",
        "      self.last_dense = layers.Dense(units=nb_classes, activation='softmax')\r\n",
        "    \r\n",
        "  def call(self, inputs, training):\r\n",
        "    x = self.embedding(inputs)\r\n",
        "    X_1 = self.bigram(x)\r\n",
        "    X_1 = self.pool(X_1)\r\n",
        "    X_2 = self.trigram(x)\r\n",
        "    X_2 = self.pool(X_2)\r\n",
        "    X_3 = self.fourgram(x)\r\n",
        "    X_3 = self.pool(X_3)\r\n",
        "\r\n",
        "    merged = tf.concat([X_1, X_2, X_3], axis=-1) # (batch_size, 3 * nb_filters)\r\n",
        "    merged = self.dense_1(merged)\r\n",
        "    merged = self.dropout(merged, training)\r\n",
        "    output = self.last_dense(merged)\r\n",
        "\r\n",
        "    return output"
      ],
      "execution_count": 73,
      "outputs": []
    },
    {
      "cell_type": "markdown",
      "metadata": {
        "id": "nLmAFRs4onol"
      },
      "source": [
        "## 5) Treinamento\r\n",
        "\r\n",
        "Finalmente faremos o treinamento do nosso modelo, e para isso precisamos fazer uma configuração dos parâmetros as serem utilizados.\r\n",
        "\r\n",
        "### 5.1) Configuração dos parâmetros"
      ]
    },
    {
      "cell_type": "code",
      "metadata": {
        "id": "smCCjE-coqgx"
      },
      "source": [
        "# Definição do número de vocábulos\r\n",
        "vocab_size = tokenizer.vocab_size\r\n",
        "\r\n",
        "# Dimensão da matriz de embedding\r\n",
        "emb_dim = 200\r\n",
        "\r\n",
        "# Quantidade de filtros\r\n",
        "nb_filters = 100\r\n",
        "\r\n",
        "# Quantidade de neurônios na camada escondida da RN\r\n",
        "ffn_units = 256\r\n",
        "\r\n",
        "# Número do batch_size\r\n",
        "batch_size = 64\r\n",
        "\r\n",
        "# Número de classes\r\n",
        "nb_classes = len(set(train_labels))\r\n",
        "\r\n",
        "# Dropout para previnir overfitting\r\n",
        "dropout_rate = 0.2\r\n",
        "\r\n",
        "# Número de épocas de execução\r\n",
        "nb_epochs = 5"
      ],
      "execution_count": 74,
      "outputs": []
    },
    {
      "cell_type": "code",
      "metadata": {
        "colab": {
          "base_uri": "https://localhost:8080/"
        },
        "id": "K9qobaiKpMBW",
        "outputId": "4806b0d3-1271-4f14-ee3e-8b25cfd41f08"
      },
      "source": [
        "# Visualizando o número de vocábulos\r\n",
        "print(vocab_size)"
      ],
      "execution_count": 75,
      "outputs": [
        {
          "output_type": "stream",
          "text": [
            "52166\n"
          ],
          "name": "stdout"
        }
      ]
    },
    {
      "cell_type": "markdown",
      "metadata": {
        "id": "R_xm4E9T7NlX"
      },
      "source": [
        "### 5.2) Efetuando o treinamento"
      ]
    },
    {
      "cell_type": "code",
      "metadata": {
        "id": "mZB53ZOd7RZh"
      },
      "source": [
        "# Instanciando um objeto da classe DCNN\r\n",
        "dcnn = DCNN(vocab_size=vocab_size, emb_dim=emb_dim, nb_filters=nb_filters,\r\n",
        "            ffn_units=ffn_units, nb_classes=nb_classes, dropout_rate=dropout_rate)"
      ],
      "execution_count": 76,
      "outputs": []
    },
    {
      "cell_type": "code",
      "metadata": {
        "id": "OuQU5lqR7_UK"
      },
      "source": [
        "# Compilando a rede\r\n",
        "if nb_classes == 2:\r\n",
        "  dcnn.compile(loss='binary_crossentropy', optimizer='adam', metrics=['accuracy'])\r\n",
        "else:\r\n",
        "  dcnn.compile(loss='sparse_categorical_crossentropy', optimizer='adam', metrics=['accuracy'])"
      ],
      "execution_count": 77,
      "outputs": []
    },
    {
      "cell_type": "code",
      "metadata": {
        "id": "HG1xWBuL9f_N"
      },
      "source": [
        "# Checkpoint para salvar o modelo\r\n",
        "checkpoint_path = '/content/drive/MyDrive/NLP'\r\n",
        "\r\n",
        "ckpt = tf.train.Checkpoint(dcnn=dcnn)\r\n",
        "ckpt_manager = tf.train.CheckpointManager(ckpt, \r\n",
        "                                          checkpoint_path, \r\n",
        "                                          max_to_keep=5)\r\n",
        "\r\n",
        "if ckpt_manager.latest_checkpoint:\r\n",
        "  ckpt.restore(ckpt_manager.latest_checkpoint)\r\n",
        "  print('Latest checkpoint restored')"
      ],
      "execution_count": 78,
      "outputs": []
    },
    {
      "cell_type": "code",
      "metadata": {
        "colab": {
          "base_uri": "https://localhost:8080/",
          "height": 205
        },
        "id": "9Z7GrwOD-8-Z",
        "outputId": "2138237e-3a96-4f3a-ab94-9ec4c619cefc"
      },
      "source": [
        "# Fazendo efetivamente o treinamento\r\n",
        "history = dcnn.fit(train_inputs, train_labels, batch_size=batch_size, epochs=nb_epochs, verbose=1, validation_split=0.10)\r\n",
        "ckpt_manager.save()"
      ],
      "execution_count": 79,
      "outputs": [
        {
          "output_type": "stream",
          "text": [
            "Epoch 1/5\n",
            "2363/2363 [==============================] - 471s 199ms/step - loss: 0.5417 - accuracy: 0.7158 - val_loss: 0.4769 - val_accuracy: 0.7674\n",
            "Epoch 2/5\n",
            "2363/2363 [==============================] - 471s 199ms/step - loss: 0.3602 - accuracy: 0.8423 - val_loss: 0.5106 - val_accuracy: 0.7576\n",
            "Epoch 3/5\n",
            "2363/2363 [==============================] - 469s 199ms/step - loss: 0.1863 - accuracy: 0.9243 - val_loss: 0.7280 - val_accuracy: 0.7376\n",
            "Epoch 4/5\n",
            "2363/2363 [==============================] - 470s 199ms/step - loss: 0.0931 - accuracy: 0.9616 - val_loss: 1.0069 - val_accuracy: 0.7307\n",
            "Epoch 5/5\n",
            "2363/2363 [==============================] - 471s 199ms/step - loss: 0.0624 - accuracy: 0.9743 - val_loss: 1.3123 - val_accuracy: 0.7340\n"
          ],
          "name": "stdout"
        },
        {
          "output_type": "execute_result",
          "data": {
            "application/vnd.google.colaboratory.intrinsic+json": {
              "type": "string"
            },
            "text/plain": [
              "'/content/drive/MyDrive/NLP/ckpt-1'"
            ]
          },
          "metadata": {
            "tags": []
          },
          "execution_count": 79
        }
      ]
    },
    {
      "cell_type": "markdown",
      "metadata": {
        "id": "6gAJicoBnGFQ"
      },
      "source": [
        "## 6) Avaliação do modelo"
      ]
    },
    {
      "cell_type": "markdown",
      "metadata": {
        "id": "PlCEIpbYnKPX"
      },
      "source": [
        "### 6.1) Avaliação"
      ]
    },
    {
      "cell_type": "code",
      "metadata": {
        "colab": {
          "base_uri": "https://localhost:8080/"
        },
        "id": "V0tCtrkJAOoL",
        "outputId": "8e77daf6-66e0-47ae-beef-56a815337910"
      },
      "source": [
        "# Avaliação na base de teste\r\n",
        "results = dcnn.evaluate(test_inputs, test_labels, batch_size=batch_size)\r\n",
        "print(results)"
      ],
      "execution_count": 83,
      "outputs": [
        {
          "output_type": "stream",
          "text": [
            "1125/1125 [==============================] - 35s 31ms/step - loss: 1.2849 - accuracy: 0.7363\n",
            "[1.2849007844924927, 0.7363055348396301]\n"
          ],
          "name": "stdout"
        }
      ]
    },
    {
      "cell_type": "markdown",
      "metadata": {
        "id": "qMFuGDAgoMZg"
      },
      "source": [
        "Vemos do resultado que o valor do loss vale 1.2849007844924927, enquanto o valor da acurácia tem valor igual a 0.7363055348396301. \r\n",
        "\r\n",
        "Iremos agora fazer algumas previsões."
      ]
    },
    {
      "cell_type": "code",
      "metadata": {
        "id": "vvmzitMnoWZt"
      },
      "source": [
        "y_pred_test = dcnn.predict(test_inputs)"
      ],
      "execution_count": 86,
      "outputs": []
    },
    {
      "cell_type": "code",
      "metadata": {
        "colab": {
          "base_uri": "https://localhost:8080/"
        },
        "id": "wSIxb-YLomEr",
        "outputId": "76a56006-a18b-4bb4-e2ce-0f38935c5c93"
      },
      "source": [
        "# Valor das previsões\r\n",
        "y_pred_test"
      ],
      "execution_count": 87,
      "outputs": [
        {
          "output_type": "execute_result",
          "data": {
            "text/plain": [
              "array([[9.9999785e-01],\n",
              "       [4.2175507e-06],\n",
              "       [1.6012484e-05],\n",
              "       ...,\n",
              "       [4.6090704e-01],\n",
              "       [9.9386215e-01],\n",
              "       [9.9999809e-01]], dtype=float32)"
            ]
          },
          "metadata": {
            "tags": []
          },
          "execution_count": 87
        }
      ]
    },
    {
      "cell_type": "markdown",
      "metadata": {
        "id": "Z5ppuFSAo5FU"
      },
      "source": [
        "Podemos agora adicionar um limiar a este resultado, ou seja, consideraremos 1 (true) previsões acima de 50% e valor 0 (false) abaixo deste percentual."
      ]
    },
    {
      "cell_type": "code",
      "metadata": {
        "colab": {
          "base_uri": "https://localhost:8080/"
        },
        "id": "SaFj2JzqoyJA",
        "outputId": "7eee57bb-4d66-4032-a0e1-6f465c47dd34"
      },
      "source": [
        "y_pred_test = (y_pred_test > 0.5)\r\n",
        "y_pred_test"
      ],
      "execution_count": 88,
      "outputs": [
        {
          "output_type": "execute_result",
          "data": {
            "text/plain": [
              "array([[ True],\n",
              "       [False],\n",
              "       [False],\n",
              "       ...,\n",
              "       [False],\n",
              "       [ True],\n",
              "       [ True]])"
            ]
          },
          "metadata": {
            "tags": []
          },
          "execution_count": 88
        }
      ]
    },
    {
      "cell_type": "code",
      "metadata": {
        "colab": {
          "base_uri": "https://localhost:8080/"
        },
        "id": "4GeTjzQvpPKC",
        "outputId": "e55e63b1-0636-465d-9f6f-e3a109649901"
      },
      "source": [
        "# Visualizando os valores reais\r\n",
        "test_labels"
      ],
      "execution_count": 89,
      "outputs": [
        {
          "output_type": "execute_result",
          "data": {
            "text/plain": [
              "array([1, 0, 0, ..., 0, 1, 0])"
            ]
          },
          "metadata": {
            "tags": []
          },
          "execution_count": 89
        }
      ]
    },
    {
      "cell_type": "markdown",
      "metadata": {
        "id": "zwvdarydpq1Q"
      },
      "source": [
        "Agora, iremos plotar uma matriz de confusão."
      ]
    },
    {
      "cell_type": "code",
      "metadata": {
        "colab": {
          "base_uri": "https://localhost:8080/"
        },
        "id": "PxTiFKVgpU38",
        "outputId": "a92f7e27-c413-4fae-bff1-0119f149f95d"
      },
      "source": [
        "# Importando a biblioteca\r\n",
        "from sklearn.metrics import confusion_matrix\r\n",
        "\r\n",
        "# Criando a matriz de confusao\r\n",
        "cm = confusion_matrix(test_labels, y_pred_test)\r\n",
        "cm"
      ],
      "execution_count": 90,
      "outputs": [
        {
          "output_type": "execute_result",
          "data": {
            "text/plain": [
              "array([[27874,  8126],\n",
              "       [10860, 25140]])"
            ]
          },
          "metadata": {
            "tags": []
          },
          "execution_count": 90
        }
      ]
    },
    {
      "cell_type": "code",
      "metadata": {
        "id": "jSkrE_kOp9oF",
        "outputId": "99e93224-66f7-4369-8893-b74d3dad4a8a",
        "colab": {
          "base_uri": "https://localhost:8080/",
          "height": 265
        }
      },
      "source": [
        "# Plotando a matriz de confusão\r\n",
        "sns.heatmap(cm, annot=True);"
      ],
      "execution_count": 91,
      "outputs": [
        {
          "output_type": "display_data",
          "data": {
            "image/png": "[encoded data removed]",
            "text/plain": [
              "<Figure size 432x288 with 2 Axes>"
            ]
          },
          "metadata": {
            "tags": [],
            "needs_background": "light"
          }
        }
      ]
    },
    {
      "cell_type": "code",
      "metadata": {
        "id": "zGDIFXS2qG9R"
      },
      "source": [
        ""
      ],
      "execution_count": null,
      "outputs": []
    }
  ]
}