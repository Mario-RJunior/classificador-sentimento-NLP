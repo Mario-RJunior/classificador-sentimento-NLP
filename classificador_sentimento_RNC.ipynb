{
  "nbformat": 4,
  "nbformat_minor": 0,
  "metadata": {
    "colab": {
      "name": "classificador-sentimento-RNC.ipynb",
      "provenance": [],
      "authorship_tag": "ABX9TyMFPMGAKqmACQT8WJ+CM97k",
      "include_colab_link": true
    },
    "kernelspec": {
      "name": "python3",
      "display_name": "Python 3"
    }
  },
  "cells": [
    {
      "cell_type": "markdown",
      "metadata": {
        "id": "view-in-github",
        "colab_type": "text"
      },
      "source": [
        "<a href=\"https://colab.research.google.com/github/Mario-RJunior/classificador-sentimento-NLP/blob/main/classificador_sentimento_RNC.ipynb\" target=\"_parent\"><img src=\"https://colab.research.google.com/assets/colab-badge.svg\" alt=\"Open In Colab\"/></a>"
      ]
    },
    {
      "cell_type": "markdown",
      "metadata": {
        "id": "QNTXDc1AoJMg"
      },
      "source": [
        "# Classificador de Sentimento\r\n",
        "\r\n",
        "## 1) Introdução\r\n",
        "\r\n",
        "Neste projeto iremos desenvolver um classificador de sentimentos e para isso utilizaremos uma base contendo dados de usuários do Twitter.\r\n",
        "\r\n",
        "Esta base estará estruturada da seguinte com as seguintes colunas:\r\n",
        "- ***sentiment***: 0 e 1 (negativo e positivo).\r\n",
        "- ***id***: número de identificação do comentário.\r\n",
        "- ***date***: data da postagem.\r\n",
        "- ***query***: pesquisa realizada.\r\n",
        "-\t***user***: usuário da postagem.\r\n",
        "- ***text***: texto que queremos classificar.\r\n",
        "\r\n",
        "Agora, iremos importar as bibliotecas que usaremos neste estudo.\r\n",
        "\r\n",
        "## 2) Importação das bibliotecas"
      ]
    },
    {
      "cell_type": "code",
      "metadata": {
        "id": "jMKMxQdTsBgX"
      },
      "source": [
        "# Importando as bibliotecas\r\n",
        "import numpy as np\r\n",
        "import math\r\n",
        "import re\r\n",
        "import pandas as pd\r\n",
        "from bs4 import BeautifulSoup\r\n",
        "from google.colab import drive\r\n",
        "import zipfile\r\n",
        "import seaborn as sns\r\n",
        "import spacy as sp\r\n",
        "import string\r\n",
        "import random\r\n",
        "import matplotlib.pyplot as plt"
      ],
      "execution_count": 1,
      "outputs": []
    },
    {
      "cell_type": "code",
      "metadata": {
        "id": "cy5QmGwh9G1M",
        "colab": {
          "base_uri": "https://localhost:8080/",
          "height": 35
        },
        "outputId": "f97c2c2b-b896-44d2-f10f-74c5d6efcf29"
      },
      "source": [
        "# Selecionando a versão do tensorflow\r\n",
        "%tensorflow_version 2.x\r\n",
        "\r\n",
        "# importando o tensorflow\r\n",
        "import tensorflow as tf\r\n",
        "\r\n",
        "# Visualizando a versão do tensorflow\r\n",
        "tf.__version__"
      ],
      "execution_count": 2,
      "outputs": [
        {
          "output_type": "execute_result",
          "data": {
            "application/vnd.google.colaboratory.intrinsic+json": {
              "type": "string"
            },
            "text/plain": [
              "'2.4.0'"
            ]
          },
          "metadata": {
            "tags": []
          },
          "execution_count": 2
        }
      ]
    },
    {
      "cell_type": "code",
      "metadata": {
        "id": "QYGbYyqw9iFy"
      },
      "source": [
        "# Importando recursos específicos do tensorflow\r\n",
        "from tensorflow.keras import layers\r\n",
        "import tensorflow_datasets as tfds"
      ],
      "execution_count": 3,
      "outputs": []
    },
    {
      "cell_type": "markdown",
      "metadata": {
        "id": "uQwWoLSH9aDB"
      },
      "source": [
        "## 3) Pré-processamento dos dados"
      ]
    },
    {
      "cell_type": "markdown",
      "metadata": {
        "id": "z9aq4QKv9e5L"
      },
      "source": [
        "### 3.1) Carregamento dos arquivos"
      ]
    },
    {
      "cell_type": "code",
      "metadata": {
        "colab": {
          "base_uri": "https://localhost:8080/"
        },
        "id": "j7uffomd9zRC",
        "outputId": "5f508379-950f-46b6-a8c1-c93fbcdb7872"
      },
      "source": [
        "# Conectando com o Google Drive\r\n",
        "drive.mount('/content/drive')"
      ],
      "execution_count": 4,
      "outputs": [
        {
          "output_type": "stream",
          "text": [
            "Mounted at /content/drive\n"
          ],
          "name": "stdout"
        }
      ]
    },
    {
      "cell_type": "code",
      "metadata": {
        "id": "PbL19RVF-eMx"
      },
      "source": [
        "# Caminho para acesso ao arquivo\r\n",
        "path = '/content/drive/MyDrive/NLP/trainingandtestdata.zip'\r\n",
        "\r\n",
        "# Descompactando o arquivo\r\n",
        "zip_object = zipfile.ZipFile(path, mode='r')\r\n",
        "zip_object.extractall('./')\r\n",
        "zip_object.close()"
      ],
      "execution_count": 5,
      "outputs": []
    },
    {
      "cell_type": "code",
      "metadata": {
        "id": "E4dUkQiV_uec"
      },
      "source": [
        "# Criando colunas para usar no dataframe\r\n",
        "cols = ['sentiment', 'id', 'date', 'query', 'user', 'text']"
      ],
      "execution_count": 6,
      "outputs": []
    },
    {
      "cell_type": "code",
      "metadata": {
        "id": "CqQlEYhS9dfG"
      },
      "source": [
        "# Criando dataframe\r\n",
        "train_data = pd.read_csv('/content/trainingandtestdata/train.csv', \r\n",
        "                        encoding='latin1',\r\n",
        "                        names=cols,\r\n",
        "                        header=None,\r\n",
        "                        engine='python')"
      ],
      "execution_count": 7,
      "outputs": []
    },
    {
      "cell_type": "code",
      "metadata": {
        "colab": {
          "base_uri": "https://localhost:8080/"
        },
        "id": "hT3Tn5FU_fkb",
        "outputId": "226b50c8-d647-4cee-864a-c870eeb5ea63"
      },
      "source": [
        "# Visualizando o shape do dataframe\r\n",
        "train_data.shape"
      ],
      "execution_count": 8,
      "outputs": [
        {
          "output_type": "execute_result",
          "data": {
            "text/plain": [
              "(1600000, 6)"
            ]
          },
          "metadata": {
            "tags": []
          },
          "execution_count": 8
        }
      ]
    },
    {
      "cell_type": "code",
      "metadata": {
        "colab": {
          "base_uri": "https://localhost:8080/",
          "height": 204
        },
        "id": "Z2gUe1ezA9nF",
        "outputId": "513dfe61-d78b-4f08-95cf-a8658a43da7e"
      },
      "source": [
        "# Visualizando os primeiros registros\r\n",
        "train_data.head()"
      ],
      "execution_count": 9,
      "outputs": [
        {
          "output_type": "execute_result",
          "data": {
            "text/html": [
              "<div>\n",
              "<style scoped>\n",
              "    .dataframe tbody tr th:only-of-type {\n",
              "        vertical-align: middle;\n",
              "    }\n",
              "\n",
              "    .dataframe tbody tr th {\n",
              "        vertical-align: top;\n",
              "    }\n",
              "\n",
              "    .dataframe thead th {\n",
              "        text-align: right;\n",
              "    }\n",
              "</style>\n",
              "<table border=\"1\" class=\"dataframe\">\n",
              "  <thead>\n",
              "    <tr style=\"text-align: right;\">\n",
              "      <th></th>\n",
              "      <th>sentiment</th>\n",
              "      <th>id</th>\n",
              "      <th>date</th>\n",
              "      <th>query</th>\n",
              "      <th>user</th>\n",
              "      <th>text</th>\n",
              "    </tr>\n",
              "  </thead>\n",
              "  <tbody>\n",
              "    <tr>\n",
              "      <th>0</th>\n",
              "      <td>0</td>\n",
              "      <td>1467810369</td>\n",
              "      <td>Mon Apr 06 22:19:45 PDT 2009</td>\n",
              "      <td>NO_QUERY</td>\n",
              "      <td>_TheSpecialOne_</td>\n",
              "      <td>@switchfoot http://twitpic.com/2y1zl - Awww, t...</td>\n",
              "    </tr>\n",
              "    <tr>\n",
              "      <th>1</th>\n",
              "      <td>0</td>\n",
              "      <td>1467810672</td>\n",
              "      <td>Mon Apr 06 22:19:49 PDT 2009</td>\n",
              "      <td>NO_QUERY</td>\n",
              "      <td>scotthamilton</td>\n",
              "      <td>is upset that he can't update his Facebook by ...</td>\n",
              "    </tr>\n",
              "    <tr>\n",
              "      <th>2</th>\n",
              "      <td>0</td>\n",
              "      <td>1467810917</td>\n",
              "      <td>Mon Apr 06 22:19:53 PDT 2009</td>\n",
              "      <td>NO_QUERY</td>\n",
              "      <td>mattycus</td>\n",
              "      <td>@Kenichan I dived many times for the ball. Man...</td>\n",
              "    </tr>\n",
              "    <tr>\n",
              "      <th>3</th>\n",
              "      <td>0</td>\n",
              "      <td>1467811184</td>\n",
              "      <td>Mon Apr 06 22:19:57 PDT 2009</td>\n",
              "      <td>NO_QUERY</td>\n",
              "      <td>ElleCTF</td>\n",
              "      <td>my whole body feels itchy and like its on fire</td>\n",
              "    </tr>\n",
              "    <tr>\n",
              "      <th>4</th>\n",
              "      <td>0</td>\n",
              "      <td>1467811193</td>\n",
              "      <td>Mon Apr 06 22:19:57 PDT 2009</td>\n",
              "      <td>NO_QUERY</td>\n",
              "      <td>Karoli</td>\n",
              "      <td>@nationwideclass no, it's not behaving at all....</td>\n",
              "    </tr>\n",
              "  </tbody>\n",
              "</table>\n",
              "</div>"
            ],
            "text/plain": [
              "   sentiment  ...                                               text\n",
              "0          0  ...  @switchfoot http://twitpic.com/2y1zl - Awww, t...\n",
              "1          0  ...  is upset that he can't update his Facebook by ...\n",
              "2          0  ...  @Kenichan I dived many times for the ball. Man...\n",
              "3          0  ...    my whole body feels itchy and like its on fire \n",
              "4          0  ...  @nationwideclass no, it's not behaving at all....\n",
              "\n",
              "[5 rows x 6 columns]"
            ]
          },
          "metadata": {
            "tags": []
          },
          "execution_count": 9
        }
      ]
    },
    {
      "cell_type": "code",
      "metadata": {
        "colab": {
          "base_uri": "https://localhost:8080/",
          "height": 204
        },
        "id": "yI60Qt7EBBwR",
        "outputId": "34bfa989-05c8-4c42-f9b6-e3130c866f43"
      },
      "source": [
        "# Visualizando os últimos registros\r\n",
        "train_data.tail()"
      ],
      "execution_count": 10,
      "outputs": [
        {
          "output_type": "execute_result",
          "data": {
            "text/html": [
              "<div>\n",
              "<style scoped>\n",
              "    .dataframe tbody tr th:only-of-type {\n",
              "        vertical-align: middle;\n",
              "    }\n",
              "\n",
              "    .dataframe tbody tr th {\n",
              "        vertical-align: top;\n",
              "    }\n",
              "\n",
              "    .dataframe thead th {\n",
              "        text-align: right;\n",
              "    }\n",
              "</style>\n",
              "<table border=\"1\" class=\"dataframe\">\n",
              "  <thead>\n",
              "    <tr style=\"text-align: right;\">\n",
              "      <th></th>\n",
              "      <th>sentiment</th>\n",
              "      <th>id</th>\n",
              "      <th>date</th>\n",
              "      <th>query</th>\n",
              "      <th>user</th>\n",
              "      <th>text</th>\n",
              "    </tr>\n",
              "  </thead>\n",
              "  <tbody>\n",
              "    <tr>\n",
              "      <th>1599995</th>\n",
              "      <td>4</td>\n",
              "      <td>2193601966</td>\n",
              "      <td>Tue Jun 16 08:40:49 PDT 2009</td>\n",
              "      <td>NO_QUERY</td>\n",
              "      <td>AmandaMarie1028</td>\n",
              "      <td>Just woke up. Having no school is the best fee...</td>\n",
              "    </tr>\n",
              "    <tr>\n",
              "      <th>1599996</th>\n",
              "      <td>4</td>\n",
              "      <td>2193601969</td>\n",
              "      <td>Tue Jun 16 08:40:49 PDT 2009</td>\n",
              "      <td>NO_QUERY</td>\n",
              "      <td>TheWDBoards</td>\n",
              "      <td>TheWDB.com - Very cool to hear old Walt interv...</td>\n",
              "    </tr>\n",
              "    <tr>\n",
              "      <th>1599997</th>\n",
              "      <td>4</td>\n",
              "      <td>2193601991</td>\n",
              "      <td>Tue Jun 16 08:40:49 PDT 2009</td>\n",
              "      <td>NO_QUERY</td>\n",
              "      <td>bpbabe</td>\n",
              "      <td>Are you ready for your MoJo Makeover? Ask me f...</td>\n",
              "    </tr>\n",
              "    <tr>\n",
              "      <th>1599998</th>\n",
              "      <td>4</td>\n",
              "      <td>2193602064</td>\n",
              "      <td>Tue Jun 16 08:40:49 PDT 2009</td>\n",
              "      <td>NO_QUERY</td>\n",
              "      <td>tinydiamondz</td>\n",
              "      <td>Happy 38th Birthday to my boo of alll time!!! ...</td>\n",
              "    </tr>\n",
              "    <tr>\n",
              "      <th>1599999</th>\n",
              "      <td>4</td>\n",
              "      <td>2193602129</td>\n",
              "      <td>Tue Jun 16 08:40:50 PDT 2009</td>\n",
              "      <td>NO_QUERY</td>\n",
              "      <td>RyanTrevMorris</td>\n",
              "      <td>happy #charitytuesday @theNSPCC @SparksCharity...</td>\n",
              "    </tr>\n",
              "  </tbody>\n",
              "</table>\n",
              "</div>"
            ],
            "text/plain": [
              "         sentiment  ...                                               text\n",
              "1599995          4  ...  Just woke up. Having no school is the best fee...\n",
              "1599996          4  ...  TheWDB.com - Very cool to hear old Walt interv...\n",
              "1599997          4  ...  Are you ready for your MoJo Makeover? Ask me f...\n",
              "1599998          4  ...  Happy 38th Birthday to my boo of alll time!!! ...\n",
              "1599999          4  ...  happy #charitytuesday @theNSPCC @SparksCharity...\n",
              "\n",
              "[5 rows x 6 columns]"
            ]
          },
          "metadata": {
            "tags": []
          },
          "execution_count": 10
        }
      ]
    },
    {
      "cell_type": "code",
      "metadata": {
        "colab": {
          "base_uri": "https://localhost:8080/"
        },
        "id": "ZHbQi1p4BFb0",
        "outputId": "71458956-d786-45b9-eda4-b47c504d02ef"
      },
      "source": [
        "# Visualizando os valores da classe\r\n",
        "train_data['sentiment'].unique()"
      ],
      "execution_count": 11,
      "outputs": [
        {
          "output_type": "execute_result",
          "data": {
            "text/plain": [
              "array([0, 4])"
            ]
          },
          "metadata": {
            "tags": []
          },
          "execution_count": 11
        }
      ]
    },
    {
      "cell_type": "code",
      "metadata": {
        "colab": {
          "base_uri": "https://localhost:8080/",
          "height": 279
        },
        "id": "EMq3q0STBkPF",
        "outputId": "0428df15-2a4f-42c1-8f1d-bf0531758044"
      },
      "source": [
        "# Contagem da classe\r\n",
        "sns.countplot(data=train_data, x='sentiment');"
      ],
      "execution_count": 12,
      "outputs": [
        {
          "output_type": "display_data",
          "data": {
            "image/png": "[encoded data removed]",
            "text/plain": [
              "<Figure size 432x288 with 1 Axes>"
            ]
          },
          "metadata": {
            "tags": [],
            "needs_background": "light"
          }
        }
      ]
    },
    {
      "cell_type": "markdown",
      "metadata": {
        "id": "6wtdlZgoByby"
      },
      "source": [
        "Vemos portando que a base não está desbalanceada. Criaremos agora a base de testes.\r\n",
        "\r\n"
      ]
    },
    {
      "cell_type": "code",
      "metadata": {
        "id": "QU853J6WBrj5"
      },
      "source": [
        "# Criação da base de testes\r\n",
        "test_data = pd.read_csv('/content/trainingandtestdata/test.csv', \r\n",
        "                        encoding='latin1',\r\n",
        "                        names=cols,\r\n",
        "                        header=None,\r\n",
        "                        engine='python')"
      ],
      "execution_count": 13,
      "outputs": []
    },
    {
      "cell_type": "code",
      "metadata": {
        "colab": {
          "base_uri": "https://localhost:8080/",
          "height": 204
        },
        "id": "_xDXD4VkCp7j",
        "outputId": "24d14300-2686-4eec-db96-df97a33a3c1e"
      },
      "source": [
        "# Visualizando os primeiros registros\r\n",
        "test_data.head()"
      ],
      "execution_count": 14,
      "outputs": [
        {
          "output_type": "execute_result",
          "data": {
            "text/html": [
              "<div>\n",
              "<style scoped>\n",
              "    .dataframe tbody tr th:only-of-type {\n",
              "        vertical-align: middle;\n",
              "    }\n",
              "\n",
              "    .dataframe tbody tr th {\n",
              "        vertical-align: top;\n",
              "    }\n",
              "\n",
              "    .dataframe thead th {\n",
              "        text-align: right;\n",
              "    }\n",
              "</style>\n",
              "<table border=\"1\" class=\"dataframe\">\n",
              "  <thead>\n",
              "    <tr style=\"text-align: right;\">\n",
              "      <th></th>\n",
              "      <th>sentiment</th>\n",
              "      <th>id</th>\n",
              "      <th>date</th>\n",
              "      <th>query</th>\n",
              "      <th>user</th>\n",
              "      <th>text</th>\n",
              "    </tr>\n",
              "  </thead>\n",
              "  <tbody>\n",
              "    <tr>\n",
              "      <th>0</th>\n",
              "      <td>4</td>\n",
              "      <td>3</td>\n",
              "      <td>Mon May 11 03:17:40 UTC 2009</td>\n",
              "      <td>kindle2</td>\n",
              "      <td>tpryan</td>\n",
              "      <td>@stellargirl I loooooooovvvvvveee my Kindle2. ...</td>\n",
              "    </tr>\n",
              "    <tr>\n",
              "      <th>1</th>\n",
              "      <td>4</td>\n",
              "      <td>4</td>\n",
              "      <td>Mon May 11 03:18:03 UTC 2009</td>\n",
              "      <td>kindle2</td>\n",
              "      <td>vcu451</td>\n",
              "      <td>Reading my kindle2...  Love it... Lee childs i...</td>\n",
              "    </tr>\n",
              "    <tr>\n",
              "      <th>2</th>\n",
              "      <td>4</td>\n",
              "      <td>5</td>\n",
              "      <td>Mon May 11 03:18:54 UTC 2009</td>\n",
              "      <td>kindle2</td>\n",
              "      <td>chadfu</td>\n",
              "      <td>Ok, first assesment of the #kindle2 ...it fuck...</td>\n",
              "    </tr>\n",
              "    <tr>\n",
              "      <th>3</th>\n",
              "      <td>4</td>\n",
              "      <td>6</td>\n",
              "      <td>Mon May 11 03:19:04 UTC 2009</td>\n",
              "      <td>kindle2</td>\n",
              "      <td>SIX15</td>\n",
              "      <td>@kenburbary You'll love your Kindle2. I've had...</td>\n",
              "    </tr>\n",
              "    <tr>\n",
              "      <th>4</th>\n",
              "      <td>4</td>\n",
              "      <td>7</td>\n",
              "      <td>Mon May 11 03:21:41 UTC 2009</td>\n",
              "      <td>kindle2</td>\n",
              "      <td>yamarama</td>\n",
              "      <td>@mikefish  Fair enough. But i have the Kindle2...</td>\n",
              "    </tr>\n",
              "  </tbody>\n",
              "</table>\n",
              "</div>"
            ],
            "text/plain": [
              "   sentiment  id  ...      user                                               text\n",
              "0          4   3  ...    tpryan  @stellargirl I loooooooovvvvvveee my Kindle2. ...\n",
              "1          4   4  ...    vcu451  Reading my kindle2...  Love it... Lee childs i...\n",
              "2          4   5  ...    chadfu  Ok, first assesment of the #kindle2 ...it fuck...\n",
              "3          4   6  ...     SIX15  @kenburbary You'll love your Kindle2. I've had...\n",
              "4          4   7  ...  yamarama  @mikefish  Fair enough. But i have the Kindle2...\n",
              "\n",
              "[5 rows x 6 columns]"
            ]
          },
          "metadata": {
            "tags": []
          },
          "execution_count": 14
        }
      ]
    },
    {
      "cell_type": "code",
      "metadata": {
        "colab": {
          "base_uri": "https://localhost:8080/"
        },
        "id": "Qwj6k3TdCbJa",
        "outputId": "7d9e3fc7-db45-412a-8991-ba8d34f2c62e"
      },
      "source": [
        "# Visualizando o shape\r\n",
        "test_data.shape"
      ],
      "execution_count": 15,
      "outputs": [
        {
          "output_type": "execute_result",
          "data": {
            "text/plain": [
              "(498, 6)"
            ]
          },
          "metadata": {
            "tags": []
          },
          "execution_count": 15
        }
      ]
    },
    {
      "cell_type": "code",
      "metadata": {
        "colab": {
          "base_uri": "https://localhost:8080/"
        },
        "id": "eOZSUy2ICetX",
        "outputId": "6bae4e26-1ab3-4eee-dbd4-0f977cdea37c"
      },
      "source": [
        "# Valores únicos dos sentimentos da base de testes\r\n",
        "test_data['sentiment'].unique()"
      ],
      "execution_count": 16,
      "outputs": [
        {
          "output_type": "execute_result",
          "data": {
            "text/plain": [
              "array([4, 0, 2])"
            ]
          },
          "metadata": {
            "tags": []
          },
          "execution_count": 16
        }
      ]
    },
    {
      "cell_type": "code",
      "metadata": {
        "colab": {
          "base_uri": "https://localhost:8080/",
          "height": 279
        },
        "id": "Y1it8nx-CmxN",
        "outputId": "90382e5d-67c9-4c7a-9fa8-05eccc9360f4"
      },
      "source": [
        "# Contagem da classe\r\n",
        "sns.countplot(data=test_data, x='sentiment');"
      ],
      "execution_count": 17,
      "outputs": [
        {
          "output_type": "display_data",
          "data": {
            "image/png": "[encoded data removed]",
            "text/plain": [
              "<Figure size 432x288 with 1 Axes>"
            ]
          },
          "metadata": {
            "tags": [],
            "needs_background": "light"
          }
        }
      ]
    },
    {
      "cell_type": "markdown",
      "metadata": {
        "id": "HOPCHJEZDNSx"
      },
      "source": [
        "Notamos que a base de testes tem uma estrutura diferente dos \"sentimentos\" em relação à base de treinos, apresentando um sentimento \"neutro\". Por isso não iremos utilizá-la e faremos toda a nossa análise na própria base de treinos."
      ]
    },
    {
      "cell_type": "markdown",
      "metadata": {
        "id": "gIhWhKM4vfdz"
      },
      "source": [
        "### 3.2) Separando a base de dados\r\n",
        "\r\n",
        "Antes de fazer a limpeza iremos criar um outro dataframe excluindo as colunas desnecessárias e a seguir separaremos uma amostra com 15% da base original para fazer o treinamento do modelo."
      ]
    },
    {
      "cell_type": "code",
      "metadata": {
        "colab": {
          "base_uri": "https://localhost:8080/",
          "height": 204
        },
        "id": "O9uW5U8Uvezg",
        "outputId": "312f16ea-a837-4d98-c86b-5ebef1ddf441"
      },
      "source": [
        "# Criando novo dataframe\r\n",
        "data = train_data\r\n",
        "\r\n",
        "# Deletando colunas desnecessárias\r\n",
        "data.drop(axis=1, columns=['id', 'date', 'query', 'user'], inplace=True)\r\n",
        "\r\n",
        "# Visualizando o novo dataframe\r\n",
        "data.head()"
      ],
      "execution_count": 18,
      "outputs": [
        {
          "output_type": "execute_result",
          "data": {
            "text/html": [
              "<div>\n",
              "<style scoped>\n",
              "    .dataframe tbody tr th:only-of-type {\n",
              "        vertical-align: middle;\n",
              "    }\n",
              "\n",
              "    .dataframe tbody tr th {\n",
              "        vertical-align: top;\n",
              "    }\n",
              "\n",
              "    .dataframe thead th {\n",
              "        text-align: right;\n",
              "    }\n",
              "</style>\n",
              "<table border=\"1\" class=\"dataframe\">\n",
              "  <thead>\n",
              "    <tr style=\"text-align: right;\">\n",
              "      <th></th>\n",
              "      <th>sentiment</th>\n",
              "      <th>text</th>\n",
              "    </tr>\n",
              "  </thead>\n",
              "  <tbody>\n",
              "    <tr>\n",
              "      <th>0</th>\n",
              "      <td>0</td>\n",
              "      <td>@switchfoot http://twitpic.com/2y1zl - Awww, t...</td>\n",
              "    </tr>\n",
              "    <tr>\n",
              "      <th>1</th>\n",
              "      <td>0</td>\n",
              "      <td>is upset that he can't update his Facebook by ...</td>\n",
              "    </tr>\n",
              "    <tr>\n",
              "      <th>2</th>\n",
              "      <td>0</td>\n",
              "      <td>@Kenichan I dived many times for the ball. Man...</td>\n",
              "    </tr>\n",
              "    <tr>\n",
              "      <th>3</th>\n",
              "      <td>0</td>\n",
              "      <td>my whole body feels itchy and like its on fire</td>\n",
              "    </tr>\n",
              "    <tr>\n",
              "      <th>4</th>\n",
              "      <td>0</td>\n",
              "      <td>@nationwideclass no, it's not behaving at all....</td>\n",
              "    </tr>\n",
              "  </tbody>\n",
              "</table>\n",
              "</div>"
            ],
            "text/plain": [
              "   sentiment                                               text\n",
              "0          0  @switchfoot http://twitpic.com/2y1zl - Awww, t...\n",
              "1          0  is upset that he can't update his Facebook by ...\n",
              "2          0  @Kenichan I dived many times for the ball. Man...\n",
              "3          0    my whole body feels itchy and like its on fire \n",
              "4          0  @nationwideclass no, it's not behaving at all...."
            ]
          },
          "metadata": {
            "tags": []
          },
          "execution_count": 18
        }
      ]
    },
    {
      "cell_type": "markdown",
      "metadata": {
        "id": "3x4d52Iewf7l"
      },
      "source": [
        "- Criando feature e classe"
      ]
    },
    {
      "cell_type": "code",
      "metadata": {
        "id": "7e0wU09LslrO"
      },
      "source": [
        "# Feature dos textos\r\n",
        "X = data.iloc[:, 1].values\r\n",
        "\r\n",
        "# Classe\r\n",
        "y = data.iloc[:, 0].values"
      ],
      "execution_count": 56,
      "outputs": []
    },
    {
      "cell_type": "code",
      "metadata": {
        "colab": {
          "base_uri": "https://localhost:8080/"
        },
        "id": "AHoc_CBbwqbs",
        "outputId": "e43b7670-309f-4aec-84de-3be8f25a865b"
      },
      "source": [
        "# Visualizando o array X\r\n",
        "X"
      ],
      "execution_count": 20,
      "outputs": [
        {
          "output_type": "execute_result",
          "data": {
            "text/plain": [
              "array([\"@switchfoot http://twitpic.com/2y1zl - Awww, that's a bummer.  You shoulda got David Carr of Third Day to do it. ;D\",\n",
              "       \"is upset that he can't update his Facebook by texting it... and might cry as a result  School today also. Blah!\",\n",
              "       '@Kenichan I dived many times for the ball. Managed to save 50%  The rest go out of bounds',\n",
              "       ..., 'Are you ready for your MoJo Makeover? Ask me for details ',\n",
              "       'Happy 38th Birthday to my boo of alll time!!! Tupac Amaru Shakur ',\n",
              "       'happy #charitytuesday @theNSPCC @SparksCharity @SpeakingUpH4H '],\n",
              "      dtype=object)"
            ]
          },
          "metadata": {
            "tags": []
          },
          "execution_count": 20
        }
      ]
    },
    {
      "cell_type": "code",
      "metadata": {
        "colab": {
          "base_uri": "https://localhost:8080/"
        },
        "id": "APbpTeR4w-tx",
        "outputId": "8ab9a672-8230-4d56-f82d-ed586a57e82e"
      },
      "source": [
        "# Visualizando o array y\r\n",
        "y"
      ],
      "execution_count": 57,
      "outputs": [
        {
          "output_type": "execute_result",
          "data": {
            "text/plain": [
              "array([0, 0, 0, ..., 4, 4, 4])"
            ]
          },
          "metadata": {
            "tags": []
          },
          "execution_count": 57
        }
      ]
    },
    {
      "cell_type": "markdown",
      "metadata": {
        "id": "WbJMAKxZxcso"
      },
      "source": [
        "Como a base de dados é muito grande (1600000 registros) iremos separar uma amostra (15%) desta base para fazermos o treinamento. Assim, segue o código abaixo."
      ]
    },
    {
      "cell_type": "code",
      "metadata": {
        "id": "GPm2sxs4xq2L"
      },
      "source": [
        "# Importando a biblioteca\r\n",
        "from sklearn.model_selection import train_test_split\r\n",
        "\r\n",
        "# Pegando uma amostra da base original\r\n",
        "X, _, y, _ = train_test_split(X, y, test_size=0.85, stratify=y)"
      ],
      "execution_count": 22,
      "outputs": []
    },
    {
      "cell_type": "code",
      "metadata": {
        "colab": {
          "base_uri": "https://localhost:8080/"
        },
        "id": "Hv3y3MifyBjr",
        "outputId": "60d9d9b3-1aec-42e1-c826-bf90b117fe1a"
      },
      "source": [
        "# Visualizando o shape\r\n",
        "X.shape, y.shape"
      ],
      "execution_count": 23,
      "outputs": [
        {
          "output_type": "execute_result",
          "data": {
            "text/plain": [
              "((240000,), (240000,))"
            ]
          },
          "metadata": {
            "tags": []
          },
          "execution_count": 23
        }
      ]
    },
    {
      "cell_type": "code",
      "metadata": {
        "colab": {
          "base_uri": "https://localhost:8080/"
        },
        "id": "0to39AoIzffh",
        "outputId": "ab18b357-c32e-4047-9549-b9d922336597"
      },
      "source": [
        "# Valores únicos e suas quantidades\r\n",
        "unique, counts = np.unique(y, return_counts=True)\r\n",
        "unique, counts"
      ],
      "execution_count": 24,
      "outputs": [
        {
          "output_type": "execute_result",
          "data": {
            "text/plain": [
              "(array([0, 4]), array([120000, 120000]))"
            ]
          },
          "metadata": {
            "tags": []
          },
          "execution_count": 24
        }
      ]
    },
    {
      "cell_type": "markdown",
      "metadata": {
        "id": "x7rM6HwhO2Rn"
      },
      "source": [
        "### 3.3) Limpeza dos textos\r\n",
        "\r\n",
        "Nesta subção iremos limpar de fato os textos e para isso criaremos uma função que fará o trabalho. Para teste, usaremos um texto aleatório da base de dados."
      ]
    },
    {
      "cell_type": "code",
      "metadata": {
        "id": "6XOJwAm8zrIJ"
      },
      "source": [
        "# Criando a função\r\n",
        "def clean_tweets(tweet):\r\n",
        "  tweet = BeautifulSoup(tweet, 'lxml').get_text()\r\n",
        "  tweet = re.sub(r'@[A-Za-z0-9_]+', ' ', tweet)\r\n",
        "  tweet = re.sub(r'https?://[A-Za-z0-9./]+', ' ', tweet)\r\n",
        "  tweet = re.sub(r'[^A-Za-z.!?]', ' ', tweet)\r\n",
        "  tweet = re.sub(r' +', ' ', tweet).strip()\r\n",
        "  return tweet"
      ],
      "execution_count": 25,
      "outputs": []
    },
    {
      "cell_type": "code",
      "metadata": {
        "id": "g29tmhCDPIZu",
        "colab": {
          "base_uri": "https://localhost:8080/",
          "height": 35
        },
        "outputId": "4de73439-4dd7-4da4-9859-697295f3152b"
      },
      "source": [
        "# Criando um texto qualquer para teste\r\n",
        "text = data['text'][0]\r\n",
        "text"
      ],
      "execution_count": 26,
      "outputs": [
        {
          "output_type": "execute_result",
          "data": {
            "application/vnd.google.colaboratory.intrinsic+json": {
              "type": "string"
            },
            "text/plain": [
              "\"@switchfoot http://twitpic.com/2y1zl - Awww, that's a bummer.  You shoulda got David Carr of Third Day to do it. ;D\""
            ]
          },
          "metadata": {
            "tags": []
          },
          "execution_count": 26
        }
      ]
    },
    {
      "cell_type": "code",
      "metadata": {
        "id": "z1izEKYvPQZM",
        "colab": {
          "base_uri": "https://localhost:8080/",
          "height": 35
        },
        "outputId": "3608bc9f-7c80-4473-a9df-5d4b7f9591c0"
      },
      "source": [
        "# Testando a função\r\n",
        "text = clean_tweets(text)\r\n",
        "text"
      ],
      "execution_count": 27,
      "outputs": [
        {
          "output_type": "execute_result",
          "data": {
            "application/vnd.google.colaboratory.intrinsic+json": {
              "type": "string"
            },
            "text/plain": [
              "'Awww that s a bummer. You shoulda got David Carr of Third Day to do it. D'"
            ]
          },
          "metadata": {
            "tags": []
          },
          "execution_count": 27
        }
      ]
    },
    {
      "cell_type": "markdown",
      "metadata": {
        "id": "X8GrIxHZ8t3G"
      },
      "source": [
        "- Remoção de stop words\r\n",
        "\r\n",
        "Iremos aqui escrever uma função para remoção de stop words dos tweets."
      ]
    },
    {
      "cell_type": "code",
      "metadata": {
        "colab": {
          "base_uri": "https://localhost:8080/"
        },
        "id": "Isb5ezXA3UxI",
        "outputId": "5f719d7d-2ff9-4f8e-e48a-42902b15182a"
      },
      "source": [
        "# Criando um objeto para lingua inglesa\r\n",
        "nlp = sp.load('en')\r\n",
        "nlp"
      ],
      "execution_count": 28,
      "outputs": [
        {
          "output_type": "execute_result",
          "data": {
            "text/plain": [
              "<spacy.lang.en.English at 0x7f5c61ca4208>"
            ]
          },
          "metadata": {
            "tags": []
          },
          "execution_count": 28
        }
      ]
    },
    {
      "cell_type": "code",
      "metadata": {
        "colab": {
          "base_uri": "https://localhost:8080/"
        },
        "id": "9AULraYQ3dyX",
        "outputId": "48dd699b-e117-448a-fd20-3bb81afedf9a"
      },
      "source": [
        "# Criando lista de stop words\r\n",
        "stop_words = sp.lang.en.STOP_WORDS\r\n",
        "print(stop_words)"
      ],
      "execution_count": 29,
      "outputs": [
        {
          "output_type": "stream",
          "text": [
            "{'every', 'becoming', 'my', 'sometime', 'thence', 'thru', \"n't\", 'below', 'about', 'eight', 'nor', 'last', 'this', 'well', 'either', 'your', 'otherwise', 'yourselves', 'amount', 'without', 'down', 'while', 'get', 'alone', 'both', 'with', 'would', 'hundred', 'is', 'him', 'herein', 'before', 'between', 'and', 'moreover', 'though', 'mine', 'besides', 'most', 'next', 'therefore', 'anyone', 'rather', 'such', \"'re\", 'elsewhere', 'across', 'quite', 'few', 'once', 'fifty', 'never', 'own', 'no', 'do', 'too', 'among', 'else', 'whence', 'nine', 'were', 'which', 'than', 'within', 'was', 're', '‘re', 'always', 'hers', 'done', 'since', 'made', 'just', 'beyond', 'mostly', 'out', 'name', 'least', 'neither', 'noone', 'not', 'now', 'our', 'some', 'through', '’ll', 'whoever', 'they', 'again', 'have', 'all', 'ourselves', 'somehow', 'she', 'front', 'on', 'others', 'whereupon', 'above', 'make', 'say', 'ours', 'give', 'serious', 'ten', 'thus', 'towards', 'unless', '‘ve', 'becomes', 'beside', 'around', 'one', 'onto', 'latter', 'yourself', 'enough', 'his', 'other', '’m', 'of', 'when', 'formerly', 'her', 'whether', 'although', 'he', 'go', 'already', 'sometimes', 'has', 'something', 'several', 'amongst', 'wherein', 'will', 'six', 'another', 'due', 'empty', 'then', 'regarding', 'toward', 'where', 'whole', 'former', 'ever', 'so', 'none', '‘s', 'anything', 'i', 'along', 'everyone', 'via', 'may', 'whereby', 'off', 'be', 'it', '’ve', 'yet', 'bottom', 'each', 'yours', 'really', 'over', 'beforehand', 'an', 'therein', 'whither', 'whose', 'nevertheless', 'as', 'two', 'much', '’re', 'are', 'become', 'whereafter', 'the', \"'d\", 'show', 'herself', 'you', 'same', 'except', 'myself', 'only', 'up', 'used', 'until', 'afterwards', 'move', 'sixty', 'further', 'someone', 'twelve', 'what', 'seem', 'after', 'at', 'into', 'perhaps', 'if', 'throughout', 'we', 'must', 'part', 'can', 'anyhow', 'being', 'did', 'keep', 'thereby', 'me', 'using', 'very', 'call', 'first', 'by', 'for', 'whenever', 'could', 'might', 'various', \"'ll\", 'them', 'whom', 'however', 'nowhere', 'put', 'those', 'under', 'namely', 'that', 'nobody', 'been', 'also', 'cannot', 'thereupon', 'back', 'anywhere', 'us', 'who', '‘m', 'doing', 'from', 'because', 'per', 'upon', 'n‘t', 'often', 'hence', '’d', 'am', 'four', 'or', 'third', 'see', 'should', 'against', 'wherever', 'any', 'why', 'themselves', 'how', 'thereafter', 'still', 'himself', '‘ll', 'more', 'meanwhile', 'eleven', 'please', 'whatever', 'its', 'seems', 'hereafter', 'twenty', 'anyway', 'everything', 'had', 'seeming', 'three', \"'s\", 'n’t', '‘d', 'here', 'does', 'hereby', 'many', 'these', \"'ve\", '’s', 'seemed', 'to', 'together', 'a', 'full', 'forty', 'itself', 'five', \"'m\", 'behind', 'hereupon', 'became', 'nothing', 'but', 'fifteen', 'there', 'latterly', 'almost', 'top', 'whereas', 'ca', 'everywhere', 'during', 'somewhere', 'even', 'their', 'side', 'take', 'indeed', 'less', 'in'}\n"
          ],
          "name": "stdout"
        }
      ]
    },
    {
      "cell_type": "code",
      "metadata": {
        "colab": {
          "base_uri": "https://localhost:8080/"
        },
        "id": "ksYfHVcm37Ru",
        "outputId": "5b7ce771-5740-43dd-901f-ecd83f2b16b1"
      },
      "source": [
        "# Contando total de stop words\r\n",
        "len(stop_words)"
      ],
      "execution_count": 30,
      "outputs": [
        {
          "output_type": "execute_result",
          "data": {
            "text/plain": [
              "326"
            ]
          },
          "metadata": {
            "tags": []
          },
          "execution_count": 30
        }
      ]
    },
    {
      "cell_type": "code",
      "metadata": {
        "id": "LV6FV-qS8s4k"
      },
      "source": [
        "# Função para remover stop words\r\n",
        "def remove_stop_words(tweet):\r\n",
        "  tweet = tweet.lower()\r\n",
        "  document = nlp(tweet)\r\n",
        "\r\n",
        "  words = [token.text for token in document]\r\n",
        "  words = [word for word in words if word not in stop_words \\\r\n",
        "           and word not in string.punctuation]\r\n",
        "  words = ' '.join(words)\r\n",
        "\r\n",
        "  return words"
      ],
      "execution_count": 31,
      "outputs": []
    },
    {
      "cell_type": "code",
      "metadata": {
        "colab": {
          "base_uri": "https://localhost:8080/",
          "height": 35
        },
        "id": "OMzT1R2v9EIy",
        "outputId": "294fbd13-4720-48b4-e562-4aaa42737b9a"
      },
      "source": [
        "remove_stop_words(text)"
      ],
      "execution_count": 32,
      "outputs": [
        {
          "output_type": "execute_result",
          "data": {
            "application/vnd.google.colaboratory.intrinsic+json": {
              "type": "string"
            },
            "text/plain": [
              "'awww s bummer shoulda got david carr day d'"
            ]
          },
          "metadata": {
            "tags": []
          },
          "execution_count": 32
        }
      ]
    },
    {
      "cell_type": "markdown",
      "metadata": {
        "id": "tAW-GdoHKPvA"
      },
      "source": [
        "Para realmente fazermos a limpeza dos textos iremos juntar as duas funções anteriores em apenas uma para otimizar este trabalho."
      ]
    },
    {
      "cell_type": "code",
      "metadata": {
        "id": "PtHSU1JtKY-0"
      },
      "source": [
        "# Criando a função final\r\n",
        "def clean_tweets2(tweet):\r\n",
        "  tweet = BeautifulSoup(tweet, 'lxml').get_text()\r\n",
        "  tweet = re.sub(r'@[A-Za-z0-9_]+', ' ', tweet)\r\n",
        "  tweet = re.sub(r'https?://[A-Za-z0-9./]+', ' ', tweet)\r\n",
        "  tweet = re.sub(r'[^A-Za-z.!?]', ' ', tweet)\r\n",
        "  tweet = re.sub(r' +', ' ', tweet).strip()\r\n",
        "\r\n",
        "  tweet = tweet.lower()\r\n",
        "  document = nlp(tweet)\r\n",
        "\r\n",
        "  words = [token.text for token in document]\r\n",
        "  words = [word for word in words if word not in stop_words \\\r\n",
        "           and word not in string.punctuation]\r\n",
        "  words = ' '.join(words)\r\n",
        "  return words"
      ],
      "execution_count": 33,
      "outputs": []
    },
    {
      "cell_type": "markdown",
      "metadata": {
        "id": "DwzxKtQBXa92"
      },
      "source": [
        "- Limpeza de todos os reviews"
      ]
    },
    {
      "cell_type": "markdown",
      "metadata": {
        "id": "QsyRE16EWKkn"
      },
      "source": [
        "Iremos testar a função acima."
      ]
    },
    {
      "cell_type": "code",
      "metadata": {
        "id": "D5re9PdQnpLY",
        "colab": {
          "base_uri": "https://localhost:8080/",
          "height": 35
        },
        "outputId": "8424eb39-15f4-47e8-db8f-5fe3bd80bb18"
      },
      "source": [
        "# Definindo a variável contendo um review\r\n",
        "text2 = data['text'][0]\r\n",
        "text2"
      ],
      "execution_count": 35,
      "outputs": [
        {
          "output_type": "execute_result",
          "data": {
            "application/vnd.google.colaboratory.intrinsic+json": {
              "type": "string"
            },
            "text/plain": [
              "\"@switchfoot http://twitpic.com/2y1zl - Awww, that's a bummer.  You shoulda got David Carr of Third Day to do it. ;D\""
            ]
          },
          "metadata": {
            "tags": []
          },
          "execution_count": 35
        }
      ]
    },
    {
      "cell_type": "code",
      "metadata": {
        "colab": {
          "base_uri": "https://localhost:8080/",
          "height": 35
        },
        "id": "awaStCjkV3bp",
        "outputId": "4a666760-4d82-4cfb-bb70-8e0f840840ac"
      },
      "source": [
        "# Aplicando a função acima\r\n",
        "text2 = clean_tweets2(text2)\r\n",
        "text2"
      ],
      "execution_count": 36,
      "outputs": [
        {
          "output_type": "execute_result",
          "data": {
            "application/vnd.google.colaboratory.intrinsic+json": {
              "type": "string"
            },
            "text/plain": [
              "'awww s bummer shoulda got david carr day d'"
            ]
          },
          "metadata": {
            "tags": []
          },
          "execution_count": 36
        }
      ]
    },
    {
      "cell_type": "markdown",
      "metadata": {
        "id": "He7cRE45Xp8A"
      },
      "source": [
        "Agora sim aplicaremos a função nos reviews."
      ]
    },
    {
      "cell_type": "code",
      "metadata": {
        "id": "tZ95GLFvXebU"
      },
      "source": [
        "# Criando variável com reviews limpos\r\n",
        "data_clean = [clean_tweets2(tweet) for tweet in X]"
      ],
      "execution_count": 39,
      "outputs": []
    },
    {
      "cell_type": "code",
      "metadata": {
        "colab": {
          "base_uri": "https://localhost:8080/"
        },
        "id": "BSDB22v8YU4v",
        "outputId": "8234862d-3539-4ea0-a58d-39aa0922dc0d"
      },
      "source": [
        "# Retornando alguns registros aleatoriamente\r\n",
        "for _ in range(10):\r\n",
        "  print(data_clean[random.randint(0, len(data_clean) - 1)])"
      ],
      "execution_count": 46,
      "outputs": [
        {
          "output_type": "stream",
          "text": [
            "veronicas radio ... yeah\n",
            "night twitter world brb\n",
            "sooo ny days hold u ....\n",
            "like old threadless designs sold long ago\n",
            "school pantherettes tryouts tomorrow\n",
            "sucks m megggggga bored help\n",
            "aha managed dislodge cat shuffle doona actually sleeping space goodnight twitter world\n",
            "\n",
            "s soooo nice outside study bf work bad timing\n",
            "pung haha .. nt care jk\n"
          ],
          "name": "stdout"
        }
      ]
    },
    {
      "cell_type": "markdown",
      "metadata": {
        "id": "-MAhhNyVlxzD"
      },
      "source": [
        "Uma outra alteração que devemos fazer é na variável y, uma vez que ela apresenta valores 0 e 4 para comentários negativos e positivos respectivamente. Então substituiremos por 0 e 1."
      ]
    },
    {
      "cell_type": "code",
      "metadata": {
        "colab": {
          "base_uri": "https://localhost:8080/"
        },
        "id": "Lrn3A25AmAfs",
        "outputId": "2a8c840e-a6cd-4983-9bec-81f5c6d7a299"
      },
      "source": [
        "# Definindo a variável\r\n",
        "data_labels = y\r\n",
        "np.unique(data_labels)"
      ],
      "execution_count": 59,
      "outputs": [
        {
          "output_type": "execute_result",
          "data": {
            "text/plain": [
              "array([0, 4])"
            ]
          },
          "metadata": {
            "tags": []
          },
          "execution_count": 59
        }
      ]
    },
    {
      "cell_type": "code",
      "metadata": {
        "id": "yKUNXAcMmJDa"
      },
      "source": [
        "# Alterando de 4 para 1\r\n",
        "data_labels[data_labels == 4] = 1"
      ],
      "execution_count": 60,
      "outputs": []
    },
    {
      "cell_type": "code",
      "metadata": {
        "colab": {
          "base_uri": "https://localhost:8080/"
        },
        "id": "OUPr5cazmVCX",
        "outputId": "c4393847-00d6-407c-8193-4c6e657dcd38"
      },
      "source": [
        "# Confirmando a alteração\r\n",
        "np.unique(data_labels)"
      ],
      "execution_count": 61,
      "outputs": [
        {
          "output_type": "execute_result",
          "data": {
            "text/plain": [
              "array([0, 1])"
            ]
          },
          "metadata": {
            "tags": []
          },
          "execution_count": 61
        }
      ]
    },
    {
      "cell_type": "markdown",
      "metadata": {
        "id": "LObluESmCITG"
      },
      "source": [
        "### 3.4) Tokenização\r\n",
        "\r\n",
        "O processo de tokenização consiste em converter todos os textos em números. Este processo é extremamente necessário uma vez que iremos trabalhar com algorítmos que não aceitam dados no formato \"string\"."
      ]
    },
    {
      "cell_type": "code",
      "metadata": {
        "id": "Z-Jq9eMYming"
      },
      "source": [
        "# Criando objeto para tokenização\r\n",
        "tokenizer = tfds.deprecated.text.SubwordTextEncoder.build_from_corpus(data_clean,\r\n",
        "                                                                      target_vocab_size=2**16)"
      ],
      "execution_count": 62,
      "outputs": []
    },
    {
      "cell_type": "code",
      "metadata": {
        "colab": {
          "base_uri": "https://localhost:8080/"
        },
        "id": "1kmV-9M-ZP_p",
        "outputId": "aa32c244-9221-44af-f2a6-93f4aebc9a3c"
      },
      "source": [
        "# Verificando tamanho do vocabulário\r\n",
        "tokenizer.vocab_size"
      ],
      "execution_count": 63,
      "outputs": [
        {
          "output_type": "execute_result",
          "data": {
            "text/plain": [
              "51912"
            ]
          },
          "metadata": {
            "tags": []
          },
          "execution_count": 63
        }
      ]
    },
    {
      "cell_type": "markdown",
      "metadata": {
        "id": "JiftafNLZ85f"
      },
      "source": [
        "Note que iremos utilizar um vocabulário contendo 51912 palavras. \r\n",
        "\r\n",
        "A seguir iremos de fato tokenizar o vocabulário e para isso faremos um teste para verificar como funciona o processo."
      ]
    },
    {
      "cell_type": "code",
      "metadata": {
        "colab": {
          "base_uri": "https://localhost:8080/"
        },
        "id": "OKHoRMUUcHyZ",
        "outputId": "5ce24f1c-1337-49d0-9a09-c827f9eab33b"
      },
      "source": [
        "# Criando id's de teste para texto qualquer\r\n",
        "ids = tokenizer.encode('i am happy')\r\n",
        "ids"
      ],
      "execution_count": 85,
      "outputs": [
        {
          "output_type": "execute_result",
          "data": {
            "text/plain": [
              "[268, 3802, 369]"
            ]
          },
          "metadata": {
            "tags": []
          },
          "execution_count": 85
        }
      ]
    },
    {
      "cell_type": "code",
      "metadata": {
        "id": "YCgSFidWgsef",
        "outputId": "b5659861-f0cc-4b3d-9155-35777e547c23",
        "colab": {
          "base_uri": "https://localhost:8080/",
          "height": 35
        }
      },
      "source": [
        "# Decodificando os id's\r\n",
        "text = tokenizer.decode(ids)\r\n",
        "text"
      ],
      "execution_count": 86,
      "outputs": [
        {
          "output_type": "execute_result",
          "data": {
            "application/vnd.google.colaboratory.intrinsic+json": {
              "type": "string"
            },
            "text/plain": [
              "'i am happy'"
            ]
          },
          "metadata": {
            "tags": []
          },
          "execution_count": 86
        }
      ]
    },
    {
      "cell_type": "code",
      "metadata": {
        "id": "oaauBaFDg40v"
      },
      "source": [
        ""
      ],
      "execution_count": null,
      "outputs": []
    }
  ]
}