{
  "nbformat": 4,
  "nbformat_minor": 0,
  "metadata": {
    "colab": {
      "name": "classificador-sentimento-RNC.ipynb",
      "provenance": [],
      "include_colab_link": true
    },
    "kernelspec": {
      "name": "python3",
      "display_name": "Python 3"
    }
  },
  "cells": [
    {
      "cell_type": "markdown",
      "metadata": {
        "id": "view-in-github",
        "colab_type": "text"
      },
      "source": [
        "<a href=\"https://colab.research.google.com/github/Mario-RJunior/classificador-sentimento-NLP/blob/main/classificador_sentimento_RNC.ipynb\" target=\"_parent\"><img src=\"https://colab.research.google.com/assets/colab-badge.svg\" alt=\"Open In Colab\"/></a>"
      ]
    },
    {
      "cell_type": "markdown",
      "metadata": {
        "id": "QNTXDc1AoJMg"
      },
      "source": [
        "# Classificador de Sentimento\r\n",
        "\r\n",
        "## 1) Introdução\r\n",
        "\r\n",
        "Neste projeto iremos desenvolver um classificador de sentimentos e para isso utilizaremos uma base contendo dados de usuários do Twitter.\r\n",
        "\r\n",
        "Esta base estará estruturada da seguinte com as seguintes colunas:\r\n",
        "- ***sentiment***: 0 e 1 (negativo e positivo).\r\n",
        "- ***id***: número de identificação do comentário.\r\n",
        "- ***date***: data da postagem.\r\n",
        "- ***query***: pesquisa realizada.\r\n",
        "-\t***user***: usuário da postagem.\r\n",
        "- ***text***: texto que queremos classificar.\r\n",
        "\r\n",
        "Agora, iremos importar as bibliotecas que usaremos neste estudo.\r\n",
        "\r\n",
        "## 2) Importação das bibliotecas"
      ]
    },
    {
      "cell_type": "code",
      "metadata": {
        "id": "jMKMxQdTsBgX"
      },
      "source": [
        "# Importando as bibliotecas\r\n",
        "import numpy as np\r\n",
        "import math\r\n",
        "import re\r\n",
        "import pandas as pd\r\n",
        "from bs4 import BeautifulSoup\r\n",
        "from google.colab import drive\r\n",
        "import zipfile\r\n",
        "import seaborn as sns\r\n",
        "import spacy as sp\r\n",
        "import string\r\n",
        "import random\r\n",
        "import matplotlib.pyplot as plt"
      ],
      "execution_count": null,
      "outputs": []
    },
    {
      "cell_type": "code",
      "metadata": {
        "id": "cy5QmGwh9G1M",
        "colab": {
          "base_uri": "https://localhost:8080/",
          "height": 35
        },
        "outputId": "3d853985-cd85-4bba-e828-0c57d68337f7"
      },
      "source": [
        "# Selecionando a versão do tensorflow\r\n",
        "%tensorflow_version 2.x\r\n",
        "\r\n",
        "# importando o tensorflow\r\n",
        "import tensorflow as tf\r\n",
        "\r\n",
        "# Visualizando a versão do tensorflow\r\n",
        "tf.__version__"
      ],
      "execution_count": null,
      "outputs": [
        {
          "output_type": "execute_result",
          "data": {
            "application/vnd.google.colaboratory.intrinsic+json": {
              "type": "string"
            },
            "text/plain": [
              "'2.4.0'"
            ]
          },
          "metadata": {
            "tags": []
          },
          "execution_count": 2
        }
      ]
    },
    {
      "cell_type": "code",
      "metadata": {
        "id": "QYGbYyqw9iFy"
      },
      "source": [
        "# Importando recursos específicos do tensorflow\r\n",
        "from tensorflow.keras import layers\r\n",
        "import tensorflow_datasets as tfds"
      ],
      "execution_count": null,
      "outputs": []
    },
    {
      "cell_type": "markdown",
      "metadata": {
        "id": "uQwWoLSH9aDB"
      },
      "source": [
        "## 3) Pré-processamento dos dados"
      ]
    },
    {
      "cell_type": "markdown",
      "metadata": {
        "id": "z9aq4QKv9e5L"
      },
      "source": [
        "### 3.1) Carregamento dos arquivos"
      ]
    },
    {
      "cell_type": "code",
      "metadata": {
        "colab": {
          "base_uri": "https://localhost:8080/"
        },
        "id": "j7uffomd9zRC",
        "outputId": "8aa983a9-83d7-4987-9749-c8da104e2168"
      },
      "source": [
        "# Conectando com o Google Drive\r\n",
        "drive.mount('/content/drive')"
      ],
      "execution_count": null,
      "outputs": [
        {
          "output_type": "stream",
          "text": [
            "Drive already mounted at /content/drive; to attempt to forcibly remount, call drive.mount(\"/content/drive\", force_remount=True).\n"
          ],
          "name": "stdout"
        }
      ]
    },
    {
      "cell_type": "code",
      "metadata": {
        "id": "PbL19RVF-eMx"
      },
      "source": [
        "# Caminho para acesso ao arquivo\r\n",
        "path = '/content/drive/MyDrive/NLP/trainingandtestdata.zip'\r\n",
        "\r\n",
        "# Descompactando o arquivo\r\n",
        "zip_object = zipfile.ZipFile(path, mode='r')\r\n",
        "zip_object.extractall('./')\r\n",
        "zip_object.close()"
      ],
      "execution_count": null,
      "outputs": []
    },
    {
      "cell_type": "code",
      "metadata": {
        "id": "E4dUkQiV_uec"
      },
      "source": [
        "# Criando colunas para usar no dataframe\r\n",
        "cols = ['sentiment', 'id', 'date', 'query', 'user', 'text']"
      ],
      "execution_count": null,
      "outputs": []
    },
    {
      "cell_type": "code",
      "metadata": {
        "id": "CqQlEYhS9dfG"
      },
      "source": [
        "# Criando dataframe\r\n",
        "train_data = pd.read_csv('/content/trainingandtestdata/train.csv', \r\n",
        "                        encoding='latin1',\r\n",
        "                        names=cols,\r\n",
        "                        header=None,\r\n",
        "                        engine='python')"
      ],
      "execution_count": null,
      "outputs": []
    },
    {
      "cell_type": "code",
      "metadata": {
        "colab": {
          "base_uri": "https://localhost:8080/"
        },
        "id": "hT3Tn5FU_fkb",
        "outputId": "18496de2-72b1-4880-a716-543977d5aea7"
      },
      "source": [
        "# Visualizando o shape do dataframe\r\n",
        "train_data.shape"
      ],
      "execution_count": null,
      "outputs": [
        {
          "output_type": "execute_result",
          "data": {
            "text/plain": [
              "(1600000, 6)"
            ]
          },
          "metadata": {
            "tags": []
          },
          "execution_count": 8
        }
      ]
    },
    {
      "cell_type": "code",
      "metadata": {
        "colab": {
          "base_uri": "https://localhost:8080/"
        },
        "id": "Z2gUe1ezA9nF",
        "outputId": "cab583e9-746e-436f-fe2e-81a82b5eb147"
      },
      "source": [
        "# Visualizando os primeiros registros\r\n",
        "train_data.head()"
      ],
      "execution_count": null,
      "outputs": [
        {
          "output_type": "execute_result",
          "data": {
            "text/html": [
              "<div>\n",
              "<style scoped>\n",
              "    .dataframe tbody tr th:only-of-type {\n",
              "        vertical-align: middle;\n",
              "    }\n",
              "\n",
              "    .dataframe tbody tr th {\n",
              "        vertical-align: top;\n",
              "    }\n",
              "\n",
              "    .dataframe thead th {\n",
              "        text-align: right;\n",
              "    }\n",
              "</style>\n",
              "<table border=\"1\" class=\"dataframe\">\n",
              "  <thead>\n",
              "    <tr style=\"text-align: right;\">\n",
              "      <th></th>\n",
              "      <th>sentiment</th>\n",
              "      <th>id</th>\n",
              "      <th>date</th>\n",
              "      <th>query</th>\n",
              "      <th>user</th>\n",
              "      <th>text</th>\n",
              "    </tr>\n",
              "  </thead>\n",
              "  <tbody>\n",
              "    <tr>\n",
              "      <th>0</th>\n",
              "      <td>0</td>\n",
              "      <td>1467810369</td>\n",
              "      <td>Mon Apr 06 22:19:45 PDT 2009</td>\n",
              "      <td>NO_QUERY</td>\n",
              "      <td>_TheSpecialOne_</td>\n",
              "      <td>@switchfoot http://twitpic.com/2y1zl - Awww, t...</td>\n",
              "    </tr>\n",
              "    <tr>\n",
              "      <th>1</th>\n",
              "      <td>0</td>\n",
              "      <td>1467810672</td>\n",
              "      <td>Mon Apr 06 22:19:49 PDT 2009</td>\n",
              "      <td>NO_QUERY</td>\n",
              "      <td>scotthamilton</td>\n",
              "      <td>is upset that he can't update his Facebook by ...</td>\n",
              "    </tr>\n",
              "    <tr>\n",
              "      <th>2</th>\n",
              "      <td>0</td>\n",
              "      <td>1467810917</td>\n",
              "      <td>Mon Apr 06 22:19:53 PDT 2009</td>\n",
              "      <td>NO_QUERY</td>\n",
              "      <td>mattycus</td>\n",
              "      <td>@Kenichan I dived many times for the ball. Man...</td>\n",
              "    </tr>\n",
              "    <tr>\n",
              "      <th>3</th>\n",
              "      <td>0</td>\n",
              "      <td>1467811184</td>\n",
              "      <td>Mon Apr 06 22:19:57 PDT 2009</td>\n",
              "      <td>NO_QUERY</td>\n",
              "      <td>ElleCTF</td>\n",
              "      <td>my whole body feels itchy and like its on fire</td>\n",
              "    </tr>\n",
              "    <tr>\n",
              "      <th>4</th>\n",
              "      <td>0</td>\n",
              "      <td>1467811193</td>\n",
              "      <td>Mon Apr 06 22:19:57 PDT 2009</td>\n",
              "      <td>NO_QUERY</td>\n",
              "      <td>Karoli</td>\n",
              "      <td>@nationwideclass no, it's not behaving at all....</td>\n",
              "    </tr>\n",
              "  </tbody>\n",
              "</table>\n",
              "</div>"
            ],
            "text/plain": [
              "   sentiment  ...                                               text\n",
              "0          0  ...  @switchfoot http://twitpic.com/2y1zl - Awww, t...\n",
              "1          0  ...  is upset that he can't update his Facebook by ...\n",
              "2          0  ...  @Kenichan I dived many times for the ball. Man...\n",
              "3          0  ...    my whole body feels itchy and like its on fire \n",
              "4          0  ...  @nationwideclass no, it's not behaving at all....\n",
              "\n",
              "[5 rows x 6 columns]"
            ]
          },
          "metadata": {
            "tags": []
          },
          "execution_count": 9
        }
      ]
    },
    {
      "cell_type": "code",
      "metadata": {
        "colab": {
          "base_uri": "https://localhost:8080/"
        },
        "id": "yI60Qt7EBBwR",
        "outputId": "3788be86-4c2f-4d64-a580-9c8fcdb5d524"
      },
      "source": [
        "# Visualizando os últimos registros\r\n",
        "train_data.tail()"
      ],
      "execution_count": null,
      "outputs": [
        {
          "output_type": "execute_result",
          "data": {
            "text/html": [
              "<div>\n",
              "<style scoped>\n",
              "    .dataframe tbody tr th:only-of-type {\n",
              "        vertical-align: middle;\n",
              "    }\n",
              "\n",
              "    .dataframe tbody tr th {\n",
              "        vertical-align: top;\n",
              "    }\n",
              "\n",
              "    .dataframe thead th {\n",
              "        text-align: right;\n",
              "    }\n",
              "</style>\n",
              "<table border=\"1\" class=\"dataframe\">\n",
              "  <thead>\n",
              "    <tr style=\"text-align: right;\">\n",
              "      <th></th>\n",
              "      <th>sentiment</th>\n",
              "      <th>id</th>\n",
              "      <th>date</th>\n",
              "      <th>query</th>\n",
              "      <th>user</th>\n",
              "      <th>text</th>\n",
              "    </tr>\n",
              "  </thead>\n",
              "  <tbody>\n",
              "    <tr>\n",
              "      <th>1599995</th>\n",
              "      <td>4</td>\n",
              "      <td>2193601966</td>\n",
              "      <td>Tue Jun 16 08:40:49 PDT 2009</td>\n",
              "      <td>NO_QUERY</td>\n",
              "      <td>AmandaMarie1028</td>\n",
              "      <td>Just woke up. Having no school is the best fee...</td>\n",
              "    </tr>\n",
              "    <tr>\n",
              "      <th>1599996</th>\n",
              "      <td>4</td>\n",
              "      <td>2193601969</td>\n",
              "      <td>Tue Jun 16 08:40:49 PDT 2009</td>\n",
              "      <td>NO_QUERY</td>\n",
              "      <td>TheWDBoards</td>\n",
              "      <td>TheWDB.com - Very cool to hear old Walt interv...</td>\n",
              "    </tr>\n",
              "    <tr>\n",
              "      <th>1599997</th>\n",
              "      <td>4</td>\n",
              "      <td>2193601991</td>\n",
              "      <td>Tue Jun 16 08:40:49 PDT 2009</td>\n",
              "      <td>NO_QUERY</td>\n",
              "      <td>bpbabe</td>\n",
              "      <td>Are you ready for your MoJo Makeover? Ask me f...</td>\n",
              "    </tr>\n",
              "    <tr>\n",
              "      <th>1599998</th>\n",
              "      <td>4</td>\n",
              "      <td>2193602064</td>\n",
              "      <td>Tue Jun 16 08:40:49 PDT 2009</td>\n",
              "      <td>NO_QUERY</td>\n",
              "      <td>tinydiamondz</td>\n",
              "      <td>Happy 38th Birthday to my boo of alll time!!! ...</td>\n",
              "    </tr>\n",
              "    <tr>\n",
              "      <th>1599999</th>\n",
              "      <td>4</td>\n",
              "      <td>2193602129</td>\n",
              "      <td>Tue Jun 16 08:40:50 PDT 2009</td>\n",
              "      <td>NO_QUERY</td>\n",
              "      <td>RyanTrevMorris</td>\n",
              "      <td>happy #charitytuesday @theNSPCC @SparksCharity...</td>\n",
              "    </tr>\n",
              "  </tbody>\n",
              "</table>\n",
              "</div>"
            ],
            "text/plain": [
              "         sentiment  ...                                               text\n",
              "1599995          4  ...  Just woke up. Having no school is the best fee...\n",
              "1599996          4  ...  TheWDB.com - Very cool to hear old Walt interv...\n",
              "1599997          4  ...  Are you ready for your MoJo Makeover? Ask me f...\n",
              "1599998          4  ...  Happy 38th Birthday to my boo of alll time!!! ...\n",
              "1599999          4  ...  happy #charitytuesday @theNSPCC @SparksCharity...\n",
              "\n",
              "[5 rows x 6 columns]"
            ]
          },
          "metadata": {
            "tags": []
          },
          "execution_count": 10
        }
      ]
    },
    {
      "cell_type": "code",
      "metadata": {
        "colab": {
          "base_uri": "https://localhost:8080/"
        },
        "id": "ZHbQi1p4BFb0",
        "outputId": "8cd10a0c-4aef-4bc2-87f0-e5f740decab2"
      },
      "source": [
        "# Visualizando os valores da classe\r\n",
        "train_data['sentiment'].unique()"
      ],
      "execution_count": null,
      "outputs": [
        {
          "output_type": "execute_result",
          "data": {
            "text/plain": [
              "array([0, 4])"
            ]
          },
          "metadata": {
            "tags": []
          },
          "execution_count": 11
        }
      ]
    },
    {
      "cell_type": "code",
      "metadata": {
        "colab": {
          "base_uri": "https://localhost:8080/"
        },
        "id": "EMq3q0STBkPF",
        "outputId": "b0777c67-783f-49af-bc82-39e4f08c9cb2"
      },
      "source": [
        "# Contagem da classe\r\n",
        "sns.countplot(data=train_data, x='sentiment');"
      ],
      "execution_count": null,
      "outputs": [
        {
          "output_type": "display_data",
          "data": {
            "image/png": "[encoded data removed]",
            "text/plain": [
              "<Figure size 432x288 with 1 Axes>"
            ]
          },
          "metadata": {
            "tags": [],
            "needs_background": "light"
          }
        }
      ]
    },
    {
      "cell_type": "markdown",
      "metadata": {
        "id": "6wtdlZgoByby"
      },
      "source": [
        "Vemos, portanto, que a base não está desbalanceada. Criaremos agora a base de testes.\r\n",
        "\r\n"
      ]
    },
    {
      "cell_type": "code",
      "metadata": {
        "id": "QU853J6WBrj5"
      },
      "source": [
        "# Criação da base de testes\r\n",
        "test_data = pd.read_csv('/content/trainingandtestdata/test.csv', \r\n",
        "                        encoding='latin1',\r\n",
        "                        names=cols,\r\n",
        "                        header=None,\r\n",
        "                        engine='python')"
      ],
      "execution_count": null,
      "outputs": []
    },
    {
      "cell_type": "code",
      "metadata": {
        "colab": {
          "base_uri": "https://localhost:8080/"
        },
        "id": "_xDXD4VkCp7j",
        "outputId": "454ff99d-a381-439e-deeb-19e07ed31586"
      },
      "source": [
        "# Visualizando os primeiros registros\r\n",
        "test_data.head()"
      ],
      "execution_count": null,
      "outputs": [
        {
          "output_type": "execute_result",
          "data": {
            "text/html": [
              "<div>\n",
              "<style scoped>\n",
              "    .dataframe tbody tr th:only-of-type {\n",
              "        vertical-align: middle;\n",
              "    }\n",
              "\n",
              "    .dataframe tbody tr th {\n",
              "        vertical-align: top;\n",
              "    }\n",
              "\n",
              "    .dataframe thead th {\n",
              "        text-align: right;\n",
              "    }\n",
              "</style>\n",
              "<table border=\"1\" class=\"dataframe\">\n",
              "  <thead>\n",
              "    <tr style=\"text-align: right;\">\n",
              "      <th></th>\n",
              "      <th>sentiment</th>\n",
              "      <th>id</th>\n",
              "      <th>date</th>\n",
              "      <th>query</th>\n",
              "      <th>user</th>\n",
              "      <th>text</th>\n",
              "    </tr>\n",
              "  </thead>\n",
              "  <tbody>\n",
              "    <tr>\n",
              "      <th>0</th>\n",
              "      <td>4</td>\n",
              "      <td>3</td>\n",
              "      <td>Mon May 11 03:17:40 UTC 2009</td>\n",
              "      <td>kindle2</td>\n",
              "      <td>tpryan</td>\n",
              "      <td>@stellargirl I loooooooovvvvvveee my Kindle2. ...</td>\n",
              "    </tr>\n",
              "    <tr>\n",
              "      <th>1</th>\n",
              "      <td>4</td>\n",
              "      <td>4</td>\n",
              "      <td>Mon May 11 03:18:03 UTC 2009</td>\n",
              "      <td>kindle2</td>\n",
              "      <td>vcu451</td>\n",
              "      <td>Reading my kindle2...  Love it... Lee childs i...</td>\n",
              "    </tr>\n",
              "    <tr>\n",
              "      <th>2</th>\n",
              "      <td>4</td>\n",
              "      <td>5</td>\n",
              "      <td>Mon May 11 03:18:54 UTC 2009</td>\n",
              "      <td>kindle2</td>\n",
              "      <td>chadfu</td>\n",
              "      <td>Ok, first assesment of the #kindle2 ...it fuck...</td>\n",
              "    </tr>\n",
              "    <tr>\n",
              "      <th>3</th>\n",
              "      <td>4</td>\n",
              "      <td>6</td>\n",
              "      <td>Mon May 11 03:19:04 UTC 2009</td>\n",
              "      <td>kindle2</td>\n",
              "      <td>SIX15</td>\n",
              "      <td>@kenburbary You'll love your Kindle2. I've had...</td>\n",
              "    </tr>\n",
              "    <tr>\n",
              "      <th>4</th>\n",
              "      <td>4</td>\n",
              "      <td>7</td>\n",
              "      <td>Mon May 11 03:21:41 UTC 2009</td>\n",
              "      <td>kindle2</td>\n",
              "      <td>yamarama</td>\n",
              "      <td>@mikefish  Fair enough. But i have the Kindle2...</td>\n",
              "    </tr>\n",
              "  </tbody>\n",
              "</table>\n",
              "</div>"
            ],
            "text/plain": [
              "   sentiment  id  ...      user                                               text\n",
              "0          4   3  ...    tpryan  @stellargirl I loooooooovvvvvveee my Kindle2. ...\n",
              "1          4   4  ...    vcu451  Reading my kindle2...  Love it... Lee childs i...\n",
              "2          4   5  ...    chadfu  Ok, first assesment of the #kindle2 ...it fuck...\n",
              "3          4   6  ...     SIX15  @kenburbary You'll love your Kindle2. I've had...\n",
              "4          4   7  ...  yamarama  @mikefish  Fair enough. But i have the Kindle2...\n",
              "\n",
              "[5 rows x 6 columns]"
            ]
          },
          "metadata": {
            "tags": []
          },
          "execution_count": 14
        }
      ]
    },
    {
      "cell_type": "code",
      "metadata": {
        "colab": {
          "base_uri": "https://localhost:8080/"
        },
        "id": "Qwj6k3TdCbJa",
        "outputId": "d585cd1d-aaff-45c1-a8b9-7a5d60066378"
      },
      "source": [
        "# Visualizando o shape\r\n",
        "test_data.shape"
      ],
      "execution_count": null,
      "outputs": [
        {
          "output_type": "execute_result",
          "data": {
            "text/plain": [
              "(498, 6)"
            ]
          },
          "metadata": {
            "tags": []
          },
          "execution_count": 15
        }
      ]
    },
    {
      "cell_type": "code",
      "metadata": {
        "colab": {
          "base_uri": "https://localhost:8080/"
        },
        "id": "eOZSUy2ICetX",
        "outputId": "81c20330-0415-4f99-aa97-e922089a6293"
      },
      "source": [
        "# Valores únicos dos sentimentos da base de testes\r\n",
        "test_data['sentiment'].unique()"
      ],
      "execution_count": null,
      "outputs": [
        {
          "output_type": "execute_result",
          "data": {
            "text/plain": [
              "array([4, 0, 2])"
            ]
          },
          "metadata": {
            "tags": []
          },
          "execution_count": 16
        }
      ]
    },
    {
      "cell_type": "code",
      "metadata": {
        "colab": {
          "base_uri": "https://localhost:8080/"
        },
        "id": "Y1it8nx-CmxN",
        "outputId": "44d9f123-4bbe-4b6f-e0ec-ac48aa4d45b8"
      },
      "source": [
        "# Contagem da classe\r\n",
        "sns.countplot(data=test_data, x='sentiment');"
      ],
      "execution_count": null,
      "outputs": [
        {
          "output_type": "display_data",
          "data": {
            "image/png": "[encoded data removed]",
            "text/plain": [
              "<Figure size 432x288 with 1 Axes>"
            ]
          },
          "metadata": {
            "tags": [],
            "needs_background": "light"
          }
        }
      ]
    },
    {
      "cell_type": "markdown",
      "metadata": {
        "id": "HOPCHJEZDNSx"
      },
      "source": [
        "Notamos que a base de testes tem uma estrutura diferente dos \"sentimentos\" em relação à base de treinos, apresentando um sentimento \"neutro\". Por isso não iremos utilizá-la e faremos toda a nossa análise na própria base de treinos."
      ]
    },
    {
      "cell_type": "markdown",
      "metadata": {
        "id": "gIhWhKM4vfdz"
      },
      "source": [
        "### 3.2) Separando a base de dados\r\n",
        "\r\n",
        "Antes de fazer a limpeza iremos criar um outro dataframe excluindo as colunas desnecessárias e a seguir separaremos uma amostra com 15% da base original para fazer o treinamento do modelo."
      ]
    },
    {
      "cell_type": "code",
      "metadata": {
        "colab": {
          "base_uri": "https://localhost:8080/"
        },
        "id": "O9uW5U8Uvezg",
        "outputId": "ad453e62-5faa-4771-bb15-2341d54a4e10"
      },
      "source": [
        "# Criando novo dataframe\r\n",
        "data = train_data\r\n",
        "\r\n",
        "# Deletando colunas desnecessárias\r\n",
        "data.drop(axis=1, columns=['id', 'date', 'query', 'user'], inplace=True)\r\n",
        "\r\n",
        "# Visualizando o novo dataframe\r\n",
        "data.head()"
      ],
      "execution_count": null,
      "outputs": [
        {
          "output_type": "execute_result",
          "data": {
            "text/html": [
              "<div>\n",
              "<style scoped>\n",
              "    .dataframe tbody tr th:only-of-type {\n",
              "        vertical-align: middle;\n",
              "    }\n",
              "\n",
              "    .dataframe tbody tr th {\n",
              "        vertical-align: top;\n",
              "    }\n",
              "\n",
              "    .dataframe thead th {\n",
              "        text-align: right;\n",
              "    }\n",
              "</style>\n",
              "<table border=\"1\" class=\"dataframe\">\n",
              "  <thead>\n",
              "    <tr style=\"text-align: right;\">\n",
              "      <th></th>\n",
              "      <th>sentiment</th>\n",
              "      <th>text</th>\n",
              "    </tr>\n",
              "  </thead>\n",
              "  <tbody>\n",
              "    <tr>\n",
              "      <th>0</th>\n",
              "      <td>0</td>\n",
              "      <td>@switchfoot http://twitpic.com/2y1zl - Awww, t...</td>\n",
              "    </tr>\n",
              "    <tr>\n",
              "      <th>1</th>\n",
              "      <td>0</td>\n",
              "      <td>is upset that he can't update his Facebook by ...</td>\n",
              "    </tr>\n",
              "    <tr>\n",
              "      <th>2</th>\n",
              "      <td>0</td>\n",
              "      <td>@Kenichan I dived many times for the ball. Man...</td>\n",
              "    </tr>\n",
              "    <tr>\n",
              "      <th>3</th>\n",
              "      <td>0</td>\n",
              "      <td>my whole body feels itchy and like its on fire</td>\n",
              "    </tr>\n",
              "    <tr>\n",
              "      <th>4</th>\n",
              "      <td>0</td>\n",
              "      <td>@nationwideclass no, it's not behaving at all....</td>\n",
              "    </tr>\n",
              "  </tbody>\n",
              "</table>\n",
              "</div>"
            ],
            "text/plain": [
              "   sentiment                                               text\n",
              "0          0  @switchfoot http://twitpic.com/2y1zl - Awww, t...\n",
              "1          0  is upset that he can't update his Facebook by ...\n",
              "2          0  @Kenichan I dived many times for the ball. Man...\n",
              "3          0    my whole body feels itchy and like its on fire \n",
              "4          0  @nationwideclass no, it's not behaving at all...."
            ]
          },
          "metadata": {
            "tags": []
          },
          "execution_count": 18
        }
      ]
    },
    {
      "cell_type": "markdown",
      "metadata": {
        "id": "3x4d52Iewf7l"
      },
      "source": [
        "- Criando feature e classe"
      ]
    },
    {
      "cell_type": "code",
      "metadata": {
        "id": "7e0wU09LslrO"
      },
      "source": [
        "# Feature dos textos\r\n",
        "X = data.iloc[:, 1].values\r\n",
        "\r\n",
        "# Classe\r\n",
        "y = data.iloc[:, 0].values"
      ],
      "execution_count": null,
      "outputs": []
    },
    {
      "cell_type": "code",
      "metadata": {
        "colab": {
          "base_uri": "https://localhost:8080/"
        },
        "id": "AHoc_CBbwqbs",
        "outputId": "66479d12-e0b8-45be-a870-ec483701c3e8"
      },
      "source": [
        "# Visualizando o array X\r\n",
        "X"
      ],
      "execution_count": null,
      "outputs": [
        {
          "output_type": "execute_result",
          "data": {
            "text/plain": [
              "array([\"@switchfoot http://twitpic.com/2y1zl - Awww, that's a bummer.  You shoulda got David Carr of Third Day to do it. ;D\",\n",
              "       \"is upset that he can't update his Facebook by texting it... and might cry as a result  School today also. Blah!\",\n",
              "       '@Kenichan I dived many times for the ball. Managed to save 50%  The rest go out of bounds',\n",
              "       ..., 'Are you ready for your MoJo Makeover? Ask me for details ',\n",
              "       'Happy 38th Birthday to my boo of alll time!!! Tupac Amaru Shakur ',\n",
              "       'happy #charitytuesday @theNSPCC @SparksCharity @SpeakingUpH4H '],\n",
              "      dtype=object)"
            ]
          },
          "metadata": {
            "tags": []
          },
          "execution_count": 20
        }
      ]
    },
    {
      "cell_type": "code",
      "metadata": {
        "colab": {
          "base_uri": "https://localhost:8080/"
        },
        "id": "APbpTeR4w-tx",
        "outputId": "7b35d538-17aa-4d3b-f70a-5c9577873ef1"
      },
      "source": [
        "# Visualizando o array y\r\n",
        "y"
      ],
      "execution_count": null,
      "outputs": [
        {
          "output_type": "execute_result",
          "data": {
            "text/plain": [
              "array([0, 0, 0, ..., 4, 4, 4])"
            ]
          },
          "metadata": {
            "tags": []
          },
          "execution_count": 21
        }
      ]
    },
    {
      "cell_type": "markdown",
      "metadata": {
        "id": "WbJMAKxZxcso"
      },
      "source": [
        "Como a base de dados é muito grande (1600000 registros) iremos separar uma amostra (15%) desta base para fazermos o treinamento. Assim, segue o código abaixo."
      ]
    },
    {
      "cell_type": "code",
      "metadata": {
        "id": "GPm2sxs4xq2L"
      },
      "source": [
        "# Importando a biblioteca\r\n",
        "from sklearn.model_selection import train_test_split\r\n",
        "\r\n",
        "# Pegando uma amostra da base original\r\n",
        "X, _, y, _ = train_test_split(X, y, test_size=0.85, stratify=y)"
      ],
      "execution_count": null,
      "outputs": []
    },
    {
      "cell_type": "code",
      "metadata": {
        "colab": {
          "base_uri": "https://localhost:8080/"
        },
        "id": "Hv3y3MifyBjr",
        "outputId": "534832cf-733b-4807-cbb8-218bdc8be02d"
      },
      "source": [
        "# Visualizando o shape\r\n",
        "X.shape, y.shape"
      ],
      "execution_count": null,
      "outputs": [
        {
          "output_type": "execute_result",
          "data": {
            "text/plain": [
              "((240000,), (240000,))"
            ]
          },
          "metadata": {
            "tags": []
          },
          "execution_count": 23
        }
      ]
    },
    {
      "cell_type": "code",
      "metadata": {
        "colab": {
          "base_uri": "https://localhost:8080/"
        },
        "id": "0to39AoIzffh",
        "outputId": "9450e4fc-47c0-4060-ec5f-c4100d6b42fa"
      },
      "source": [
        "# Valores únicos e suas quantidades\r\n",
        "unique, counts = np.unique(y, return_counts=True)\r\n",
        "unique, counts"
      ],
      "execution_count": null,
      "outputs": [
        {
          "output_type": "execute_result",
          "data": {
            "text/plain": [
              "(array([0, 4]), array([120000, 120000]))"
            ]
          },
          "metadata": {
            "tags": []
          },
          "execution_count": 24
        }
      ]
    },
    {
      "cell_type": "markdown",
      "metadata": {
        "id": "x7rM6HwhO2Rn"
      },
      "source": [
        "### 3.3) Limpeza dos textos\r\n",
        "\r\n",
        "Nesta subção iremos limpar de fato os textos e para isso criaremos uma função que fará o trabalho. Para teste, usaremos um texto aleatório da base de dados."
      ]
    },
    {
      "cell_type": "code",
      "metadata": {
        "id": "6XOJwAm8zrIJ"
      },
      "source": [
        "# Criando a função\r\n",
        "def clean_tweets(tweet):\r\n",
        "  tweet = BeautifulSoup(tweet, 'lxml').get_text()\r\n",
        "  tweet = re.sub(r'@[A-Za-z0-9_]+', ' ', tweet)\r\n",
        "  tweet = re.sub(r'https?://[A-Za-z0-9./]+', ' ', tweet)\r\n",
        "  tweet = re.sub(r'[^A-Za-z.!?]', ' ', tweet)\r\n",
        "  tweet = re.sub(r' +', ' ', tweet).strip()\r\n",
        "  return tweet"
      ],
      "execution_count": null,
      "outputs": []
    },
    {
      "cell_type": "code",
      "metadata": {
        "id": "g29tmhCDPIZu",
        "colab": {
          "base_uri": "https://localhost:8080/",
          "height": 35
        },
        "outputId": "f62db776-7a87-4bd1-aad7-34e85786d8a2"
      },
      "source": [
        "# Criando um texto qualquer para teste\r\n",
        "text = data['text'][0]\r\n",
        "text"
      ],
      "execution_count": null,
      "outputs": [
        {
          "output_type": "execute_result",
          "data": {
            "application/vnd.google.colaboratory.intrinsic+json": {
              "type": "string"
            },
            "text/plain": [
              "\"@switchfoot http://twitpic.com/2y1zl - Awww, that's a bummer.  You shoulda got David Carr of Third Day to do it. ;D\""
            ]
          },
          "metadata": {
            "tags": []
          },
          "execution_count": 26
        }
      ]
    },
    {
      "cell_type": "code",
      "metadata": {
        "id": "z1izEKYvPQZM",
        "colab": {
          "base_uri": "https://localhost:8080/",
          "height": 35
        },
        "outputId": "13a25315-5e47-4e6f-9f91-aa13e5f73bbe"
      },
      "source": [
        "# Testando a função\r\n",
        "text = clean_tweets(text)\r\n",
        "text"
      ],
      "execution_count": null,
      "outputs": [
        {
          "output_type": "execute_result",
          "data": {
            "application/vnd.google.colaboratory.intrinsic+json": {
              "type": "string"
            },
            "text/plain": [
              "'Awww that s a bummer. You shoulda got David Carr of Third Day to do it. D'"
            ]
          },
          "metadata": {
            "tags": []
          },
          "execution_count": 27
        }
      ]
    },
    {
      "cell_type": "markdown",
      "metadata": {
        "id": "X8GrIxHZ8t3G"
      },
      "source": [
        "- Remoção de stop words\r\n",
        "\r\n",
        "Iremos aqui escrever uma função para remoção de stop words dos tweets."
      ]
    },
    {
      "cell_type": "code",
      "metadata": {
        "colab": {
          "base_uri": "https://localhost:8080/"
        },
        "id": "Isb5ezXA3UxI",
        "outputId": "0608921b-7aeb-4122-b819-2fd2f4e1e7ac"
      },
      "source": [
        "# Criando um objeto para lingua inglesa\r\n",
        "nlp = sp.load('en')\r\n",
        "nlp"
      ],
      "execution_count": null,
      "outputs": [
        {
          "output_type": "execute_result",
          "data": {
            "text/plain": [
              "<spacy.lang.en.English at 0x7ff4cba89400>"
            ]
          },
          "metadata": {
            "tags": []
          },
          "execution_count": 28
        }
      ]
    },
    {
      "cell_type": "code",
      "metadata": {
        "colab": {
          "base_uri": "https://localhost:8080/"
        },
        "id": "9AULraYQ3dyX",
        "outputId": "6b8047c7-adc3-4676-e549-bd957f738988"
      },
      "source": [
        "# Criando lista de stop words\r\n",
        "stop_words = sp.lang.en.STOP_WORDS\r\n",
        "print(stop_words)"
      ],
      "execution_count": null,
      "outputs": [
        {
          "output_type": "stream",
          "text": [
            "{'below', 'both', 'thereby', 'is', 'too', 'where', 'again', 'among', 'five', \"'d\", 'toward', 'yourself', 'four', 'therefore', 'hereby', 'was', 'wherever', 'former', 'why', 'you', 'her', 'within', 'top', 'doing', 'if', 'not', 'rather', 'moreover', 'part', '‘re', '’re', 'a', 'between', 'name', 'n‘t', 'hereupon', 'whereupon', 'everywhere', 'his', 'still', 'mine', 'since', 'them', 'whom', '‘d', 'fifteen', 'whereas', 'against', 'while', 'she', 'under', 'there', 'has', 'cannot', 'thru', 'whole', 'through', 'neither', '‘m', 'our', 'almost', 'are', 'empty', '’d', '’ve', 'twelve', 'mostly', 'seemed', 'when', '‘ve', 'hereafter', 'at', 'in', 'indeed', 'this', 'because', 'becomes', 'done', 'either', 'itself', 'least', 'next', 'although', 'put', 'somehow', 'anywhere', 'being', 'other', 'anyhow', 'hence', 'from', 'besides', 'everything', \"'ll\", 'eleven', 'could', 'but', 'to', 'which', 'seems', 'these', 'than', 'afterwards', 'say', 'thence', 'whither', 'above', 'back', 'go', 'much', 'beside', 'hundred', 'never', 'well', 'throughout', 'will', 'therein', 'some', 'during', 'whose', 'until', 'namely', 'please', 'should', 'nor', 'onto', 'us', 'how', 'often', 'hers', 'themselves', 'nine', 'take', 'thereupon', 'give', 'out', 'already', 'make', 'used', 'am', 'get', 'due', 'others', 'on', '’m', 'third', 'beforehand', 'every', 'many', 'or', 'three', 'ever', 'as', 'who', 'might', 'somewhere', 'him', 'about', 'those', 'fifty', 'an', \"n't\", 'so', 'twenty', 'serious', 'amongst', 'down', 'whereby', 'myself', 'more', 'unless', 'herein', 'then', 'together', 'however', 'before', 'also', 'own', 'around', 'wherein', 'we', 'ca', 'of', 'their', 'else', 'show', 'no', 'became', 'had', 'must', 'made', 're', 'eight', 'over', 'towards', 'would', \"'m\", 'do', 'and', 'perhaps', 'bottom', 'without', 'noone', 'ten', 'here', 'into', \"'ve\", 'your', \"'s\", 'upon', 'himself', 'regarding', 'sometimes', 'becoming', 'may', 'the', 'move', 'along', 'up', 'whence', 'few', 'my', 'whereafter', 'yours', 'beyond', 'can', \"'re\", 'were', 'its', 'they', 'various', 'less', 'after', 'it', 'just', 'did', 'nevertheless', 'side', 'yourselves', 'nobody', 'forty', 'amount', 'none', 'six', 'very', 'front', 'now', 'with', 'n’t', 'quite', 'first', '‘s', 'for', 'everyone', 'seeming', '’ll', 'further', 'by', 'seem', 'sometime', 'be', 'something', 'all', 'off', 'meanwhile', 'via', 'always', 'he', 'except', 'latterly', 'nothing', 'anyone', 'enough', 'that', 'whoever', 'across', 'elsewhere', 'have', 'herself', 'nowhere', 'keep', 'each', 'been', 'per', 'someone', 'anyway', 'latter', 'thereafter', 'one', 'same', 'most', 'does', 'alone', 'yet', 'another', 'full', 'whenever', '‘ll', 'i', 'whatever', 'anything', 'otherwise', 'even', 'see', '’s', 'using', 'call', 'last', 'me', 'what', 'though', 'any', 'such', 'sixty', 'several', 'ours', 'ourselves', 'once', 'formerly', 'two', 'thus', 'really', 'whether', 'become', 'behind', 'only'}\n"
          ],
          "name": "stdout"
        }
      ]
    },
    {
      "cell_type": "code",
      "metadata": {
        "colab": {
          "base_uri": "https://localhost:8080/"
        },
        "id": "ksYfHVcm37Ru",
        "outputId": "bc4c5abb-0014-44f7-d91f-e51ad3736c3c"
      },
      "source": [
        "# Contando total de stop words\r\n",
        "len(stop_words)"
      ],
      "execution_count": null,
      "outputs": [
        {
          "output_type": "execute_result",
          "data": {
            "text/plain": [
              "326"
            ]
          },
          "metadata": {
            "tags": []
          },
          "execution_count": 30
        }
      ]
    },
    {
      "cell_type": "code",
      "metadata": {
        "id": "LV6FV-qS8s4k"
      },
      "source": [
        "# Função para remover stop words\r\n",
        "def remove_stop_words(tweet):\r\n",
        "  tweet = tweet.lower()\r\n",
        "  document = nlp(tweet)\r\n",
        "\r\n",
        "  words = [token.text for token in document]\r\n",
        "  words = [word for word in words if word not in stop_words \\\r\n",
        "           and word not in string.punctuation]\r\n",
        "  words = ' '.join(words)\r\n",
        "\r\n",
        "  return words"
      ],
      "execution_count": null,
      "outputs": []
    },
    {
      "cell_type": "code",
      "metadata": {
        "colab": {
          "base_uri": "https://localhost:8080/",
          "height": 35
        },
        "id": "OMzT1R2v9EIy",
        "outputId": "dff536d7-856c-4568-fee9-b896f58dd0c3"
      },
      "source": [
        "remove_stop_words(text)"
      ],
      "execution_count": null,
      "outputs": [
        {
          "output_type": "execute_result",
          "data": {
            "application/vnd.google.colaboratory.intrinsic+json": {
              "type": "string"
            },
            "text/plain": [
              "'awww s bummer shoulda got david carr day d'"
            ]
          },
          "metadata": {
            "tags": []
          },
          "execution_count": 32
        }
      ]
    },
    {
      "cell_type": "markdown",
      "metadata": {
        "id": "tAW-GdoHKPvA"
      },
      "source": [
        "Para realmente fazermos a limpeza dos textos iremos juntar as duas funções anteriores em apenas uma para otimizar este trabalho."
      ]
    },
    {
      "cell_type": "code",
      "metadata": {
        "id": "PtHSU1JtKY-0"
      },
      "source": [
        "# Criando a função final\r\n",
        "def clean_tweets2(tweet):\r\n",
        "  tweet = BeautifulSoup(tweet, 'lxml').get_text()\r\n",
        "  tweet = re.sub(r'@[A-Za-z0-9_]+', ' ', tweet)\r\n",
        "  tweet = re.sub(r'https?://[A-Za-z0-9./]+', ' ', tweet)\r\n",
        "  tweet = re.sub(r'[^A-Za-z.!?]', ' ', tweet)\r\n",
        "  tweet = re.sub(r' +', ' ', tweet).strip()\r\n",
        "\r\n",
        "  tweet = tweet.lower()\r\n",
        "  document = nlp(tweet)\r\n",
        "\r\n",
        "  words = [token.text for token in document]\r\n",
        "  words = [word for word in words if word not in stop_words \\\r\n",
        "           and word not in string.punctuation]\r\n",
        "  words = ' '.join(words)\r\n",
        "  return words"
      ],
      "execution_count": null,
      "outputs": []
    },
    {
      "cell_type": "markdown",
      "metadata": {
        "id": "DwzxKtQBXa92"
      },
      "source": [
        "- Limpeza de todos os reviews"
      ]
    },
    {
      "cell_type": "markdown",
      "metadata": {
        "id": "QsyRE16EWKkn"
      },
      "source": [
        "Iremos testar a função acima."
      ]
    },
    {
      "cell_type": "code",
      "metadata": {
        "id": "D5re9PdQnpLY",
        "colab": {
          "base_uri": "https://localhost:8080/",
          "height": 35
        },
        "outputId": "07614fcf-84d0-4fee-9d0c-91010a52a189"
      },
      "source": [
        "# Definindo a variável contendo um review\r\n",
        "text2 = data['text'][0]\r\n",
        "text2"
      ],
      "execution_count": null,
      "outputs": [
        {
          "output_type": "execute_result",
          "data": {
            "application/vnd.google.colaboratory.intrinsic+json": {
              "type": "string"
            },
            "text/plain": [
              "\"@switchfoot http://twitpic.com/2y1zl - Awww, that's a bummer.  You shoulda got David Carr of Third Day to do it. ;D\""
            ]
          },
          "metadata": {
            "tags": []
          },
          "execution_count": 34
        }
      ]
    },
    {
      "cell_type": "code",
      "metadata": {
        "colab": {
          "base_uri": "https://localhost:8080/",
          "height": 35
        },
        "id": "awaStCjkV3bp",
        "outputId": "0be78f70-2aa8-40b9-9164-d355c4a9ad3c"
      },
      "source": [
        "# Aplicando a função acima\r\n",
        "text2 = clean_tweets2(text2)\r\n",
        "text2"
      ],
      "execution_count": null,
      "outputs": [
        {
          "output_type": "execute_result",
          "data": {
            "application/vnd.google.colaboratory.intrinsic+json": {
              "type": "string"
            },
            "text/plain": [
              "'awww s bummer shoulda got david carr day d'"
            ]
          },
          "metadata": {
            "tags": []
          },
          "execution_count": 35
        }
      ]
    },
    {
      "cell_type": "markdown",
      "metadata": {
        "id": "He7cRE45Xp8A"
      },
      "source": [
        "Agora sim aplicaremos a função nos reviews."
      ]
    },
    {
      "cell_type": "code",
      "metadata": {
        "id": "tZ95GLFvXebU"
      },
      "source": [
        "# Criando variável com reviews limpos\r\n",
        "data_clean = [clean_tweets(tweet) for tweet in X]"
      ],
      "execution_count": null,
      "outputs": []
    },
    {
      "cell_type": "code",
      "metadata": {
        "colab": {
          "base_uri": "https://localhost:8080/"
        },
        "id": "BSDB22v8YU4v",
        "outputId": "e6a80927-8533-48e6-a010-5d37a4476b34"
      },
      "source": [
        "# Retornando alguns registros aleatoriamente\r\n",
        "for _ in range(10):\r\n",
        "  print(data_clean[random.randint(0, len(data_clean) - 1)])"
      ],
      "execution_count": null,
      "outputs": [
        {
          "output_type": "stream",
          "text": [
            "So glad to hear that I m doing great thank you! Enjoying doing a lil window shopping tonight!\n",
            "The search is on\n",
            "well good night my followers wish i had more\n",
            "Like what? There s nothing to do\n",
            "we got outbid by .\n",
            "when will u Guys LEARN!\n",
            "Hawt.did such a good workout.could have all the nutella I wanted now.but instead having a banana protein shake.\n",
            "I know the feeling sigh\n",
            "Watching a rather strange but good Bones\n",
            "Cool but having only dollars as payment sucks lol I mean i cannot pay or get paid Snif!But i will upload some designs for sure\n"
          ],
          "name": "stdout"
        }
      ]
    },
    {
      "cell_type": "markdown",
      "metadata": {
        "id": "-MAhhNyVlxzD"
      },
      "source": [
        "Uma outra alteração que devemos fazer é na variável y, uma vez que ela apresenta valores 0 e 4 para comentários negativos e positivos respectivamente. Então substituiremos por 0 e 1."
      ]
    },
    {
      "cell_type": "code",
      "metadata": {
        "colab": {
          "base_uri": "https://localhost:8080/"
        },
        "id": "Lrn3A25AmAfs",
        "outputId": "ce8c085b-1e7c-4cc4-9a17-a8b5995e4f7b"
      },
      "source": [
        "# Definindo a variável\r\n",
        "data_labels = y\r\n",
        "np.unique(data_labels)"
      ],
      "execution_count": null,
      "outputs": [
        {
          "output_type": "execute_result",
          "data": {
            "text/plain": [
              "array([0, 4])"
            ]
          },
          "metadata": {
            "tags": []
          },
          "execution_count": 38
        }
      ]
    },
    {
      "cell_type": "code",
      "metadata": {
        "id": "yKUNXAcMmJDa"
      },
      "source": [
        "# Alterando de 4 para 1\r\n",
        "data_labels[data_labels == 4] = 1"
      ],
      "execution_count": null,
      "outputs": []
    },
    {
      "cell_type": "code",
      "metadata": {
        "colab": {
          "base_uri": "https://localhost:8080/"
        },
        "id": "OUPr5cazmVCX",
        "outputId": "813eaa71-4fd5-4299-aef9-f80628fadcb5"
      },
      "source": [
        "# Confirmando a alteração\r\n",
        "np.unique(data_labels)"
      ],
      "execution_count": null,
      "outputs": [
        {
          "output_type": "execute_result",
          "data": {
            "text/plain": [
              "array([0, 1])"
            ]
          },
          "metadata": {
            "tags": []
          },
          "execution_count": 40
        }
      ]
    },
    {
      "cell_type": "markdown",
      "metadata": {
        "id": "LObluESmCITG"
      },
      "source": [
        "### 3.4) Tokenização\r\n",
        "\r\n",
        "O processo de tokenização consiste em converter todos os textos em números. Este processo é extremamente necessário uma vez que iremos trabalhar com algorítmos que não aceitam dados no formato \"string\"."
      ]
    },
    {
      "cell_type": "code",
      "metadata": {
        "id": "Z-Jq9eMYming"
      },
      "source": [
        "# Criando objeto para tokenização\r\n",
        "tokenizer = tfds.deprecated.text.SubwordTextEncoder.build_from_corpus(data_clean,\r\n",
        "                                                                      target_vocab_size=2**16)"
      ],
      "execution_count": null,
      "outputs": []
    },
    {
      "cell_type": "code",
      "metadata": {
        "colab": {
          "base_uri": "https://localhost:8080/"
        },
        "id": "1kmV-9M-ZP_p",
        "outputId": "cb2d97bb-5373-4d8b-9360-8d491f73110e"
      },
      "source": [
        "# Verificando tamanho do vocabulário\r\n",
        "tokenizer.vocab_size"
      ],
      "execution_count": null,
      "outputs": [
        {
          "output_type": "execute_result",
          "data": {
            "text/plain": [
              "67964"
            ]
          },
          "metadata": {
            "tags": []
          },
          "execution_count": 42
        }
      ]
    },
    {
      "cell_type": "markdown",
      "metadata": {
        "id": "JiftafNLZ85f"
      },
      "source": [
        "Note que iremos utilizar um vocabulário contendo 67964 palavras. \r\n",
        "\r\n",
        "A seguir iremos de fato tokenizar o vocabulário e para isso faremos um teste para verificar como funciona o processo."
      ]
    },
    {
      "cell_type": "code",
      "metadata": {
        "colab": {
          "base_uri": "https://localhost:8080/"
        },
        "id": "OKHoRMUUcHyZ",
        "outputId": "8c74ba52-efa9-42ef-88df-574ee461c5f0"
      },
      "source": [
        "# Criando id's de teste para texto qualquer\r\n",
        "ids = tokenizer.encode('i am happy')\r\n",
        "ids"
      ],
      "execution_count": null,
      "outputs": [
        {
          "output_type": "execute_result",
          "data": {
            "text/plain": [
              "[6, 55, 645]"
            ]
          },
          "metadata": {
            "tags": []
          },
          "execution_count": 43
        }
      ]
    },
    {
      "cell_type": "code",
      "metadata": {
        "colab": {
          "base_uri": "https://localhost:8080/",
          "height": 35
        },
        "id": "YCgSFidWgsef",
        "outputId": "0f8d45f6-5da0-45fb-894d-ab8b1ed840a8"
      },
      "source": [
        "# Decodificando os id's\r\n",
        "text = tokenizer.decode(ids)\r\n",
        "text"
      ],
      "execution_count": null,
      "outputs": [
        {
          "output_type": "execute_result",
          "data": {
            "application/vnd.google.colaboratory.intrinsic+json": {
              "type": "string"
            },
            "text/plain": [
              "'i am happy'"
            ]
          },
          "metadata": {
            "tags": []
          },
          "execution_count": 44
        }
      ]
    },
    {
      "cell_type": "markdown",
      "metadata": {
        "id": "aEOqBTTBhJRd"
      },
      "source": [
        "Assim, notamos que nosso tokenizador está funcionando corretamente. Aplicaremos agora este mesmo processo para os comentários da nossa base."
      ]
    },
    {
      "cell_type": "code",
      "metadata": {
        "id": "oaauBaFDg40v"
      },
      "source": [
        "data_inputs = [tokenizer.encode(sentence) for sentence in data_clean]"
      ],
      "execution_count": null,
      "outputs": []
    },
    {
      "cell_type": "code",
      "metadata": {
        "id": "EQvkcV8ihlQS",
        "colab": {
          "base_uri": "https://localhost:8080/"
        },
        "outputId": "eb283295-81f8-46b6-9b67-d60f13943683"
      },
      "source": [
        "# Retornando alguns registros aleatoriamente após tokenização\r\n",
        "for _ in range(10):\r\n",
        "  print(data_inputs[random.randint(0, len(data_inputs) - 1)])"
      ],
      "execution_count": null,
      "outputs": [
        {
          "output_type": "stream",
          "text": [
            "[1, 21, 603, 17, 194, 3907, 8, 535, 4286, 5971, 53, 584, 21, 6058, 13995]\n",
            "[447, 15032, 27852, 5459, 32, 258, 10, 279, 47, 51, 35, 253, 16, 779, 2, 125, 12, 580, 24]\n",
            "[1, 126, 63201, 54532, 67740, 500, 330, 141, 61, 12, 489, 12, 2192]\n",
            "[2989, 8, 7089]\n",
            "[41787, 67740, 13, 11, 37, 4, 11344, 1311, 17, 584, 17, 196, 7462, 129]\n",
            "[59590, 12, 13, 81, 14, 334, 3, 6, 88, 358, 16, 1236, 39, 26, 7, 680, 281, 413, 3, 7, 905, 38, 520, 7464]\n",
            "[60999, 35, 7333, 67771]\n",
            "[67, 23, 1, 3057, 4277, 27, 5, 2489, 1865]\n",
            "[170, 14, 4, 9798, 9, 115, 8, 5886, 8107, 4, 313, 578, 3, 1736, 27, 189, 67741]\n",
            "[197, 71, 50874, 822, 15, 5, 434, 31116, 41911, 369, 355, 1, 19, 131, 465, 1, 19, 22, 645, 9, 35781, 531, 13, 2261]\n"
          ],
          "name": "stdout"
        }
      ]
    },
    {
      "cell_type": "markdown",
      "metadata": {
        "id": "N56fH_Nx8dvP"
      },
      "source": [
        "### 3.5) Padding (preenchimento)\r\n",
        "\r\n",
        "Na última subseção fizemos a tokenização dos tweets e obtemos cada um deles na forma de id's, com cada palavra tendo seu id único. Mas note do último resultado que, dependendo do tamanho, o tweet pode ter números diferentes de id's. Desta forma, teremos que deixar todos as listas representando os tokens com o mesmo tamanho e para isso faremos um processo conhecido como ***padding*** (ou simplesmente preenchimento) que consiste igualar os seus tamanhos apenas acrescentando zeros.\r\n",
        "\r\n",
        "Assim, esta subseção será reservada para este fim."
      ]
    },
    {
      "cell_type": "code",
      "metadata": {
        "colab": {
          "base_uri": "https://localhost:8080/"
        },
        "id": "FuLGiUq38ir1",
        "outputId": "bc2c710c-45e9-4319-f3d6-e0b4c50e8874"
      },
      "source": [
        "# Pegando a sentença com mais caracteres\r\n",
        "max_len = max([len(sentence) for sentence in data_inputs])\r\n",
        "max_len"
      ],
      "execution_count": null,
      "outputs": [
        {
          "output_type": "execute_result",
          "data": {
            "text/plain": [
              "63"
            ]
          },
          "metadata": {
            "tags": []
          },
          "execution_count": 47
        }
      ]
    },
    {
      "cell_type": "code",
      "metadata": {
        "id": "_fcD1moO-2lA"
      },
      "source": [
        "# Fazendo o preenchimento\r\n",
        "data_inputs = tf.keras.preprocessing.sequence.pad_sequences(data_inputs,\r\n",
        "                                                            value=0,\r\n",
        "                                                            padding='post',\r\n",
        "                                                            maxlen=max_len)"
      ],
      "execution_count": null,
      "outputs": []
    },
    {
      "cell_type": "code",
      "metadata": {
        "colab": {
          "base_uri": "https://localhost:8080/"
        },
        "id": "000Ew3N4_193",
        "outputId": "af03be4d-b3c3-4de3-e9f7-de0519041355"
      },
      "source": [
        "# Retornando alguns registros aleatoriamente após padding\r\n",
        "for _ in range(10):\r\n",
        "  print(data_inputs[random.randint(0, len(data_inputs) - 1)])"
      ],
      "execution_count": null,
      "outputs": [
        {
          "output_type": "stream",
          "text": [
            "[  121   141    82   143    41    26     4  1290    35   931     3     1\n",
            "    55    22   199    58   144    16    36     2   538   219     1   104\n",
            "   140   419   300  1415 67741     0     0     0     0     0     0     0\n",
            "     0     0     0     0     0     0     0     0     0     0     0     0\n",
            "     0     0     0     0     0     0     0     0     0     0     0     0\n",
            "     0     0     0]\n",
            "[ 4914    11   495     9  6441 53658     3  4669    28    15     8   177\n",
            "     3  7765    15     4   175  6864   713 14014     3  4669    28 17398\n",
            "     3   299     2  1588 10717    13  4290   285     0     0     0     0\n",
            "     0     0     0     0     0     0     0     0     0     0     0     0\n",
            "     0     0     0     0     0     0     0     0     0     0     0     0\n",
            "     0     0     0]\n",
            "[   1  181   42    2   72   17   43 7505    9    1  408    2   42    2\n",
            "   43  628   23    7  438 2494 5252    0    0    0    0    0    0    0\n",
            "    0    0    0    0    0    0    0    0    0    0    0    0    0    0\n",
            "    0    0    0    0    0    0    0    0    0    0    0    0    0    0\n",
            "    0    0    0    0    0    0    0]\n",
            "[    1    19    30   365    20    10    45  1018    21     2  5483   411\n",
            "    62     3   217    14     4   953 67741     0     0     0     0     0\n",
            "     0     0     0     0     0     0     0     0     0     0     0     0\n",
            "     0     0     0     0     0     0     0     0     0     0     0     0\n",
            "     0     0     0     0     0     0     0     0     0     0     0     0\n",
            "     0     0     0]\n",
            "[    6   165 13577    77 67754     0     0     0     0     0     0     0\n",
            "     0     0     0     0     0     0     0     0     0     0     0     0\n",
            "     0     0     0     0     0     0     0     0     0     0     0     0\n",
            "     0     0     0     0     0     0     0     0     0     0     0     0\n",
            "     0     0     0     0     0     0     0     0     0     0     0     0\n",
            "     0     0     0]\n",
            "[  420     7 10037    26 20543  4631   127   197   181    42     2  1628\n",
            "    74 67774     0     0     0     0     0     0     0     0     0     0\n",
            "     0     0     0     0     0     0     0     0     0     0     0     0\n",
            "     0     0     0     0     0     0     0     0     0     0     0     0\n",
            "     0     0     0     0     0     0     0     0     0     0     0     0\n",
            "     0     0     0]\n",
            "[  601     2    10    87   150    42   452   872 67741     0     0     0\n",
            "     0     0     0     0     0     0     0     0     0     0     0     0\n",
            "     0     0     0     0     0     0     0     0     0     0     0     0\n",
            "     0     0     0     0     0     0     0     0     0     0     0     0\n",
            "     0     0     0     0     0     0     0     0     0     0     0     0\n",
            "     0     0     0]\n",
            "[  461   750     2  9289  1023 30056     3   192 37033  3825    22   693\n",
            "    18  2523   174     2   750 16548     3 61655 50793 67740    31   749\n",
            "     0     0     0     0     0     0     0     0     0     0     0     0\n",
            "     0     0     0     0     0     0     0     0     0     0     0     0\n",
            "     0     0     0     0     0     0     0     0     0     0     0     0\n",
            "     0     0     0]\n",
            "[  337    31    44  3563     9   231     3   420   165    79   470  2793\n",
            "    24    22    10   138    27    44    18    43  1034     9   695   200\n",
            "   692 10886   948     0     0     0     0     0     0     0     0     0\n",
            "     0     0     0     0     0     0     0     0     0     0     0     0\n",
            "     0     0     0     0     0     0     0     0     0     0     0     0\n",
            "     0     0     0]\n",
            "[ 203    5  417  626   15    7  403   20 1165 4470  457   11 1269 1518\n",
            "  445    6  183  845    2   12 1135   20  658    9  129    0    0    0\n",
            "    0    0    0    0    0    0    0    0    0    0    0    0    0    0\n",
            "    0    0    0    0    0    0    0    0    0    0    0    0    0    0\n",
            "    0    0    0    0    0    0    0]\n"
          ],
          "name": "stdout"
        }
      ]
    },
    {
      "cell_type": "markdown",
      "metadata": {
        "id": "8CjbzhVjAsyl"
      },
      "source": [
        "### 3.6) Divisão da base de dados entre treinamento e teste\r\n",
        "\r\n",
        "Agora iremos utilizar a base finalizada acima para dividi-la em bases de treinamento e teste."
      ]
    },
    {
      "cell_type": "code",
      "metadata": {
        "id": "6HZHQ7ScA0kt"
      },
      "source": [
        "# Fazendo a divisão da base\r\n",
        "train_inputs, test_inputs, train_labels, test_labels = train_test_split(data_inputs,\r\n",
        "                                                                        data_labels,\r\n",
        "                                                                        test_size=.3,\r\n",
        "                                                                        stratify=data_labels)"
      ],
      "execution_count": null,
      "outputs": []
    },
    {
      "cell_type": "code",
      "metadata": {
        "id": "rU4VASyYD4qb",
        "colab": {
          "base_uri": "https://localhost:8080/"
        },
        "outputId": "0ab765b4-f6e2-495f-9b97-4de603be187d"
      },
      "source": [
        "# Visualizando um resultado\r\n",
        "train_inputs[0]"
      ],
      "execution_count": null,
      "outputs": [
        {
          "output_type": "execute_result",
          "data": {
            "text/plain": [
              "array([   6,   21,  868, 9227,  380,   86,    0,    0,    0,    0,    0,\n",
              "          0,    0,    0,    0,    0,    0,    0,    0,    0,    0,    0,\n",
              "          0,    0,    0,    0,    0,    0,    0,    0,    0,    0,    0,\n",
              "          0,    0,    0,    0,    0,    0,    0,    0,    0,    0,    0,\n",
              "          0,    0,    0,    0,    0,    0,    0,    0,    0,    0,    0,\n",
              "          0,    0,    0,    0,    0,    0,    0,    0], dtype=int32)"
            ]
          },
          "metadata": {
            "tags": []
          },
          "execution_count": 51
        }
      ]
    },
    {
      "cell_type": "code",
      "metadata": {
        "id": "v-G-H8Y1D_zY",
        "colab": {
          "base_uri": "https://localhost:8080/"
        },
        "outputId": "fee0105d-ebe8-4e62-8e0b-510507e52e6a"
      },
      "source": [
        "# Visualizando o shape dos dados de treino\r\n",
        "train_inputs.shape, train_labels.shape"
      ],
      "execution_count": null,
      "outputs": [
        {
          "output_type": "execute_result",
          "data": {
            "text/plain": [
              "((168000, 63), (168000,))"
            ]
          },
          "metadata": {
            "tags": []
          },
          "execution_count": 52
        }
      ]
    },
    {
      "cell_type": "code",
      "metadata": {
        "id": "Ja9innZtEgtT",
        "colab": {
          "base_uri": "https://localhost:8080/"
        },
        "outputId": "2da8f9b8-94db-4c69-e176-8475abdba301"
      },
      "source": [
        "# Visualizando o shape dos dados de teste\r\n",
        "test_inputs.shape, test_labels.shape"
      ],
      "execution_count": null,
      "outputs": [
        {
          "output_type": "execute_result",
          "data": {
            "text/plain": [
              "((72000, 63), (72000,))"
            ]
          },
          "metadata": {
            "tags": []
          },
          "execution_count": 53
        }
      ]
    },
    {
      "cell_type": "markdown",
      "metadata": {
        "id": "FGrMEBZUNXl7"
      },
      "source": [
        "## 4) Construção do modelo\r\n",
        "\r\n",
        "Nesta etapa iremos de fato fazer a construção do modelo que irá receber os tweets tratados anteriormente."
      ]
    },
    {
      "cell_type": "code",
      "metadata": {
        "id": "OA8uedzsNb3X"
      },
      "source": [
        "# Criação da classe\r\n",
        "class DCNN(tf.keras.Model):\r\n",
        "\r\n",
        "  def __init__(self,\r\n",
        "               vocab_size, \r\n",
        "               emb_dim=128, \r\n",
        "               nb_filters=50, \r\n",
        "               ffn_units=512,\r\n",
        "               nb_classes=2,\r\n",
        "               dropout_rate=0.1,\r\n",
        "               training=False,\r\n",
        "               name='dcnn'):\r\n",
        "    super(DCNN, self).__init__(name=name)\r\n",
        "\r\n",
        "    # Create word embedding\r\n",
        "    self.embedding = layers.Embedding(vocab_size, emb_dim)\r\n",
        "\r\n",
        "    # Create convolution layers (filters) with regions 2, 3, 4\r\n",
        "    self.bigram = layers.Conv1D(filters=nb_filters, kernel_size=2, padding='same', activation='relu')\r\n",
        "    self.trigram = layers.Conv1D(filters=nb_filters, kernel_size=3, padding='same', activation='relu')\r\n",
        "    self.fourgram = layers.Conv1D(filters=nb_filters, kernel_size=4, padding='same', activation='relu')\r\n",
        "\r\n",
        "    # Define pooling layers\r\n",
        "    self.pool = layers.GlobalMaxPool1D()\r\n",
        "\r\n",
        "    # Define structure for NR Dense\r\n",
        "    self.dense_1 = layers.Dense(units=ffn_units, activation='relu')\r\n",
        "    self.dropout = layers.Dropout(rate=dropout_rate)\r\n",
        "\r\n",
        "    # Define exit layer\r\n",
        "    if nb_classes == 2:\r\n",
        "      self.last_dense = layers.Dense(units=1, activation='sigmoid')\r\n",
        "    else:\r\n",
        "      self.last_dense = layers.Dense(units=nb_classes, activation='softmax')\r\n",
        "    \r\n",
        "  def call(self, inputs, training):\r\n",
        "    x = self.embedding(inputs)\r\n",
        "    X_1 = self.bigram(x)\r\n",
        "    X_1 = self.pool(X_1)\r\n",
        "    X_2 = self.trigram(x)\r\n",
        "    X_2 = self.pool(X_2)\r\n",
        "    X_3 = self.fourgram(x)\r\n",
        "    X_3 = self.pool(X_3)\r\n",
        "\r\n",
        "    merged = tf.concat([X_1, X_2, X_3], axis=-1) # (batch_size, 3 * nb_filters)\r\n",
        "    merged = self.dense_1(merged)\r\n",
        "    merged = self.dropout(merged, training)\r\n",
        "    output = self.last_dense(merged)\r\n",
        "\r\n",
        "    return output"
      ],
      "execution_count": null,
      "outputs": []
    },
    {
      "cell_type": "markdown",
      "metadata": {
        "id": "nLmAFRs4onol"
      },
      "source": [
        "## 5) Treinamento\r\n",
        "\r\n",
        "Finalmente faremos o treinamento do nosso modelo, e para isso precisamos fazer uma configuração dos parâmetros as serem utilizados.\r\n",
        "\r\n",
        "### 5.1) Configuração dos parâmetros"
      ]
    },
    {
      "cell_type": "code",
      "metadata": {
        "id": "smCCjE-coqgx"
      },
      "source": [
        "# Definição do número de vocábulos\r\n",
        "vocab_size = tokenizer.vocab_size\r\n",
        "\r\n",
        "# Dimensão da matriz de embedding\r\n",
        "emb_dim = 200\r\n",
        "\r\n",
        "# Quantidade de filtros\r\n",
        "nb_filters = 100\r\n",
        "\r\n",
        "# Quantidade de neurônios na camada escondida da RN\r\n",
        "ffn_units = 256\r\n",
        "\r\n",
        "# Número do batch_size\r\n",
        "batch_size = 64\r\n",
        "\r\n",
        "# Número de classes\r\n",
        "nb_classes = len(set(train_labels))\r\n",
        "\r\n",
        "# Dropout para previnir overfitting\r\n",
        "dropout_rate = 0.2\r\n",
        "\r\n",
        "# Número de épocas de execução\r\n",
        "nb_epochs = 5"
      ],
      "execution_count": null,
      "outputs": []
    },
    {
      "cell_type": "code",
      "metadata": {
        "colab": {
          "base_uri": "https://localhost:8080/"
        },
        "id": "K9qobaiKpMBW",
        "outputId": "b0d531eb-b312-419e-e7f6-dc2f7f7d7144"
      },
      "source": [
        "# Visualizando o número de vocábulos\r\n",
        "print(vocab_size)"
      ],
      "execution_count": null,
      "outputs": [
        {
          "output_type": "stream",
          "text": [
            "67964\n"
          ],
          "name": "stdout"
        }
      ]
    },
    {
      "cell_type": "markdown",
      "metadata": {
        "id": "R_xm4E9T7NlX"
      },
      "source": [
        "### 5.2) Efetuando o treinamento"
      ]
    },
    {
      "cell_type": "code",
      "metadata": {
        "id": "mZB53ZOd7RZh"
      },
      "source": [
        "# Instanciando um objeto da classe DCNN\r\n",
        "dcnn = DCNN(vocab_size=vocab_size, emb_dim=emb_dim, nb_filters=nb_filters,\r\n",
        "            ffn_units=ffn_units, nb_classes=nb_classes, dropout_rate=dropout_rate)"
      ],
      "execution_count": null,
      "outputs": []
    },
    {
      "cell_type": "code",
      "metadata": {
        "id": "OuQU5lqR7_UK"
      },
      "source": [
        "# Compilando a rede\r\n",
        "if nb_classes == 2:\r\n",
        "  dcnn.compile(loss='binary_crossentropy', optimizer='adam', metrics=['accuracy'])\r\n",
        "else:\r\n",
        "  dcnn.compile(loss='sparse_categorical_crossentropy', optimizer='adam', metrics=['accuracy'])"
      ],
      "execution_count": null,
      "outputs": []
    },
    {
      "cell_type": "code",
      "metadata": {
        "id": "HG1xWBuL9f_N"
      },
      "source": [
        "# Checkpoint para salvar o modelo\r\n",
        "checkpoint_path = '/content/drive/MyDrive/NLP/Test1'\r\n",
        "\r\n",
        "ckpt = tf.train.Checkpoint(dcnn=dcnn)\r\n",
        "ckpt_manager = tf.train.CheckpointManager(ckpt, \r\n",
        "                                          checkpoint_path, \r\n",
        "                                          max_to_keep=5)\r\n",
        "\r\n",
        "if ckpt_manager.latest_checkpoint:\r\n",
        "  ckpt.restore(ckpt_manager.latest_checkpoint)\r\n",
        "  print('Latest checkpoint restored')"
      ],
      "execution_count": null,
      "outputs": []
    },
    {
      "cell_type": "code",
      "metadata": {
        "colab": {
          "base_uri": "https://localhost:8080/",
          "height": 205
        },
        "id": "9Z7GrwOD-8-Z",
        "outputId": "51bf5883-d446-416b-d13d-69eeb5bfbf52"
      },
      "source": [
        "# Fazendo efetivamente o treinamento\r\n",
        "history = dcnn.fit(train_inputs, train_labels, batch_size=batch_size, epochs=nb_epochs, verbose=1, validation_split=0.10)\r\n",
        "ckpt_manager.save()"
      ],
      "execution_count": null,
      "outputs": [
        {
          "output_type": "stream",
          "text": [
            "Epoch 1/5\n",
            "2363/2363 [==============================] - 623s 263ms/step - loss: 0.5120 - accuracy: 0.7409 - val_loss: 0.4377 - val_accuracy: 0.7931\n",
            "Epoch 2/5\n",
            "2363/2363 [==============================] - 621s 263ms/step - loss: 0.2977 - accuracy: 0.8735 - val_loss: 0.4901 - val_accuracy: 0.7894\n",
            "Epoch 3/5\n",
            "2363/2363 [==============================] - 621s 263ms/step - loss: 0.1280 - accuracy: 0.9511 - val_loss: 0.6471 - val_accuracy: 0.7697\n",
            "Epoch 4/5\n",
            "2363/2363 [==============================] - 621s 263ms/step - loss: 0.0545 - accuracy: 0.9798 - val_loss: 0.9159 - val_accuracy: 0.7580\n",
            "Epoch 5/5\n",
            "2363/2363 [==============================] - 620s 262ms/step - loss: 0.0352 - accuracy: 0.9867 - val_loss: 1.1164 - val_accuracy: 0.7607\n"
          ],
          "name": "stdout"
        },
        {
          "output_type": "execute_result",
          "data": {
            "application/vnd.google.colaboratory.intrinsic+json": {
              "type": "string"
            },
            "text/plain": [
              "'/content/drive/MyDrive/NLP/Test1/ckpt-1'"
            ]
          },
          "metadata": {
            "tags": []
          },
          "execution_count": 60
        }
      ]
    },
    {
      "cell_type": "markdown",
      "metadata": {
        "id": "6gAJicoBnGFQ"
      },
      "source": [
        "## 6) Avaliação do modelo"
      ]
    },
    {
      "cell_type": "markdown",
      "metadata": {
        "id": "PlCEIpbYnKPX"
      },
      "source": [
        "### 6.1) Avaliação"
      ]
    },
    {
      "cell_type": "code",
      "metadata": {
        "colab": {
          "base_uri": "https://localhost:8080/"
        },
        "id": "V0tCtrkJAOoL",
        "outputId": "63550daa-02f8-402c-f0f4-7ae11d09aa71"
      },
      "source": [
        "# Avaliação na base de teste\r\n",
        "results = dcnn.evaluate(test_inputs, test_labels, batch_size=batch_size)\r\n",
        "print(results)"
      ],
      "execution_count": null,
      "outputs": [
        {
          "output_type": "stream",
          "text": [
            "1125/1125 [==============================] - 40s 36ms/step - loss: 1.1231 - accuracy: 0.7637\n",
            "[1.123140573501587, 0.7637361288070679]\n"
          ],
          "name": "stdout"
        }
      ]
    },
    {
      "cell_type": "markdown",
      "metadata": {
        "id": "qMFuGDAgoMZg"
      },
      "source": [
        "Vemos do resultado que o valor do loss vale 1.123140573501587, enquanto o valor da acurácia tem valor igual a 0.7637361288070679. \r\n",
        "\r\n",
        "Iremos agora fazer algumas previsões."
      ]
    },
    {
      "cell_type": "code",
      "metadata": {
        "id": "vvmzitMnoWZt"
      },
      "source": [
        "y_pred_test = dcnn.predict(test_inputs)"
      ],
      "execution_count": null,
      "outputs": []
    },
    {
      "cell_type": "code",
      "metadata": {
        "colab": {
          "base_uri": "https://localhost:8080/"
        },
        "id": "wSIxb-YLomEr",
        "outputId": "5a21b7d2-d258-40ec-9b27-39fec7a64fe1"
      },
      "source": [
        "# Valor das previsões\r\n",
        "y_pred_test"
      ],
      "execution_count": null,
      "outputs": [
        {
          "output_type": "execute_result",
          "data": {
            "text/plain": [
              "array([[9.0511698e-01],\n",
              "       [9.2183352e-01],\n",
              "       [4.8683305e-06],\n",
              "       ...,\n",
              "       [9.2497468e-02],\n",
              "       [9.9976951e-01],\n",
              "       [8.1356764e-03]], dtype=float32)"
            ]
          },
          "metadata": {
            "tags": []
          },
          "execution_count": 65
        }
      ]
    },
    {
      "cell_type": "markdown",
      "metadata": {
        "id": "Z5ppuFSAo5FU"
      },
      "source": [
        "Podemos agora adicionar um limiar a este resultado, ou seja, consideraremos 1 (true) previsões acima de 50% e valor 0 (false) abaixo deste percentual."
      ]
    },
    {
      "cell_type": "code",
      "metadata": {
        "colab": {
          "base_uri": "https://localhost:8080/"
        },
        "id": "SaFj2JzqoyJA",
        "outputId": "93d900ad-6e8a-450e-c7e2-99ed870ef373"
      },
      "source": [
        "y_pred_test = (y_pred_test > 0.5)\r\n",
        "y_pred_test"
      ],
      "execution_count": null,
      "outputs": [
        {
          "output_type": "execute_result",
          "data": {
            "text/plain": [
              "array([[ True],\n",
              "       [ True],\n",
              "       [False],\n",
              "       ...,\n",
              "       [False],\n",
              "       [ True],\n",
              "       [False]])"
            ]
          },
          "metadata": {
            "tags": []
          },
          "execution_count": 66
        }
      ]
    },
    {
      "cell_type": "code",
      "metadata": {
        "colab": {
          "base_uri": "https://localhost:8080/"
        },
        "id": "4GeTjzQvpPKC",
        "outputId": "5ce87e76-f7d3-4f06-dd26-f0f639a43fc8"
      },
      "source": [
        "# Visualizando os valores reais\r\n",
        "test_labels"
      ],
      "execution_count": null,
      "outputs": [
        {
          "output_type": "execute_result",
          "data": {
            "text/plain": [
              "array([0, 1, 0, ..., 1, 1, 0])"
            ]
          },
          "metadata": {
            "tags": []
          },
          "execution_count": 67
        }
      ]
    },
    {
      "cell_type": "markdown",
      "metadata": {
        "id": "zwvdarydpq1Q"
      },
      "source": [
        "Agora, iremos plotar uma matriz de confusão."
      ]
    },
    {
      "cell_type": "code",
      "metadata": {
        "colab": {
          "base_uri": "https://localhost:8080/"
        },
        "id": "PxTiFKVgpU38",
        "outputId": "9d6cd52d-1d23-493c-9cf3-c4fdf4e8f0c8"
      },
      "source": [
        "# Importando a biblioteca\r\n",
        "from sklearn.metrics import confusion_matrix\r\n",
        "\r\n",
        "# Criando a matriz de confusao\r\n",
        "cm = confusion_matrix(test_labels, y_pred_test)\r\n",
        "cm"
      ],
      "execution_count": null,
      "outputs": [
        {
          "output_type": "execute_result",
          "data": {
            "text/plain": [
              "array([[29225,  6775],\n",
              "       [10236, 25764]])"
            ]
          },
          "metadata": {
            "tags": []
          },
          "execution_count": 68
        }
      ]
    },
    {
      "cell_type": "code",
      "metadata": {
        "colab": {
          "base_uri": "https://localhost:8080/",
          "height": 265
        },
        "id": "jSkrE_kOp9oF",
        "outputId": "d7d75d39-b0d6-4f09-caf0-967251a59349"
      },
      "source": [
        "# Plotando a matriz de confusão\r\n",
        "sns.heatmap(cm, annot=True);"
      ],
      "execution_count": null,
      "outputs": [
        {
          "output_type": "display_data",
          "data": {
            "image/png": "[encoded data removed]",
            "text/plain": [
              "<Figure size 432x288 with 2 Axes>"
            ]
          },
          "metadata": {
            "tags": [],
            "needs_background": "light"
          }
        }
      ]
    },
    {
      "cell_type": "code",
      "metadata": {
        "colab": {
          "base_uri": "https://localhost:8080/"
        },
        "id": "zGDIFXS2qG9R",
        "outputId": "4cdfb70f-c4e0-4529-ec0b-7b66a8b5a515"
      },
      "source": [
        "# Verificando as chaves do histórico do treinamento\r\n",
        "history.history.keys()"
      ],
      "execution_count": null,
      "outputs": [
        {
          "output_type": "execute_result",
          "data": {
            "text/plain": [
              "dict_keys(['loss', 'accuracy', 'val_loss', 'val_accuracy'])"
            ]
          },
          "metadata": {
            "tags": []
          },
          "execution_count": 70
        }
      ]
    },
    {
      "cell_type": "code",
      "metadata": {
        "colab": {
          "base_uri": "https://localhost:8080/",
          "height": 295
        },
        "id": "CWwlTMgmqmRV",
        "outputId": "5c1b73dd-2312-403c-90d1-08bc8d0d55fa"
      },
      "source": [
        "# Plot da evolução da perda nas bases de treino e de validação\r\n",
        "plt.plot(history.history['loss'])\r\n",
        "plt.plot(history.history['val_loss'])\r\n",
        "plt.title('Model loss progress during training and validation')\r\n",
        "plt.xlabel('Epoch')\r\n",
        "plt.ylabel('Losses')\r\n",
        "plt.legend(['Training loss', 'Validation loss'])\r\n",
        "plt.show()"
      ],
      "execution_count": null,
      "outputs": [
        {
          "output_type": "display_data",
          "data": {
            "image/png": "[encoded data removed]",
            "text/plain": [
              "<Figure size 432x288 with 1 Axes>"
            ]
          },
          "metadata": {
            "tags": [],
            "needs_background": "light"
          }
        }
      ]
    },
    {
      "cell_type": "code",
      "metadata": {
        "colab": {
          "base_uri": "https://localhost:8080/",
          "height": 295
        },
        "id": "jPI_etDGrBsT",
        "outputId": "bddc350d-0a50-41e2-deb7-99206f225d0a"
      },
      "source": [
        "# Plot da evolução da acurácia nas bases de treino e de validação\r\n",
        "plt.plot(history.history['accuracy'])\r\n",
        "plt.plot(history.history['val_accuracy'])\r\n",
        "plt.title('Model accuracy progress during training and validation')\r\n",
        "plt.xlabel('Epoch')\r\n",
        "plt.ylabel('Accuracy')\r\n",
        "plt.legend(['Training accuracy', 'Validation accuracy'])\r\n",
        "plt.show()"
      ],
      "execution_count": null,
      "outputs": [
        {
          "output_type": "display_data",
          "data": {
            "image/png": "[encoded data removed]",
            "text/plain": [
              "<Figure size 432x288 with 1 Axes>"
            ]
          },
          "metadata": {
            "tags": [],
            "needs_background": "light"
          }
        }
      ]
    },
    {
      "cell_type": "markdown",
      "metadata": {
        "id": "1y4OY1h9seTD"
      },
      "source": [
        "## 7) Previsões\r\n",
        "\r\n",
        "Faremos agora previsões com novos textos."
      ]
    },
    {
      "cell_type": "code",
      "metadata": {
        "id": "VxcUg0zxssIS",
        "colab": {
          "base_uri": "https://localhost:8080/"
        },
        "outputId": "bcd14ce6-bfb0-491c-facc-7e3badcddedf"
      },
      "source": [
        "# Definindo uma frase qualquer\r\n",
        "text = 'you are so funny'\r\n",
        "\r\n",
        "# Fazendo a tokenização\r\n",
        "text = tokenizer.encode(text)\r\n",
        "\r\n",
        "# Verificando o resultado\r\n",
        "text"
      ],
      "execution_count": null,
      "outputs": [
        {
          "output_type": "execute_result",
          "data": {
            "text/plain": [
              "[10, 38, 22, 802]"
            ]
          },
          "metadata": {
            "tags": []
          },
          "execution_count": 73
        }
      ]
    },
    {
      "cell_type": "code",
      "metadata": {
        "id": "e42vMlTTs6Pq",
        "colab": {
          "base_uri": "https://localhost:8080/"
        },
        "outputId": "52a8b32a-3a94-4831-b16d-6ecca807075f"
      },
      "source": [
        "# Fazendo a previsão\r\n",
        "dcnn(np.array([text]), training=False).numpy()"
      ],
      "execution_count": null,
      "outputs": [
        {
          "output_type": "execute_result",
          "data": {
            "text/plain": [
              "array([[0.99999976]], dtype=float32)"
            ]
          },
          "metadata": {
            "tags": []
          },
          "execution_count": 74
        }
      ]
    },
    {
      "cell_type": "markdown",
      "metadata": {
        "id": "ReO9vQCbtTds"
      },
      "source": [
        "Note que temos uma probabilidade de 99% de ser uma frase positiva. Consideremos agora outra frase com sentido negativo para verificar se o algorítmo reconhecerá o sentimento."
      ]
    },
    {
      "cell_type": "code",
      "metadata": {
        "id": "MANXF-sEtOKU",
        "colab": {
          "base_uri": "https://localhost:8080/"
        },
        "outputId": "2e31fcf7-307a-4a32-ef44-8d94baa5c8a2"
      },
      "source": [
        "text_2 = 'i hate you'\r\n",
        "text_2 = tokenizer.encode(text_2)\r\n",
        "text_2"
      ],
      "execution_count": null,
      "outputs": [
        {
          "output_type": "execute_result",
          "data": {
            "text/plain": [
              "[6, 152, 77]"
            ]
          },
          "metadata": {
            "tags": []
          },
          "execution_count": 75
        }
      ]
    },
    {
      "cell_type": "code",
      "metadata": {
        "id": "pWGTt2n7tql2",
        "colab": {
          "base_uri": "https://localhost:8080/"
        },
        "outputId": "fcfd88d0-1215-4d6d-faa3-1a362e05e5f4"
      },
      "source": [
        "# Fazendo a previsão\r\n",
        "dcnn(np.array([text_2]), training=False).numpy()"
      ],
      "execution_count": null,
      "outputs": [
        {
          "output_type": "execute_result",
          "data": {
            "text/plain": [
              "array([[0.00185427]], dtype=float32)"
            ]
          },
          "metadata": {
            "tags": []
          },
          "execution_count": 76
        }
      ]
    },
    {
      "cell_type": "markdown",
      "metadata": {
        "id": "jVQMiCkct8Om"
      },
      "source": [
        "Note que este resultado apresentou-se muito próximo de 0 e portanto ele fez uma previsão correta!"
      ]
    }
  ]
}