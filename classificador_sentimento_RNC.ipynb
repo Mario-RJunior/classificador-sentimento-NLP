{
  "nbformat": 4,
  "nbformat_minor": 0,
  "metadata": {
    "colab": {
      "name": "classificador-sentimento-RNC.ipynb",
      "provenance": [],
      "authorship_tag": "ABX9TyPmTH29Ycj8MNKY7gntYSpt",
      "include_colab_link": true
    },
    "kernelspec": {
      "name": "python3",
      "display_name": "Python 3"
    }
  },
  "cells": [
    {
      "cell_type": "markdown",
      "metadata": {
        "id": "view-in-github",
        "colab_type": "text"
      },
      "source": [
        "<a href=\"https://colab.research.google.com/github/Mario-RJunior/classificador-sentimento-NLP/blob/main/classificador_sentimento_RNC.ipynb\" target=\"_parent\"><img src=\"https://colab.research.google.com/assets/colab-badge.svg\" alt=\"Open In Colab\"/></a>"
      ]
    },
    {
      "cell_type": "markdown",
      "metadata": {
        "id": "QNTXDc1AoJMg"
      },
      "source": [
        "# Classificador de Sentimento\r\n",
        "\r\n",
        "## 1) Introdução\r\n",
        "\r\n",
        "Neste projeto iremos desenvolver um classificador de sentimentos e para isso utilizaremos uma base contendo dados de usuários do Twitter.\r\n",
        "\r\n",
        "Esta base estará estruturada da seguinte com as seguintes colunas:\r\n",
        "- ***sentiment***: 0 e 1 (negativo e positivo).\r\n",
        "- ***id***: número de identificação do comentário.\r\n",
        "- ***date***: data da postagem.\r\n",
        "- ***query***: pesquisa realizada.\r\n",
        "-\t***user***: usuário da postagem.\r\n",
        "- ***text***: texto que queremos classificar.\r\n",
        "\r\n",
        "Agora, iremos importar as bibliotecas que usaremos neste estudo."
      ]
    }
  ]
}