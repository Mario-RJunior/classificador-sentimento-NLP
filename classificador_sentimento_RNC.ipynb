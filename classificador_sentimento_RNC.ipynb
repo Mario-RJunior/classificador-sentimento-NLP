{
  "nbformat": 4,
  "nbformat_minor": 0,
  "metadata": {
    "colab": {
      "name": "classificador-sentimento-RNC.ipynb",
      "provenance": [],
      "authorship_tag": "ABX9TyNnEyjTomKtg0OyCbj0mWEh",
      "include_colab_link": true
    },
    "kernelspec": {
      "name": "python3",
      "display_name": "Python 3"
    }
  },
  "cells": [
    {
      "cell_type": "markdown",
      "metadata": {
        "id": "view-in-github",
        "colab_type": "text"
      },
      "source": [
        "<a href=\"https://colab.research.google.com/github/Mario-RJunior/classificador-sentimento-NLP/blob/main/classificador_sentimento_RNC.ipynb\" target=\"_parent\"><img src=\"https://colab.research.google.com/assets/colab-badge.svg\" alt=\"Open In Colab\"/></a>"
      ]
    },
    {
      "cell_type": "markdown",
      "metadata": {
        "id": "QNTXDc1AoJMg"
      },
      "source": [
        "# Classificador de Sentimento\r\n",
        "\r\n",
        "## 1) Introdução\r\n",
        "\r\n",
        "Neste projeto iremos desenvolver um classificador de sentimentos e para isso utilizaremos uma base contendo dados de usuários do Twitter.\r\n",
        "\r\n",
        "Esta base estará estruturada da seguinte com as seguintes colunas:\r\n",
        "- ***sentiment***: 0 e 1 (negativo e positivo).\r\n",
        "- ***id***: número de identificação do comentário.\r\n",
        "- ***date***: data da postagem.\r\n",
        "- ***query***: pesquisa realizada.\r\n",
        "-\t***user***: usuário da postagem.\r\n",
        "- ***text***: texto que queremos classificar.\r\n",
        "\r\n",
        "Agora, iremos importar as bibliotecas que usaremos neste estudo.\r\n",
        "\r\n",
        "## 2) Importação das bibliotecas"
      ]
    },
    {
      "cell_type": "code",
      "metadata": {
        "id": "jMKMxQdTsBgX"
      },
      "source": [
        "# Importando as bibliotecas\r\n",
        "import numpy as np\r\n",
        "import math\r\n",
        "import re\r\n",
        "import pandas as pd\r\n",
        "from bs4 import BeautifulSoup\r\n",
        "from google.colab import drive\r\n",
        "import zipfile\r\n",
        "import seaborn as sns\r\n",
        "import spacy as sp\r\n",
        "import string\r\n",
        "import random\r\n",
        "import matplotlib.pyplot as plt"
      ],
      "execution_count": 1,
      "outputs": []
    },
    {
      "cell_type": "code",
      "metadata": {
        "id": "cy5QmGwh9G1M",
        "colab": {
          "base_uri": "https://localhost:8080/",
          "height": 35
        },
        "outputId": "8e73a535-386f-4e7c-810d-cd33d5bf1f0c"
      },
      "source": [
        "# Selecionando a versão do tensorflow\r\n",
        "%tensorflow_version 2.x\r\n",
        "\r\n",
        "# importando o tensorflow\r\n",
        "import tensorflow as tf\r\n",
        "\r\n",
        "# Visualizando a versão do tensorflow\r\n",
        "tf.__version__"
      ],
      "execution_count": 2,
      "outputs": [
        {
          "output_type": "execute_result",
          "data": {
            "application/vnd.google.colaboratory.intrinsic+json": {
              "type": "string"
            },
            "text/plain": [
              "'2.4.0'"
            ]
          },
          "metadata": {
            "tags": []
          },
          "execution_count": 2
        }
      ]
    },
    {
      "cell_type": "code",
      "metadata": {
        "id": "QYGbYyqw9iFy"
      },
      "source": [
        "# Importando recursos específicos do tensorflow\r\n",
        "from tensorflow.keras import layers\r\n",
        "import tensorflow_datasets as tfds"
      ],
      "execution_count": 3,
      "outputs": []
    },
    {
      "cell_type": "markdown",
      "metadata": {
        "id": "uQwWoLSH9aDB"
      },
      "source": [
        "## 3) Pré-processamento dos dados"
      ]
    },
    {
      "cell_type": "markdown",
      "metadata": {
        "id": "z9aq4QKv9e5L"
      },
      "source": [
        "### 3.1) Carregamento dos arquivos"
      ]
    },
    {
      "cell_type": "code",
      "metadata": {
        "colab": {
          "base_uri": "https://localhost:8080/"
        },
        "id": "j7uffomd9zRC",
        "outputId": "f8cdfcba-5644-4bf0-f7d2-445786b4b0ef"
      },
      "source": [
        "# Conectando com o Google Drive\r\n",
        "drive.mount('/content/drive')"
      ],
      "execution_count": 4,
      "outputs": [
        {
          "output_type": "stream",
          "text": [
            "Mounted at /content/drive\n"
          ],
          "name": "stdout"
        }
      ]
    },
    {
      "cell_type": "code",
      "metadata": {
        "id": "PbL19RVF-eMx"
      },
      "source": [
        "# Caminho para acesso ao arquivo\r\n",
        "path = '/content/drive/MyDrive/NLP/trainingandtestdata.zip'\r\n",
        "\r\n",
        "# Descompactando o arquivo\r\n",
        "zip_object = zipfile.ZipFile(path, mode='r')\r\n",
        "zip_object.extractall('./')\r\n",
        "zip_object.close()"
      ],
      "execution_count": 5,
      "outputs": []
    },
    {
      "cell_type": "code",
      "metadata": {
        "id": "E4dUkQiV_uec"
      },
      "source": [
        "# Criando colunas para usar no dataframe\r\n",
        "cols = ['sentiment', 'id', 'date', 'query', 'user', 'text']"
      ],
      "execution_count": 6,
      "outputs": []
    },
    {
      "cell_type": "code",
      "metadata": {
        "id": "CqQlEYhS9dfG"
      },
      "source": [
        "# Criando dataframe\r\n",
        "train_data = pd.read_csv('/content/trainingandtestdata/train.csv', \r\n",
        "                        encoding='latin1',\r\n",
        "                        names=cols,\r\n",
        "                        header=None,\r\n",
        "                        engine='python')"
      ],
      "execution_count": 7,
      "outputs": []
    },
    {
      "cell_type": "code",
      "metadata": {
        "colab": {
          "base_uri": "https://localhost:8080/"
        },
        "id": "hT3Tn5FU_fkb",
        "outputId": "261d6c00-c9e5-479d-88d4-ee8eb597da22"
      },
      "source": [
        "# Visualizando o shape do dataframe\r\n",
        "train_data.shape"
      ],
      "execution_count": 8,
      "outputs": [
        {
          "output_type": "execute_result",
          "data": {
            "text/plain": [
              "(1600000, 6)"
            ]
          },
          "metadata": {
            "tags": []
          },
          "execution_count": 8
        }
      ]
    },
    {
      "cell_type": "code",
      "metadata": {
        "colab": {
          "base_uri": "https://localhost:8080/",
          "height": 204
        },
        "id": "Z2gUe1ezA9nF",
        "outputId": "ed5b08a0-e6e5-4d3c-ad9b-164f1313ca95"
      },
      "source": [
        "# Visualizando os primeiros registros\r\n",
        "train_data.head()"
      ],
      "execution_count": 9,
      "outputs": [
        {
          "output_type": "execute_result",
          "data": {
            "text/html": [
              "<div>\n",
              "<style scoped>\n",
              "    .dataframe tbody tr th:only-of-type {\n",
              "        vertical-align: middle;\n",
              "    }\n",
              "\n",
              "    .dataframe tbody tr th {\n",
              "        vertical-align: top;\n",
              "    }\n",
              "\n",
              "    .dataframe thead th {\n",
              "        text-align: right;\n",
              "    }\n",
              "</style>\n",
              "<table border=\"1\" class=\"dataframe\">\n",
              "  <thead>\n",
              "    <tr style=\"text-align: right;\">\n",
              "      <th></th>\n",
              "      <th>sentiment</th>\n",
              "      <th>id</th>\n",
              "      <th>date</th>\n",
              "      <th>query</th>\n",
              "      <th>user</th>\n",
              "      <th>text</th>\n",
              "    </tr>\n",
              "  </thead>\n",
              "  <tbody>\n",
              "    <tr>\n",
              "      <th>0</th>\n",
              "      <td>0</td>\n",
              "      <td>1467810369</td>\n",
              "      <td>Mon Apr 06 22:19:45 PDT 2009</td>\n",
              "      <td>NO_QUERY</td>\n",
              "      <td>_TheSpecialOne_</td>\n",
              "      <td>@switchfoot http://twitpic.com/2y1zl - Awww, t...</td>\n",
              "    </tr>\n",
              "    <tr>\n",
              "      <th>1</th>\n",
              "      <td>0</td>\n",
              "      <td>1467810672</td>\n",
              "      <td>Mon Apr 06 22:19:49 PDT 2009</td>\n",
              "      <td>NO_QUERY</td>\n",
              "      <td>scotthamilton</td>\n",
              "      <td>is upset that he can't update his Facebook by ...</td>\n",
              "    </tr>\n",
              "    <tr>\n",
              "      <th>2</th>\n",
              "      <td>0</td>\n",
              "      <td>1467810917</td>\n",
              "      <td>Mon Apr 06 22:19:53 PDT 2009</td>\n",
              "      <td>NO_QUERY</td>\n",
              "      <td>mattycus</td>\n",
              "      <td>@Kenichan I dived many times for the ball. Man...</td>\n",
              "    </tr>\n",
              "    <tr>\n",
              "      <th>3</th>\n",
              "      <td>0</td>\n",
              "      <td>1467811184</td>\n",
              "      <td>Mon Apr 06 22:19:57 PDT 2009</td>\n",
              "      <td>NO_QUERY</td>\n",
              "      <td>ElleCTF</td>\n",
              "      <td>my whole body feels itchy and like its on fire</td>\n",
              "    </tr>\n",
              "    <tr>\n",
              "      <th>4</th>\n",
              "      <td>0</td>\n",
              "      <td>1467811193</td>\n",
              "      <td>Mon Apr 06 22:19:57 PDT 2009</td>\n",
              "      <td>NO_QUERY</td>\n",
              "      <td>Karoli</td>\n",
              "      <td>@nationwideclass no, it's not behaving at all....</td>\n",
              "    </tr>\n",
              "  </tbody>\n",
              "</table>\n",
              "</div>"
            ],
            "text/plain": [
              "   sentiment  ...                                               text\n",
              "0          0  ...  @switchfoot http://twitpic.com/2y1zl - Awww, t...\n",
              "1          0  ...  is upset that he can't update his Facebook by ...\n",
              "2          0  ...  @Kenichan I dived many times for the ball. Man...\n",
              "3          0  ...    my whole body feels itchy and like its on fire \n",
              "4          0  ...  @nationwideclass no, it's not behaving at all....\n",
              "\n",
              "[5 rows x 6 columns]"
            ]
          },
          "metadata": {
            "tags": []
          },
          "execution_count": 9
        }
      ]
    },
    {
      "cell_type": "code",
      "metadata": {
        "colab": {
          "base_uri": "https://localhost:8080/",
          "height": 204
        },
        "id": "yI60Qt7EBBwR",
        "outputId": "0398b198-e154-4d70-a2e2-bc1bc5e20a72"
      },
      "source": [
        "# Visualizando os últimos registros\r\n",
        "train_data.tail()"
      ],
      "execution_count": 10,
      "outputs": [
        {
          "output_type": "execute_result",
          "data": {
            "text/html": [
              "<div>\n",
              "<style scoped>\n",
              "    .dataframe tbody tr th:only-of-type {\n",
              "        vertical-align: middle;\n",
              "    }\n",
              "\n",
              "    .dataframe tbody tr th {\n",
              "        vertical-align: top;\n",
              "    }\n",
              "\n",
              "    .dataframe thead th {\n",
              "        text-align: right;\n",
              "    }\n",
              "</style>\n",
              "<table border=\"1\" class=\"dataframe\">\n",
              "  <thead>\n",
              "    <tr style=\"text-align: right;\">\n",
              "      <th></th>\n",
              "      <th>sentiment</th>\n",
              "      <th>id</th>\n",
              "      <th>date</th>\n",
              "      <th>query</th>\n",
              "      <th>user</th>\n",
              "      <th>text</th>\n",
              "    </tr>\n",
              "  </thead>\n",
              "  <tbody>\n",
              "    <tr>\n",
              "      <th>1599995</th>\n",
              "      <td>4</td>\n",
              "      <td>2193601966</td>\n",
              "      <td>Tue Jun 16 08:40:49 PDT 2009</td>\n",
              "      <td>NO_QUERY</td>\n",
              "      <td>AmandaMarie1028</td>\n",
              "      <td>Just woke up. Having no school is the best fee...</td>\n",
              "    </tr>\n",
              "    <tr>\n",
              "      <th>1599996</th>\n",
              "      <td>4</td>\n",
              "      <td>2193601969</td>\n",
              "      <td>Tue Jun 16 08:40:49 PDT 2009</td>\n",
              "      <td>NO_QUERY</td>\n",
              "      <td>TheWDBoards</td>\n",
              "      <td>TheWDB.com - Very cool to hear old Walt interv...</td>\n",
              "    </tr>\n",
              "    <tr>\n",
              "      <th>1599997</th>\n",
              "      <td>4</td>\n",
              "      <td>2193601991</td>\n",
              "      <td>Tue Jun 16 08:40:49 PDT 2009</td>\n",
              "      <td>NO_QUERY</td>\n",
              "      <td>bpbabe</td>\n",
              "      <td>Are you ready for your MoJo Makeover? Ask me f...</td>\n",
              "    </tr>\n",
              "    <tr>\n",
              "      <th>1599998</th>\n",
              "      <td>4</td>\n",
              "      <td>2193602064</td>\n",
              "      <td>Tue Jun 16 08:40:49 PDT 2009</td>\n",
              "      <td>NO_QUERY</td>\n",
              "      <td>tinydiamondz</td>\n",
              "      <td>Happy 38th Birthday to my boo of alll time!!! ...</td>\n",
              "    </tr>\n",
              "    <tr>\n",
              "      <th>1599999</th>\n",
              "      <td>4</td>\n",
              "      <td>2193602129</td>\n",
              "      <td>Tue Jun 16 08:40:50 PDT 2009</td>\n",
              "      <td>NO_QUERY</td>\n",
              "      <td>RyanTrevMorris</td>\n",
              "      <td>happy #charitytuesday @theNSPCC @SparksCharity...</td>\n",
              "    </tr>\n",
              "  </tbody>\n",
              "</table>\n",
              "</div>"
            ],
            "text/plain": [
              "         sentiment  ...                                               text\n",
              "1599995          4  ...  Just woke up. Having no school is the best fee...\n",
              "1599996          4  ...  TheWDB.com - Very cool to hear old Walt interv...\n",
              "1599997          4  ...  Are you ready for your MoJo Makeover? Ask me f...\n",
              "1599998          4  ...  Happy 38th Birthday to my boo of alll time!!! ...\n",
              "1599999          4  ...  happy #charitytuesday @theNSPCC @SparksCharity...\n",
              "\n",
              "[5 rows x 6 columns]"
            ]
          },
          "metadata": {
            "tags": []
          },
          "execution_count": 10
        }
      ]
    },
    {
      "cell_type": "code",
      "metadata": {
        "colab": {
          "base_uri": "https://localhost:8080/"
        },
        "id": "ZHbQi1p4BFb0",
        "outputId": "3c2df25d-67bb-44f9-d164-a6a6cf39b7f1"
      },
      "source": [
        "# Visualizando os valores da classe\r\n",
        "train_data['sentiment'].unique()"
      ],
      "execution_count": 11,
      "outputs": [
        {
          "output_type": "execute_result",
          "data": {
            "text/plain": [
              "array([0, 4])"
            ]
          },
          "metadata": {
            "tags": []
          },
          "execution_count": 11
        }
      ]
    },
    {
      "cell_type": "code",
      "metadata": {
        "colab": {
          "base_uri": "https://localhost:8080/",
          "height": 279
        },
        "id": "EMq3q0STBkPF",
        "outputId": "92848248-1034-4b99-e7c6-45fc31da9735"
      },
      "source": [
        "# Contagem da classe\r\n",
        "sns.countplot(data=train_data, x='sentiment');"
      ],
      "execution_count": 12,
      "outputs": [
        {
          "output_type": "display_data",
          "data": {
            "image/png": "[encoded data removed]",
            "text/plain": [
              "<Figure size 432x288 with 1 Axes>"
            ]
          },
          "metadata": {
            "tags": [],
            "needs_background": "light"
          }
        }
      ]
    },
    {
      "cell_type": "markdown",
      "metadata": {
        "id": "6wtdlZgoByby"
      },
      "source": [
        "Vemos portando que a base não está desbalanceada. Criaremos agora a base de testes.\r\n",
        "\r\n"
      ]
    },
    {
      "cell_type": "code",
      "metadata": {
        "id": "QU853J6WBrj5"
      },
      "source": [
        "# Criação da base de testes\r\n",
        "test_data = pd.read_csv('/content/trainingandtestdata/test.csv', \r\n",
        "                        encoding='latin1',\r\n",
        "                        names=cols,\r\n",
        "                        header=None,\r\n",
        "                        engine='python')"
      ],
      "execution_count": 13,
      "outputs": []
    },
    {
      "cell_type": "code",
      "metadata": {
        "colab": {
          "base_uri": "https://localhost:8080/",
          "height": 204
        },
        "id": "_xDXD4VkCp7j",
        "outputId": "5767949e-d860-46cc-f09b-ffdf3de8bef1"
      },
      "source": [
        "# Visualizando os primeiros registros\r\n",
        "test_data.head()"
      ],
      "execution_count": 14,
      "outputs": [
        {
          "output_type": "execute_result",
          "data": {
            "text/html": [
              "<div>\n",
              "<style scoped>\n",
              "    .dataframe tbody tr th:only-of-type {\n",
              "        vertical-align: middle;\n",
              "    }\n",
              "\n",
              "    .dataframe tbody tr th {\n",
              "        vertical-align: top;\n",
              "    }\n",
              "\n",
              "    .dataframe thead th {\n",
              "        text-align: right;\n",
              "    }\n",
              "</style>\n",
              "<table border=\"1\" class=\"dataframe\">\n",
              "  <thead>\n",
              "    <tr style=\"text-align: right;\">\n",
              "      <th></th>\n",
              "      <th>sentiment</th>\n",
              "      <th>id</th>\n",
              "      <th>date</th>\n",
              "      <th>query</th>\n",
              "      <th>user</th>\n",
              "      <th>text</th>\n",
              "    </tr>\n",
              "  </thead>\n",
              "  <tbody>\n",
              "    <tr>\n",
              "      <th>0</th>\n",
              "      <td>4</td>\n",
              "      <td>3</td>\n",
              "      <td>Mon May 11 03:17:40 UTC 2009</td>\n",
              "      <td>kindle2</td>\n",
              "      <td>tpryan</td>\n",
              "      <td>@stellargirl I loooooooovvvvvveee my Kindle2. ...</td>\n",
              "    </tr>\n",
              "    <tr>\n",
              "      <th>1</th>\n",
              "      <td>4</td>\n",
              "      <td>4</td>\n",
              "      <td>Mon May 11 03:18:03 UTC 2009</td>\n",
              "      <td>kindle2</td>\n",
              "      <td>vcu451</td>\n",
              "      <td>Reading my kindle2...  Love it... Lee childs i...</td>\n",
              "    </tr>\n",
              "    <tr>\n",
              "      <th>2</th>\n",
              "      <td>4</td>\n",
              "      <td>5</td>\n",
              "      <td>Mon May 11 03:18:54 UTC 2009</td>\n",
              "      <td>kindle2</td>\n",
              "      <td>chadfu</td>\n",
              "      <td>Ok, first assesment of the #kindle2 ...it fuck...</td>\n",
              "    </tr>\n",
              "    <tr>\n",
              "      <th>3</th>\n",
              "      <td>4</td>\n",
              "      <td>6</td>\n",
              "      <td>Mon May 11 03:19:04 UTC 2009</td>\n",
              "      <td>kindle2</td>\n",
              "      <td>SIX15</td>\n",
              "      <td>@kenburbary You'll love your Kindle2. I've had...</td>\n",
              "    </tr>\n",
              "    <tr>\n",
              "      <th>4</th>\n",
              "      <td>4</td>\n",
              "      <td>7</td>\n",
              "      <td>Mon May 11 03:21:41 UTC 2009</td>\n",
              "      <td>kindle2</td>\n",
              "      <td>yamarama</td>\n",
              "      <td>@mikefish  Fair enough. But i have the Kindle2...</td>\n",
              "    </tr>\n",
              "  </tbody>\n",
              "</table>\n",
              "</div>"
            ],
            "text/plain": [
              "   sentiment  id  ...      user                                               text\n",
              "0          4   3  ...    tpryan  @stellargirl I loooooooovvvvvveee my Kindle2. ...\n",
              "1          4   4  ...    vcu451  Reading my kindle2...  Love it... Lee childs i...\n",
              "2          4   5  ...    chadfu  Ok, first assesment of the #kindle2 ...it fuck...\n",
              "3          4   6  ...     SIX15  @kenburbary You'll love your Kindle2. I've had...\n",
              "4          4   7  ...  yamarama  @mikefish  Fair enough. But i have the Kindle2...\n",
              "\n",
              "[5 rows x 6 columns]"
            ]
          },
          "metadata": {
            "tags": []
          },
          "execution_count": 14
        }
      ]
    },
    {
      "cell_type": "code",
      "metadata": {
        "colab": {
          "base_uri": "https://localhost:8080/"
        },
        "id": "Qwj6k3TdCbJa",
        "outputId": "8e92ff81-f13c-4e85-bfcd-9a706cf20dbd"
      },
      "source": [
        "# Visualizando o shape\r\n",
        "test_data.shape"
      ],
      "execution_count": 15,
      "outputs": [
        {
          "output_type": "execute_result",
          "data": {
            "text/plain": [
              "(498, 6)"
            ]
          },
          "metadata": {
            "tags": []
          },
          "execution_count": 15
        }
      ]
    },
    {
      "cell_type": "code",
      "metadata": {
        "colab": {
          "base_uri": "https://localhost:8080/"
        },
        "id": "eOZSUy2ICetX",
        "outputId": "d1412b35-c7d7-45f1-e94b-e9697cb1866b"
      },
      "source": [
        "# Valores únicos dos sentimentos da base de testes\r\n",
        "test_data['sentiment'].unique()"
      ],
      "execution_count": 16,
      "outputs": [
        {
          "output_type": "execute_result",
          "data": {
            "text/plain": [
              "array([4, 0, 2])"
            ]
          },
          "metadata": {
            "tags": []
          },
          "execution_count": 16
        }
      ]
    },
    {
      "cell_type": "code",
      "metadata": {
        "colab": {
          "base_uri": "https://localhost:8080/",
          "height": 279
        },
        "id": "Y1it8nx-CmxN",
        "outputId": "7e75b2dc-f39c-479b-f2ec-e021771a4df2"
      },
      "source": [
        "# Contagem da classe\r\n",
        "sns.countplot(data=test_data, x='sentiment');"
      ],
      "execution_count": 17,
      "outputs": [
        {
          "output_type": "display_data",
          "data": {
            "image/png": "[encoded data removed]",
            "text/plain": [
              "<Figure size 432x288 with 1 Axes>"
            ]
          },
          "metadata": {
            "tags": [],
            "needs_background": "light"
          }
        }
      ]
    },
    {
      "cell_type": "markdown",
      "metadata": {
        "id": "HOPCHJEZDNSx"
      },
      "source": [
        "Notamos que a base de testes tem uma estrutura diferente dos \"sentimentos\" em relação à base de treinos, apresentando um sentimento \"neutro\". Por isso não iremos utilizá-la e faremos toda a nossa análise na própria base de treinos."
      ]
    },
    {
      "cell_type": "markdown",
      "metadata": {
        "id": "gIhWhKM4vfdz"
      },
      "source": [
        "### 3.2) Separando a base de dados\r\n",
        "\r\n",
        "Antes de fazer a limpeza iremos criar um outro dataframe excluindo as colunas desnecessárias e a seguir separaremos uma amostra com 15% da base original para fazer o treinamento do modelo."
      ]
    },
    {
      "cell_type": "code",
      "metadata": {
        "colab": {
          "base_uri": "https://localhost:8080/",
          "height": 0
        },
        "id": "O9uW5U8Uvezg",
        "outputId": "8b8039a5-2dc6-478b-f6e9-4dc08906865f"
      },
      "source": [
        "# Criando novo dataframe\r\n",
        "data = train_data\r\n",
        "\r\n",
        "# Deletando colunas desnecessárias\r\n",
        "data.drop(axis=1, columns=['id', 'date', 'query', 'user'], inplace=True)\r\n",
        "\r\n",
        "# Visualizando o novo dataframe\r\n",
        "data.head()"
      ],
      "execution_count": 18,
      "outputs": [
        {
          "output_type": "execute_result",
          "data": {
            "text/html": [
              "<div>\n",
              "<style scoped>\n",
              "    .dataframe tbody tr th:only-of-type {\n",
              "        vertical-align: middle;\n",
              "    }\n",
              "\n",
              "    .dataframe tbody tr th {\n",
              "        vertical-align: top;\n",
              "    }\n",
              "\n",
              "    .dataframe thead th {\n",
              "        text-align: right;\n",
              "    }\n",
              "</style>\n",
              "<table border=\"1\" class=\"dataframe\">\n",
              "  <thead>\n",
              "    <tr style=\"text-align: right;\">\n",
              "      <th></th>\n",
              "      <th>sentiment</th>\n",
              "      <th>text</th>\n",
              "    </tr>\n",
              "  </thead>\n",
              "  <tbody>\n",
              "    <tr>\n",
              "      <th>0</th>\n",
              "      <td>0</td>\n",
              "      <td>@switchfoot http://twitpic.com/2y1zl - Awww, t...</td>\n",
              "    </tr>\n",
              "    <tr>\n",
              "      <th>1</th>\n",
              "      <td>0</td>\n",
              "      <td>is upset that he can't update his Facebook by ...</td>\n",
              "    </tr>\n",
              "    <tr>\n",
              "      <th>2</th>\n",
              "      <td>0</td>\n",
              "      <td>@Kenichan I dived many times for the ball. Man...</td>\n",
              "    </tr>\n",
              "    <tr>\n",
              "      <th>3</th>\n",
              "      <td>0</td>\n",
              "      <td>my whole body feels itchy and like its on fire</td>\n",
              "    </tr>\n",
              "    <tr>\n",
              "      <th>4</th>\n",
              "      <td>0</td>\n",
              "      <td>@nationwideclass no, it's not behaving at all....</td>\n",
              "    </tr>\n",
              "  </tbody>\n",
              "</table>\n",
              "</div>"
            ],
            "text/plain": [
              "   sentiment                                               text\n",
              "0          0  @switchfoot http://twitpic.com/2y1zl - Awww, t...\n",
              "1          0  is upset that he can't update his Facebook by ...\n",
              "2          0  @Kenichan I dived many times for the ball. Man...\n",
              "3          0    my whole body feels itchy and like its on fire \n",
              "4          0  @nationwideclass no, it's not behaving at all...."
            ]
          },
          "metadata": {
            "tags": []
          },
          "execution_count": 18
        }
      ]
    },
    {
      "cell_type": "markdown",
      "metadata": {
        "id": "3x4d52Iewf7l"
      },
      "source": [
        "- Criando feature e classe"
      ]
    },
    {
      "cell_type": "code",
      "metadata": {
        "id": "7e0wU09LslrO"
      },
      "source": [
        "# Feature dos textos\r\n",
        "X = data.iloc[:, 1].values\r\n",
        "\r\n",
        "# Classe\r\n",
        "y = data.iloc[:, 0].values"
      ],
      "execution_count": 19,
      "outputs": []
    },
    {
      "cell_type": "code",
      "metadata": {
        "colab": {
          "base_uri": "https://localhost:8080/"
        },
        "id": "AHoc_CBbwqbs",
        "outputId": "046a05a2-4a03-40b7-8358-43f9f1f60207"
      },
      "source": [
        "# Visualizando o array X\r\n",
        "X"
      ],
      "execution_count": 20,
      "outputs": [
        {
          "output_type": "execute_result",
          "data": {
            "text/plain": [
              "array([\"@switchfoot http://twitpic.com/2y1zl - Awww, that's a bummer.  You shoulda got David Carr of Third Day to do it. ;D\",\n",
              "       \"is upset that he can't update his Facebook by texting it... and might cry as a result  School today also. Blah!\",\n",
              "       '@Kenichan I dived many times for the ball. Managed to save 50%  The rest go out of bounds',\n",
              "       ..., 'Are you ready for your MoJo Makeover? Ask me for details ',\n",
              "       'Happy 38th Birthday to my boo of alll time!!! Tupac Amaru Shakur ',\n",
              "       'happy #charitytuesday @theNSPCC @SparksCharity @SpeakingUpH4H '],\n",
              "      dtype=object)"
            ]
          },
          "metadata": {
            "tags": []
          },
          "execution_count": 20
        }
      ]
    },
    {
      "cell_type": "code",
      "metadata": {
        "colab": {
          "base_uri": "https://localhost:8080/"
        },
        "id": "APbpTeR4w-tx",
        "outputId": "99e8057a-3ddc-4a7b-cc5c-b78ab2bed819"
      },
      "source": [
        "# Visualizando o array y\r\n",
        "y"
      ],
      "execution_count": 21,
      "outputs": [
        {
          "output_type": "execute_result",
          "data": {
            "text/plain": [
              "array([0, 0, 0, ..., 4, 4, 4])"
            ]
          },
          "metadata": {
            "tags": []
          },
          "execution_count": 21
        }
      ]
    },
    {
      "cell_type": "markdown",
      "metadata": {
        "id": "WbJMAKxZxcso"
      },
      "source": [
        "Como a base de dados é muito grande (1600000 registros) iremos separar uma amostra (15%) desta base para fazermos o treinamento. Assim, segue o código abaixo."
      ]
    },
    {
      "cell_type": "code",
      "metadata": {
        "id": "GPm2sxs4xq2L"
      },
      "source": [
        "# Importando a biblioteca\r\n",
        "from sklearn.model_selection import train_test_split\r\n",
        "\r\n",
        "# Pegando uma amostra da base original\r\n",
        "X, _, y, _ = train_test_split(X, y, test_size=0.85, stratify=y)"
      ],
      "execution_count": 22,
      "outputs": []
    },
    {
      "cell_type": "code",
      "metadata": {
        "colab": {
          "base_uri": "https://localhost:8080/"
        },
        "id": "Hv3y3MifyBjr",
        "outputId": "8faaba20-bd7b-4d82-ac60-28998f2a6e1e"
      },
      "source": [
        "# Visualizando o shape\r\n",
        "X.shape, y.shape"
      ],
      "execution_count": 23,
      "outputs": [
        {
          "output_type": "execute_result",
          "data": {
            "text/plain": [
              "((240000,), (240000,))"
            ]
          },
          "metadata": {
            "tags": []
          },
          "execution_count": 23
        }
      ]
    },
    {
      "cell_type": "code",
      "metadata": {
        "colab": {
          "base_uri": "https://localhost:8080/"
        },
        "id": "0to39AoIzffh",
        "outputId": "540de9e5-6d76-4c4d-a486-756e98efe680"
      },
      "source": [
        "# Valores únicos e suas quantidades\r\n",
        "unique, counts = np.unique(y, return_counts=True)\r\n",
        "unique, counts"
      ],
      "execution_count": 24,
      "outputs": [
        {
          "output_type": "execute_result",
          "data": {
            "text/plain": [
              "(array([0, 4]), array([120000, 120000]))"
            ]
          },
          "metadata": {
            "tags": []
          },
          "execution_count": 24
        }
      ]
    },
    {
      "cell_type": "markdown",
      "metadata": {
        "id": "x7rM6HwhO2Rn"
      },
      "source": [
        "### 3.3) Limpeza dos textos\r\n",
        "\r\n",
        "Nesta subção iremos limpar de fato os textos e para isso criaremos uma função que fará o trabalho. Para teste, usaremos um texto aleatório da base de dados."
      ]
    },
    {
      "cell_type": "code",
      "metadata": {
        "id": "6XOJwAm8zrIJ"
      },
      "source": [
        "# Criando a função\r\n",
        "def clean_tweets(tweet):\r\n",
        "  tweet = BeautifulSoup(tweet, 'lxml').get_text()\r\n",
        "  tweet = re.sub(r'@[A-Za-z0-9_]+', ' ', tweet)\r\n",
        "  tweet = re.sub(r'https?://[A-Za-z0-9./]+', ' ', tweet)\r\n",
        "  tweet = re.sub(r'[^A-Za-z.!?]', ' ', tweet)\r\n",
        "  tweet = re.sub(r' +', ' ', tweet).strip()\r\n",
        "  return tweet"
      ],
      "execution_count": 25,
      "outputs": []
    },
    {
      "cell_type": "code",
      "metadata": {
        "id": "g29tmhCDPIZu",
        "colab": {
          "base_uri": "https://localhost:8080/",
          "height": 35
        },
        "outputId": "4f7e93c5-3666-44e5-d06c-6b06dce18545"
      },
      "source": [
        "# Criando um texto qualquer para teste\r\n",
        "text = data['text'][0]\r\n",
        "text"
      ],
      "execution_count": 26,
      "outputs": [
        {
          "output_type": "execute_result",
          "data": {
            "application/vnd.google.colaboratory.intrinsic+json": {
              "type": "string"
            },
            "text/plain": [
              "\"@switchfoot http://twitpic.com/2y1zl - Awww, that's a bummer.  You shoulda got David Carr of Third Day to do it. ;D\""
            ]
          },
          "metadata": {
            "tags": []
          },
          "execution_count": 26
        }
      ]
    },
    {
      "cell_type": "code",
      "metadata": {
        "id": "z1izEKYvPQZM",
        "colab": {
          "base_uri": "https://localhost:8080/",
          "height": 35
        },
        "outputId": "c8ae7867-e359-4f39-dc2b-27b04d6363c4"
      },
      "source": [
        "# Testando a função\r\n",
        "text = clean_tweets(text)\r\n",
        "text"
      ],
      "execution_count": 27,
      "outputs": [
        {
          "output_type": "execute_result",
          "data": {
            "application/vnd.google.colaboratory.intrinsic+json": {
              "type": "string"
            },
            "text/plain": [
              "'Awww that s a bummer. You shoulda got David Carr of Third Day to do it. D'"
            ]
          },
          "metadata": {
            "tags": []
          },
          "execution_count": 27
        }
      ]
    },
    {
      "cell_type": "markdown",
      "metadata": {
        "id": "X8GrIxHZ8t3G"
      },
      "source": [
        "- Remoção de stop words\r\n",
        "\r\n",
        "Iremos aqui escrever uma função para remoção de stop words dos tweets."
      ]
    },
    {
      "cell_type": "code",
      "metadata": {
        "colab": {
          "base_uri": "https://localhost:8080/"
        },
        "id": "Isb5ezXA3UxI",
        "outputId": "4b4375d4-2560-4e19-84ee-e842e37486ad"
      },
      "source": [
        "# Criando um objeto para lingua inglesa\r\n",
        "nlp = sp.load('en')\r\n",
        "nlp"
      ],
      "execution_count": 28,
      "outputs": [
        {
          "output_type": "execute_result",
          "data": {
            "text/plain": [
              "<spacy.lang.en.English at 0x7fed2922d278>"
            ]
          },
          "metadata": {
            "tags": []
          },
          "execution_count": 28
        }
      ]
    },
    {
      "cell_type": "code",
      "metadata": {
        "colab": {
          "base_uri": "https://localhost:8080/"
        },
        "id": "9AULraYQ3dyX",
        "outputId": "a839642e-bc9a-4611-f4a9-3bfb625ffc8f"
      },
      "source": [
        "# Criando lista de stop words\r\n",
        "stop_words = sp.lang.en.STOP_WORDS\r\n",
        "print(stop_words)"
      ],
      "execution_count": 29,
      "outputs": [
        {
          "output_type": "stream",
          "text": [
            "{'if', 'quite', 'through', 'afterwards', 'may', 'namely', 'indeed', 'became', 'before', 'front', 'which', 'call', '‘re', 'something', 'he', 'ten', 'whole', '‘m', 'although', 'former', 'there', 'please', 'further', '’m', 'eleven', 'cannot', 'due', 'empty', 'several', 'doing', 'below', 'via', 'hereafter', 'should', 'none', 'among', 'well', 'keep', 'therefore', 'of', 'amount', 'are', 'thus', 'whatever', 'yourself', 'this', 'anyone', 'next', 'thereby', 'whereas', \"'d\", 'hers', 'because', 'formerly', 'top', 'some', '‘d', 're', 'just', 'have', 'when', 'twenty', 'herself', '‘s', 'then', 'behind', 'ourselves', 'its', 'otherwise', 'almost', 'one', 'four', 'neither', 'per', 'the', 'alone', 'another', 'others', 'beforehand', 'regarding', 'five', 'seeming', 'beside', 'throughout', 'already', 'still', 'a', 'might', 'being', 'here', 'nevertheless', 'me', 'either', 'eight', 'last', 'nor', 'six', 'twelve', 'various', 'about', 'each', 'however', 'must', 'somehow', 'using', 'did', 'or', 'were', 'does', 'very', 'his', 'across', \"'s\", 'somewhere', 'had', 'same', 'toward', 'put', 'therein', 'in', 'now', 'forty', 'no', 'enough', 'upon', \"n't\", 'be', 'much', 'though', 'ca', 'every', 'perhaps', 'show', 'nobody', 'besides', 'thereupon', 'whence', 'hereby', 'seemed', 'mine', 'nine', 'than', 'move', 'always', 'those', 'until', 'used', 'whereafter', \"'ll\", 'except', 'on', 'unless', 'take', 'them', 'us', 'into', 'name', 'her', 'out', 'why', 'whose', 'thereafter', 'wherever', 'made', 'under', 'again', '’ve', '’s', 'whenever', 'both', 'can', 'even', 'only', 'anywhere', 'whereby', 'above', 'more', 'least', 'these', 'myself', 'everyone', 'she', 'within', 'make', 'where', 'will', 'up', 'hence', 'yours', 'around', 'someone', 'over', 'is', 'full', 'sixty', 'thru', 'whether', 'give', '‘ll', 'himself', 'whom', 'an', 'else', 'noone', 'not', 'towards', 'anyway', 'between', 'most', 'mostly', 'once', 'yourselves', \"'re\", 'with', 'go', 'meanwhile', 'elsewhere', '’d', 'whither', 'at', 'been', 'thence', 'while', 'anyhow', 'seem', '‘ve', 'together', 'him', 'that', 'see', 'it', 'whoever', 'any', 'how', 'nothing', 'many', 'serious', 'you', 'seems', 'n’t', '’ll', 'fifteen', 'but', 'side', 'has', 'do', 'part', 'as', 'really', 'to', 'what', 'after', 'our', 'am', 'get', 'latterly', 'sometimes', 'all', 'against', 'and', 'onto', 'from', 'yet', \"'ve\", 'two', 'few', 'whereupon', 'without', 'itself', 'moreover', '’re', 'who', 'never', 'so', 'hundred', 'they', 'too', 'everywhere', 'rather', 'three', 'everything', 'anything', 'could', 'herein', 'such', 'was', 'by', 'amongst', 'done', 'third', 'wherein', 'fifty', 'hereupon', 'your', 'ever', 'for', \"'m\", 'other', 'less', 'becomes', 'during', 'off', 'sometime', 'would', 'first', 'we', 'their', 'beyond', 'themselves', 'bottom', 'nowhere', 'back', 'latter', 'own', 'since', 'my', 'often', 'n‘t', 'along', 'say', 'become', 'becoming', 'i', 'down', 'also', 'ours'}\n"
          ],
          "name": "stdout"
        }
      ]
    },
    {
      "cell_type": "code",
      "metadata": {
        "colab": {
          "base_uri": "https://localhost:8080/"
        },
        "id": "ksYfHVcm37Ru",
        "outputId": "7bc56f0d-dc77-40b9-8c36-c0d7c92fe650"
      },
      "source": [
        "# Contando total de stop words\r\n",
        "len(stop_words)"
      ],
      "execution_count": 30,
      "outputs": [
        {
          "output_type": "execute_result",
          "data": {
            "text/plain": [
              "326"
            ]
          },
          "metadata": {
            "tags": []
          },
          "execution_count": 30
        }
      ]
    },
    {
      "cell_type": "code",
      "metadata": {
        "id": "LV6FV-qS8s4k"
      },
      "source": [
        "# Função para remover stop words\r\n",
        "def remove_stop_words(tweet):\r\n",
        "  tweet = tweet.lower()\r\n",
        "  document = nlp(tweet)\r\n",
        "\r\n",
        "  words = [token.text for token in document]\r\n",
        "  words = [word for word in words if word not in stop_words \\\r\n",
        "           and word not in string.punctuation]\r\n",
        "  words = ' '.join(words)\r\n",
        "\r\n",
        "  return words"
      ],
      "execution_count": 31,
      "outputs": []
    },
    {
      "cell_type": "code",
      "metadata": {
        "colab": {
          "base_uri": "https://localhost:8080/",
          "height": 35
        },
        "id": "OMzT1R2v9EIy",
        "outputId": "106cde04-75a8-4880-f907-c5bfaf328e8b"
      },
      "source": [
        "remove_stop_words(text)"
      ],
      "execution_count": 32,
      "outputs": [
        {
          "output_type": "execute_result",
          "data": {
            "application/vnd.google.colaboratory.intrinsic+json": {
              "type": "string"
            },
            "text/plain": [
              "'awww s bummer shoulda got david carr day d'"
            ]
          },
          "metadata": {
            "tags": []
          },
          "execution_count": 32
        }
      ]
    },
    {
      "cell_type": "markdown",
      "metadata": {
        "id": "tAW-GdoHKPvA"
      },
      "source": [
        "Para realmente fazermos a limpeza dos textos iremos juntar as duas funções anteriores em apenas uma para otimizar este trabalho."
      ]
    },
    {
      "cell_type": "code",
      "metadata": {
        "id": "PtHSU1JtKY-0"
      },
      "source": [
        "# Criando a função final\r\n",
        "def clean_tweets2(tweet):\r\n",
        "  tweet = BeautifulSoup(tweet, 'lxml').get_text()\r\n",
        "  tweet = re.sub(r'@[A-Za-z0-9_]+', ' ', tweet)\r\n",
        "  tweet = re.sub(r'https?://[A-Za-z0-9./]+', ' ', tweet)\r\n",
        "  tweet = re.sub(r'[^A-Za-z.!?]', ' ', tweet)\r\n",
        "  tweet = re.sub(r' +', ' ', tweet).strip()\r\n",
        "\r\n",
        "  tweet = tweet.lower()\r\n",
        "  document = nlp(tweet)\r\n",
        "\r\n",
        "  words = [token.text for token in document]\r\n",
        "  words = [word for word in words if word not in stop_words \\\r\n",
        "           and word not in string.punctuation]\r\n",
        "  words = ' '.join(words)\r\n",
        "  return words"
      ],
      "execution_count": 33,
      "outputs": []
    },
    {
      "cell_type": "markdown",
      "metadata": {
        "id": "DwzxKtQBXa92"
      },
      "source": [
        "- Limpeza de todos os reviews"
      ]
    },
    {
      "cell_type": "markdown",
      "metadata": {
        "id": "QsyRE16EWKkn"
      },
      "source": [
        "Iremos testar a função acima."
      ]
    },
    {
      "cell_type": "code",
      "metadata": {
        "id": "D5re9PdQnpLY",
        "colab": {
          "base_uri": "https://localhost:8080/",
          "height": 35
        },
        "outputId": "21b85de4-9085-4a07-e4e9-9e1fb5f5b8ea"
      },
      "source": [
        "# Definindo a variável contendo um review\r\n",
        "text2 = data['text'][0]\r\n",
        "text2"
      ],
      "execution_count": 34,
      "outputs": [
        {
          "output_type": "execute_result",
          "data": {
            "application/vnd.google.colaboratory.intrinsic+json": {
              "type": "string"
            },
            "text/plain": [
              "\"@switchfoot http://twitpic.com/2y1zl - Awww, that's a bummer.  You shoulda got David Carr of Third Day to do it. ;D\""
            ]
          },
          "metadata": {
            "tags": []
          },
          "execution_count": 34
        }
      ]
    },
    {
      "cell_type": "code",
      "metadata": {
        "colab": {
          "base_uri": "https://localhost:8080/",
          "height": 35
        },
        "id": "awaStCjkV3bp",
        "outputId": "188d065e-b563-45de-b331-fe7a5a2d5f3f"
      },
      "source": [
        "# Aplicando a função acima\r\n",
        "text2 = clean_tweets2(text2)\r\n",
        "text2"
      ],
      "execution_count": 35,
      "outputs": [
        {
          "output_type": "execute_result",
          "data": {
            "application/vnd.google.colaboratory.intrinsic+json": {
              "type": "string"
            },
            "text/plain": [
              "'awww s bummer shoulda got david carr day d'"
            ]
          },
          "metadata": {
            "tags": []
          },
          "execution_count": 35
        }
      ]
    },
    {
      "cell_type": "markdown",
      "metadata": {
        "id": "He7cRE45Xp8A"
      },
      "source": [
        "Agora sim aplicaremos a função nos reviews."
      ]
    },
    {
      "cell_type": "code",
      "metadata": {
        "id": "tZ95GLFvXebU"
      },
      "source": [
        "# Criando variável com reviews limpos\r\n",
        "data_clean = [clean_tweets2(tweet) for tweet in X]"
      ],
      "execution_count": 36,
      "outputs": []
    },
    {
      "cell_type": "code",
      "metadata": {
        "colab": {
          "base_uri": "https://localhost:8080/"
        },
        "id": "BSDB22v8YU4v",
        "outputId": "9af6a378-8b55-419d-99e6-9181e01882e1"
      },
      "source": [
        "# Retornando alguns registros aleatoriamente\r\n",
        "for _ in range(10):\r\n",
        "  print(data_clean[random.randint(0, len(data_clean) - 1)])"
      ],
      "execution_count": 37,
      "outputs": [
        {
          "output_type": "stream",
          "text": [
            "definitely having nvidia problem macbook pro appt genius bar\n",
            "called eat lunch didn t answer\n",
            "hip hurts guess s time naproxen\n",
            "welcome\n",
            "wassup u morning\n",
            "ehh plan assignments tonight drain fingr hurts like got cut t ..\n",
            "bot type accounts win stuff\n",
            "got fucking retainer .... ugh m gning bed ..\n",
            "actionscript xml gurus want project plate time finish ll pay\n",
            "s raining internet connection f\n"
          ],
          "name": "stdout"
        }
      ]
    },
    {
      "cell_type": "markdown",
      "metadata": {
        "id": "-MAhhNyVlxzD"
      },
      "source": [
        "Uma outra alteração que devemos fazer é na variável y, uma vez que ela apresenta valores 0 e 4 para comentários negativos e positivos respectivamente. Então substituiremos por 0 e 1."
      ]
    },
    {
      "cell_type": "code",
      "metadata": {
        "colab": {
          "base_uri": "https://localhost:8080/"
        },
        "id": "Lrn3A25AmAfs",
        "outputId": "16b2ee12-085f-4449-f0e7-9c4afcabdc28"
      },
      "source": [
        "# Definindo a variável\r\n",
        "data_labels = y\r\n",
        "np.unique(data_labels)"
      ],
      "execution_count": 38,
      "outputs": [
        {
          "output_type": "execute_result",
          "data": {
            "text/plain": [
              "array([0, 4])"
            ]
          },
          "metadata": {
            "tags": []
          },
          "execution_count": 38
        }
      ]
    },
    {
      "cell_type": "code",
      "metadata": {
        "id": "yKUNXAcMmJDa"
      },
      "source": [
        "# Alterando de 4 para 1\r\n",
        "data_labels[data_labels == 4] = 1"
      ],
      "execution_count": 39,
      "outputs": []
    },
    {
      "cell_type": "code",
      "metadata": {
        "colab": {
          "base_uri": "https://localhost:8080/"
        },
        "id": "OUPr5cazmVCX",
        "outputId": "10098b01-823e-4d8b-a260-8132815c9a74"
      },
      "source": [
        "# Confirmando a alteração\r\n",
        "np.unique(data_labels)"
      ],
      "execution_count": 40,
      "outputs": [
        {
          "output_type": "execute_result",
          "data": {
            "text/plain": [
              "array([0, 1])"
            ]
          },
          "metadata": {
            "tags": []
          },
          "execution_count": 40
        }
      ]
    },
    {
      "cell_type": "markdown",
      "metadata": {
        "id": "LObluESmCITG"
      },
      "source": [
        "### 3.4) Tokenização\r\n",
        "\r\n",
        "O processo de tokenização consiste em converter todos os textos em números. Este processo é extremamente necessário uma vez que iremos trabalhar com algorítmos que não aceitam dados no formato \"string\"."
      ]
    },
    {
      "cell_type": "code",
      "metadata": {
        "id": "Z-Jq9eMYming"
      },
      "source": [
        "# Criando objeto para tokenização\r\n",
        "tokenizer = tfds.deprecated.text.SubwordTextEncoder.build_from_corpus(data_clean,\r\n",
        "                                                                      target_vocab_size=2**16)"
      ],
      "execution_count": 41,
      "outputs": []
    },
    {
      "cell_type": "code",
      "metadata": {
        "colab": {
          "base_uri": "https://localhost:8080/"
        },
        "id": "1kmV-9M-ZP_p",
        "outputId": "0ae567ca-085e-4099-f60e-c35517ff531a"
      },
      "source": [
        "# Verificando tamanho do vocabulário\r\n",
        "tokenizer.vocab_size"
      ],
      "execution_count": 42,
      "outputs": [
        {
          "output_type": "execute_result",
          "data": {
            "text/plain": [
              "51999"
            ]
          },
          "metadata": {
            "tags": []
          },
          "execution_count": 42
        }
      ]
    },
    {
      "cell_type": "markdown",
      "metadata": {
        "id": "JiftafNLZ85f"
      },
      "source": [
        "Note que iremos utilizar um vocabulário contendo 51912 palavras. \r\n",
        "\r\n",
        "A seguir iremos de fato tokenizar o vocabulário e para isso faremos um teste para verificar como funciona o processo."
      ]
    },
    {
      "cell_type": "code",
      "metadata": {
        "colab": {
          "base_uri": "https://localhost:8080/"
        },
        "id": "OKHoRMUUcHyZ",
        "outputId": "1a970104-a044-4534-fde9-29d10428db6a"
      },
      "source": [
        "# Criando id's de teste para texto qualquer\r\n",
        "ids = tokenizer.encode('i am happy')\r\n",
        "ids"
      ],
      "execution_count": 43,
      "outputs": [
        {
          "output_type": "execute_result",
          "data": {
            "text/plain": [
              "[254, 3533, 367]"
            ]
          },
          "metadata": {
            "tags": []
          },
          "execution_count": 43
        }
      ]
    },
    {
      "cell_type": "code",
      "metadata": {
        "colab": {
          "base_uri": "https://localhost:8080/",
          "height": 0
        },
        "id": "YCgSFidWgsef",
        "outputId": "a963a2a4-efc7-4df3-f072-13822395ac8a"
      },
      "source": [
        "# Decodificando os id's\r\n",
        "text = tokenizer.decode(ids)\r\n",
        "text"
      ],
      "execution_count": 44,
      "outputs": [
        {
          "output_type": "execute_result",
          "data": {
            "application/vnd.google.colaboratory.intrinsic+json": {
              "type": "string"
            },
            "text/plain": [
              "'i am happy'"
            ]
          },
          "metadata": {
            "tags": []
          },
          "execution_count": 44
        }
      ]
    },
    {
      "cell_type": "markdown",
      "metadata": {
        "id": "aEOqBTTBhJRd"
      },
      "source": [
        "Assim, notamos que nosso tokenizador está funcionando corretamente. Aplicaremos agora este mesmo processo para os comentários da nossa base."
      ]
    },
    {
      "cell_type": "code",
      "metadata": {
        "id": "oaauBaFDg40v"
      },
      "source": [
        "data_inputs = [tokenizer.encode(sentence) for sentence in data_clean]"
      ],
      "execution_count": 45,
      "outputs": []
    },
    {
      "cell_type": "code",
      "metadata": {
        "id": "EQvkcV8ihlQS",
        "colab": {
          "base_uri": "https://localhost:8080/"
        },
        "outputId": "50f590ee-d2a7-48ed-f67b-027f2dae3545"
      },
      "source": [
        "# Retornando alguns registros aleatoriamente após tokenização\r\n",
        "for _ in range(10):\r\n",
        "  print(data_inputs[random.randint(0, len(data_inputs) - 1)])"
      ],
      "execution_count": 46,
      "outputs": [
        {
          "output_type": "stream",
          "text": [
            "[26, 3699, 957, 593, 705, 607, 708, 593, 547, 4, 614, 51855]\n",
            "[32, 19, 1135, 1303, 704, 154, 266, 80, 2226]\n",
            "[642, 935]\n",
            "[8106, 30709, 30514, 21, 13, 3, 2, 8554, 1, 154, 2055, 31, 756, 475, 7, 1507]\n",
            "[47832, 27, 97, 3, 1939, 51843]\n",
            "[11, 1071, 31009, 6, 1106, 6, 1, 3299, 2655]\n",
            "[56, 1945, 252, 738, 2216, 2114, 960, 852, 201, 1285]\n",
            "[1, 607, 13, 3, 7, 2326, 112, 23, 1727]\n",
            "[194, 2, 1304]\n",
            "[296, 4318, 1748, 151, 21, 4174, 2749, 181, 2038, 5692, 941]\n"
          ],
          "name": "stdout"
        }
      ]
    },
    {
      "cell_type": "markdown",
      "metadata": {
        "id": "N56fH_Nx8dvP"
      },
      "source": [
        "### 3.5) Padding (preenchimento)\r\n",
        "\r\n",
        "Na última subseção fizemos a tokenização dos tweets e obtemos cada um deles na forma de id's, com cada palavra tendo seu id único. Mas note do último resultado que, dependendo do tamanho, o tweet pode ter números diferentes de id's. Desta forma, teremos que deixar todos as listas representando os tokens com o mesmo tamanho e para isso faremos um processo conhecido como ***padding*** (ou simplesmente preenchimento) que consiste igualar os seus tamanhos apenas acrescentando zeros.\r\n",
        "\r\n",
        "Assim, esta subseção será reservada para este fim."
      ]
    },
    {
      "cell_type": "code",
      "metadata": {
        "colab": {
          "base_uri": "https://localhost:8080/"
        },
        "id": "FuLGiUq38ir1",
        "outputId": "d5adf5b5-b75c-461b-ee87-b05751d829a5"
      },
      "source": [
        "# Pegando a sentença com mais caracteres\r\n",
        "max_len = max([len(sentence) for sentence in data_inputs])\r\n",
        "max_len"
      ],
      "execution_count": 47,
      "outputs": [
        {
          "output_type": "execute_result",
          "data": {
            "text/plain": [
              "64"
            ]
          },
          "metadata": {
            "tags": []
          },
          "execution_count": 47
        }
      ]
    },
    {
      "cell_type": "code",
      "metadata": {
        "id": "_fcD1moO-2lA"
      },
      "source": [
        "# Fazendo o preenchimento\r\n",
        "data_inputs = tf.keras.preprocessing.sequence.pad_sequences(data_inputs,\r\n",
        "                                                            value=0,\r\n",
        "                                                            padding='post',\r\n",
        "                                                            maxlen=max_len)"
      ],
      "execution_count": 48,
      "outputs": []
    },
    {
      "cell_type": "code",
      "metadata": {
        "colab": {
          "base_uri": "https://localhost:8080/"
        },
        "id": "000Ew3N4_193",
        "outputId": "151abc30-8b27-4507-8459-52780f891faf"
      },
      "source": [
        "# Retornando alguns registros aleatoriamente após padding\r\n",
        "for _ in range(10):\r\n",
        "  print(data_inputs[random.randint(0, len(data_inputs) - 1)])"
      ],
      "execution_count": 49,
      "outputs": [
        {
          "output_type": "stream",
          "text": [
            "[  775    13     3   605   318   363   308 12753  4548     0     0     0\n",
            "     0     0     0     0     0     0     0     0     0     0     0     0\n",
            "     0     0     0     0     0     0     0     0     0     0     0     0\n",
            "     0     0     0     0     0     0     0     0     0     0     0     0\n",
            "     0     0     0     0     0     0     0     0     0     0     0     0\n",
            "     0     0     0     0]\n",
            "[ 106 2965  234  263   79  845   22 9058 5520 4902  335    0    0    0\n",
            "    0    0    0    0    0    0    0    0    0    0    0    0    0    0\n",
            "    0    0    0    0    0    0    0    0    0    0    0    0    0    0\n",
            "    0    0    0    0    0    0    0    0    0    0    0    0    0    0\n",
            "    0    0    0    0    0    0    0    0]\n",
            "[   26 16351 34777  8022     4  1582     0     0     0     0     0     0\n",
            "     0     0     0     0     0     0     0     0     0     0     0     0\n",
            "     0     0     0     0     0     0     0     0     0     0     0     0\n",
            "     0     0     0     0     0     0     0     0     0     0     0     0\n",
            "     0     0     0     0     0     0     0     0     0     0     0     0\n",
            "     0     0     0     0]\n",
            "[ 2605  7132 16113  5427  2600  2106   574   286   848     7   650   239\n",
            "  3686     0     0     0     0     0     0     0     0     0     0     0\n",
            "     0     0     0     0     0     0     0     0     0     0     0     0\n",
            "     0     0     0     0     0     0     0     0     0     0     0     0\n",
            "     0     0     0     0     0     0     0     0     0     0     0     0\n",
            "     0     0     0     0]\n",
            "[   12 11879 38888  7332   807  5950 30370  7894   116   195  2163  5921\n",
            "  1000     0     0     0     0     0     0     0     0     0     0     0\n",
            "     0     0     0     0     0     0     0     0     0     0     0     0\n",
            "     0     0     0     0     0     0     0     0     0     0     0     0\n",
            "     0     0     0     0     0     0     0     0     0     0     0     0\n",
            "     0     0     0     0]\n",
            "[  12 3958    0    0    0    0    0    0    0    0    0    0    0    0\n",
            "    0    0    0    0    0    0    0    0    0    0    0    0    0    0\n",
            "    0    0    0    0    0    0    0    0    0    0    0    0    0    0\n",
            "    0    0    0    0    0    0    0    0    0    0    0    0    0    0\n",
            "    0    0    0    0    0    0    0    0]\n",
            "[6848 4866 1139    0    0    0    0    0    0    0    0    0    0    0\n",
            "    0    0    0    0    0    0    0    0    0    0    0    0    0    0\n",
            "    0    0    0    0    0    0    0    0    0    0    0    0    0    0\n",
            "    0    0    0    0    0    0    0    0    0    0    0    0    0    0\n",
            "    0    0    0    0    0    0    0    0]\n",
            "[   3  415    3 2130  520  364    0    0    0    0    0    0    0    0\n",
            "    0    0    0    0    0    0    0    0    0    0    0    0    0    0\n",
            "    0    0    0    0    0    0    0    0    0    0    0    0    0    0\n",
            "    0    0    0    0    0    0    0    0    0    0    0    0    0    0\n",
            "    0    0    0    0    0    0    0    0]\n",
            "[  2 620   0   0   0   0   0   0   0   0   0   0   0   0   0   0   0   0\n",
            "   0   0   0   0   0   0   0   0   0   0   0   0   0   0   0   0   0   0\n",
            "   0   0   0   0   0   0   0   0   0   0   0   0   0   0   0   0   0   0\n",
            "   0   0   0   0   0   0   0   0   0   0]\n",
            "[ 2730  2730   171 23507  8546  3423     0     0     0     0     0     0\n",
            "     0     0     0     0     0     0     0     0     0     0     0     0\n",
            "     0     0     0     0     0     0     0     0     0     0     0     0\n",
            "     0     0     0     0     0     0     0     0     0     0     0     0\n",
            "     0     0     0     0     0     0     0     0     0     0     0     0\n",
            "     0     0     0     0]\n"
          ],
          "name": "stdout"
        }
      ]
    },
    {
      "cell_type": "markdown",
      "metadata": {
        "id": "8CjbzhVjAsyl"
      },
      "source": [
        "### 3.5) Divisão da base de dados entre treinamento e teste\r\n",
        "\r\n",
        "Agora iremos utilizar a base finalizada acima para dividi-la em bases de treinamento e teste."
      ]
    },
    {
      "cell_type": "code",
      "metadata": {
        "id": "6HZHQ7ScA0kt"
      },
      "source": [
        "# Fazendo a divisão da base\r\n",
        "train_inputs, test_inputs, train_labels, test_labels = train_test_split(data_inputs,\r\n",
        "                                                                        data_labels,\r\n",
        "                                                                        test_size=.3,\r\n",
        "                                                                        stratify=data_labels)"
      ],
      "execution_count": 50,
      "outputs": []
    },
    {
      "cell_type": "code",
      "metadata": {
        "id": "rU4VASyYD4qb",
        "colab": {
          "base_uri": "https://localhost:8080/"
        },
        "outputId": "9f75019a-3544-4e68-8130-d15896618a47"
      },
      "source": [
        "# Visualizando um resultado\r\n",
        "train_inputs[0]"
      ],
      "execution_count": 51,
      "outputs": [
        {
          "output_type": "execute_result",
          "data": {
            "text/plain": [
              "array([  16,  364,    6,   25,  338, 2239,    0,    0,    0,    0,    0,\n",
              "          0,    0,    0,    0,    0,    0,    0,    0,    0,    0,    0,\n",
              "          0,    0,    0,    0,    0,    0,    0,    0,    0,    0,    0,\n",
              "          0,    0,    0,    0,    0,    0,    0,    0,    0,    0,    0,\n",
              "          0,    0,    0,    0,    0,    0,    0,    0,    0,    0,    0,\n",
              "          0,    0,    0,    0,    0,    0,    0,    0,    0], dtype=int32)"
            ]
          },
          "metadata": {
            "tags": []
          },
          "execution_count": 51
        }
      ]
    },
    {
      "cell_type": "code",
      "metadata": {
        "id": "v-G-H8Y1D_zY",
        "colab": {
          "base_uri": "https://localhost:8080/"
        },
        "outputId": "3e24f82f-1e5f-40fb-e740-541a557bcc52"
      },
      "source": [
        "# Visualizando o shape dos dados de treino\r\n",
        "train_inputs.shape, train_labels.shape"
      ],
      "execution_count": 52,
      "outputs": [
        {
          "output_type": "execute_result",
          "data": {
            "text/plain": [
              "((168000, 64), (168000,))"
            ]
          },
          "metadata": {
            "tags": []
          },
          "execution_count": 52
        }
      ]
    },
    {
      "cell_type": "code",
      "metadata": {
        "id": "Ja9innZtEgtT",
        "colab": {
          "base_uri": "https://localhost:8080/"
        },
        "outputId": "1e9cf8a2-c084-4bf1-9762-006a461c608f"
      },
      "source": [
        "# Visualizando o shape dos dados de teste\r\n",
        "test_inputs.shape, test_labels.shape"
      ],
      "execution_count": 53,
      "outputs": [
        {
          "output_type": "execute_result",
          "data": {
            "text/plain": [
              "((72000, 64), (72000,))"
            ]
          },
          "metadata": {
            "tags": []
          },
          "execution_count": 53
        }
      ]
    },
    {
      "cell_type": "markdown",
      "metadata": {
        "id": "FGrMEBZUNXl7"
      },
      "source": [
        "## 4) Construção do modelo\r\n",
        "\r\n",
        "Nesta etapa iremos de fato fazer a construção do modelo que irá receber os tweets tratados anteriormente."
      ]
    },
    {
      "cell_type": "code",
      "metadata": {
        "id": "OA8uedzsNb3X"
      },
      "source": [
        ""
      ],
      "execution_count": null,
      "outputs": []
    }
  ]
}